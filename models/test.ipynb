{
 "cells": [
  {
   "cell_type": "code",
   "execution_count": 45,
   "metadata": {
    "ExecuteTime": {
     "end_time": "2018-12-14T13:07:51.949081Z",
     "start_time": "2018-12-14T13:07:51.615508Z"
    }
   },
   "outputs": [
    {
     "name": "stdout",
     "output_type": "stream",
     "text": [
      "2018-02-11 00:00:00,2319.43\r\n",
      "2018-02-11 00:05:00,2300.97\r\n",
      "2018-02-11 00:10:00,2298.15\r\n",
      "2018-02-11 00:15:00,2267.14\r\n",
      "2018-02-11 00:20:00,2257.94\r\n",
      "2018-02-11 00:25:00,2255.16\r\n",
      "2018-02-11 00:30:00,2227.82\r\n",
      "2018-02-11 00:35:00,2215.73\r\n",
      "2018-02-11 00:40:00,2202.94\r\n",
      "2018-02-11 00:45:00,2192.79\r\n"
     ]
    }
   ],
   "source": [
    "!head monthdata.csv"
   ]
  },
  {
   "cell_type": "code",
   "execution_count": 46,
   "metadata": {
    "ExecuteTime": {
     "end_time": "2018-12-14T13:08:09.893472Z",
     "start_time": "2018-12-14T13:08:09.722180Z"
    }
   },
   "outputs": [
    {
     "name": "stdout",
     "output_type": "stream",
     "text": [
      "2018-01-12 23:10:00,1979.1\r\n",
      "2018-01-12 23:15:00,1933.21\r\n",
      "2018-01-12 23:20:00,1936.22\r\n",
      "2018-01-12 23:25:00,1913.13\r\n",
      "2018-01-12 23:30:00,1892.44\r\n",
      "2018-01-12 23:35:00,1865.02\r\n",
      "2018-01-12 23:40:00,1832.58\r\n",
      "2018-01-12 23:45:00,1816.05\r\n",
      "2018-01-12 23:50:00,1778.73\r\n",
      "2018-01-12 23:55:00,1776.77\r\n"
     ]
    }
   ],
   "source": [
    "!tail monthdata.csv"
   ]
  },
  {
   "cell_type": "code",
   "execution_count": 47,
   "metadata": {
    "ExecuteTime": {
     "end_time": "2018-12-14T13:09:40.071700Z",
     "start_time": "2018-12-14T13:09:40.065875Z"
    }
   },
   "outputs": [],
   "source": [
    "#!/home/eee/ug/15084015/miniconda3/envs/TF/bin/python\n",
    "\"\"\"\n",
    "The script is to run half an hour after midnight. Scrap last day's data and update monthsdata.csv\n",
    "\"\"\"\n",
    "import os\n",
    "import logging\n",
    "from math import sqrt\n",
    "from subprocess import call\n",
    "from datetime import datetime, timedelta\n",
    "import csv\n",
    "import requests\n",
    "import numpy as np\n",
    "import pandas as pd\n",
    "import statsmodels.api as sm\n",
    "from bs4 import BeautifulSoup\n",
    "from statsmodels.tsa.arima_model import ARIMAResults\n"
   ]
  },
  {
   "cell_type": "code",
   "execution_count": 48,
   "metadata": {
    "ExecuteTime": {
     "end_time": "2018-12-14T13:09:51.592823Z",
     "start_time": "2018-12-14T13:09:51.587412Z"
    }
   },
   "outputs": [],
   "source": [
    "\n",
    "\n",
    "# to store the log in a file called 'arima_log.txt'\n",
    "logging.basicConfig(\n",
    "    level=logging.INFO,\n",
    "    format=\"%(asctime)s %(message)s\",\n",
    ")\n",
    "logger = logging.getLogger()\n",
    "console = logging.StreamHandler()\n",
    "logger.addHandler(console)\n"
   ]
  },
  {
   "cell_type": "code",
   "execution_count": 120,
   "metadata": {
    "ExecuteTime": {
     "end_time": "2018-12-14T13:37:47.213563Z",
     "start_time": "2018-12-14T13:37:47.209586Z"
    }
   },
   "outputs": [],
   "source": [
    "\n",
    "\n",
    "def get_data():\n",
    "    return pd.read_csv(\n",
    "        \"monthdata.csv\",\n",
    "        header=None,\n",
    "        index_col=[\"datetime\"],\n",
    "        names=[\"datetime\", \"load\"],\n",
    "        parse_dates=[\"datetime\"],\n",
    "        infer_datetime_format=True,\n",
    "    )\n",
    "\n"
   ]
  },
  {
   "cell_type": "code",
   "execution_count": 122,
   "metadata": {
    "ExecuteTime": {
     "end_time": "2018-12-14T13:37:49.426289Z",
     "start_time": "2018-12-14T13:37:49.245295Z"
    }
   },
   "outputs": [
    {
     "name": "stderr",
     "output_type": "stream",
     "text": [
      "Yesterday\"s load already scrapped!\n",
      "Yesterday\"s load already scrapped!\n"
     ]
    }
   ],
   "source": [
    "if os.path.exists(\"monthdata.csv\"):\n",
    "    data = get_data()\n",
    "    # import pdb; pdb.set_trace()\n",
    "    if (datetime.today() - timedelta(1)).date().strftime('%Y-%m-%d') != str(data.index.date[-1]):  # yesterdays data not present, scrap it\n",
    "        # only need to scrap for yesterday's data and append it to already existing file\n",
    "        yesterday = datetime.today() - timedelta(1)\n",
    "        yesterday = yesterday.strftime(\"%d/%m/%Y\")\n",
    "        get_load_data(yesterday)\n",
    "        # re read updated monthdata.csv and clip data in monthdata.csv to last 30 days only\n",
    "        data = get_data()\n",
    "        day_to_clip_from = datetime.today() - timedelta(30)\n",
    "        logger.info(\"Clipping data from \" + day_to_clip_from.strftime(\"%d/%m/%Y\"))\n",
    "        data = data[day_to_clip_from.strftime(\"%d/%m/%Y\"):]\n",
    "        data.to_csv(\n",
    "            \"monthdata.csv\", header=False\n",
    "        )  # IMP: don't add any header to the monthdata.csv\n",
    "    else:\n",
    "        logger.info('Yesterday\"s load already scrapped!')\n",
    "else:  # scrap for last 30 days, prepare monthdata.csv\n",
    "    for i in range(31, 0, -1):\n",
    "        yesterday = datetime.today() - timedelta(i)\n",
    "        yesterday = yesterday.strftime(\"%d/%m/%Y\")\n",
    "        get_load_data(yesterday)\n",
    "    data = get_data()\n"
   ]
  },
  {
   "cell_type": "code",
   "execution_count": 121,
   "metadata": {
    "ExecuteTime": {
     "end_time": "2018-12-14T13:37:48.349792Z",
     "start_time": "2018-12-14T13:37:48.336055Z"
    }
   },
   "outputs": [
    {
     "data": {
      "text/plain": [
       "datetime.date(2018, 12, 13)"
      ]
     },
     "execution_count": 121,
     "metadata": {},
     "output_type": "execute_result"
    }
   ],
   "source": [
    "data.index.date[-1]"
   ]
  },
  {
   "cell_type": "code",
   "execution_count": 115,
   "metadata": {
    "ExecuteTime": {
     "end_time": "2018-12-14T13:35:34.006575Z",
     "start_time": "2018-12-14T13:35:34.000720Z"
    }
   },
   "outputs": [
    {
     "data": {
      "text/plain": [
       "datetime.date(2018, 12, 13)"
      ]
     },
     "execution_count": 115,
     "metadata": {},
     "output_type": "execute_result"
    }
   ],
   "source": [
    "(datetime.today() - timedelta(1)).date()"
   ]
  },
  {
   "cell_type": "code",
   "execution_count": 116,
   "metadata": {
    "ExecuteTime": {
     "end_time": "2018-12-14T13:35:57.498170Z",
     "start_time": "2018-12-14T13:35:57.490046Z"
    }
   },
   "outputs": [
    {
     "data": {
      "text/plain": [
       "True"
      ]
     },
     "execution_count": 116,
     "metadata": {},
     "output_type": "execute_result"
    }
   ],
   "source": [
    "(datetime.today() - timedelta(1)).date() in data.index.date"
   ]
  },
  {
   "cell_type": "code",
   "execution_count": 117,
   "metadata": {
    "ExecuteTime": {
     "end_time": "2018-12-14T13:36:10.455516Z",
     "start_time": "2018-12-14T13:36:10.448315Z"
    }
   },
   "outputs": [
    {
     "data": {
      "text/plain": [
       "True"
      ]
     },
     "execution_count": 117,
     "metadata": {},
     "output_type": "execute_result"
    }
   ],
   "source": [
    "(datetime.today() - timedelta(1)).date().strftime('%Y-%m-%d') == str(data.index.date[-1])"
   ]
  },
  {
   "cell_type": "code",
   "execution_count": 108,
   "metadata": {
    "ExecuteTime": {
     "end_time": "2018-12-14T13:32:48.655082Z",
     "start_time": "2018-12-14T13:32:48.553232Z"
    }
   },
   "outputs": [],
   "source": [
    "data = get_data()\n",
    "\n",
    "# exit()\n"
   ]
  },
  {
   "cell_type": "code",
   "execution_count": 109,
   "metadata": {
    "ExecuteTime": {
     "end_time": "2018-12-14T13:32:50.625507Z",
     "start_time": "2018-12-14T13:32:50.615131Z"
    }
   },
   "outputs": [
    {
     "data": {
      "text/html": [
       "<div>\n",
       "<style scoped>\n",
       "    .dataframe tbody tr th:only-of-type {\n",
       "        vertical-align: middle;\n",
       "    }\n",
       "\n",
       "    .dataframe tbody tr th {\n",
       "        vertical-align: top;\n",
       "    }\n",
       "\n",
       "    .dataframe thead th {\n",
       "        text-align: right;\n",
       "    }\n",
       "</style>\n",
       "<table border=\"1\" class=\"dataframe\">\n",
       "  <thead>\n",
       "    <tr style=\"text-align: right;\">\n",
       "      <th></th>\n",
       "      <th>load</th>\n",
       "    </tr>\n",
       "    <tr>\n",
       "      <th>datetime</th>\n",
       "      <th></th>\n",
       "    </tr>\n",
       "  </thead>\n",
       "  <tbody>\n",
       "    <tr>\n",
       "      <th>2018-11-13 00:00:00</th>\n",
       "      <td>1905.57</td>\n",
       "    </tr>\n",
       "    <tr>\n",
       "      <th>2018-11-13 00:05:00</th>\n",
       "      <td>1886.34</td>\n",
       "    </tr>\n",
       "    <tr>\n",
       "      <th>2018-11-13 00:10:00</th>\n",
       "      <td>1844.60</td>\n",
       "    </tr>\n",
       "    <tr>\n",
       "      <th>2018-11-13 00:15:00</th>\n",
       "      <td>1872.64</td>\n",
       "    </tr>\n",
       "    <tr>\n",
       "      <th>2018-11-13 00:20:00</th>\n",
       "      <td>1820.45</td>\n",
       "    </tr>\n",
       "  </tbody>\n",
       "</table>\n",
       "</div>"
      ],
      "text/plain": [
       "                        load\n",
       "datetime                    \n",
       "2018-11-13 00:00:00  1905.57\n",
       "2018-11-13 00:05:00  1886.34\n",
       "2018-11-13 00:10:00  1844.60\n",
       "2018-11-13 00:15:00  1872.64\n",
       "2018-11-13 00:20:00  1820.45"
      ]
     },
     "execution_count": 109,
     "metadata": {},
     "output_type": "execute_result"
    }
   ],
   "source": [
    "data.head()"
   ]
  },
  {
   "cell_type": "code",
   "execution_count": 110,
   "metadata": {
    "ExecuteTime": {
     "end_time": "2018-12-14T13:32:55.667764Z",
     "start_time": "2018-12-14T13:32:55.658172Z"
    }
   },
   "outputs": [
    {
     "data": {
      "text/html": [
       "<div>\n",
       "<style scoped>\n",
       "    .dataframe tbody tr th:only-of-type {\n",
       "        vertical-align: middle;\n",
       "    }\n",
       "\n",
       "    .dataframe tbody tr th {\n",
       "        vertical-align: top;\n",
       "    }\n",
       "\n",
       "    .dataframe thead th {\n",
       "        text-align: right;\n",
       "    }\n",
       "</style>\n",
       "<table border=\"1\" class=\"dataframe\">\n",
       "  <thead>\n",
       "    <tr style=\"text-align: right;\">\n",
       "      <th></th>\n",
       "      <th>load</th>\n",
       "    </tr>\n",
       "    <tr>\n",
       "      <th>datetime</th>\n",
       "      <th></th>\n",
       "    </tr>\n",
       "  </thead>\n",
       "  <tbody>\n",
       "    <tr>\n",
       "      <th>2018-12-13 23:35:00</th>\n",
       "      <td>1953.89</td>\n",
       "    </tr>\n",
       "    <tr>\n",
       "      <th>2018-12-13 23:40:00</th>\n",
       "      <td>1928.33</td>\n",
       "    </tr>\n",
       "    <tr>\n",
       "      <th>2018-12-13 23:45:00</th>\n",
       "      <td>1918.94</td>\n",
       "    </tr>\n",
       "    <tr>\n",
       "      <th>2018-12-13 23:50:00</th>\n",
       "      <td>1882.72</td>\n",
       "    </tr>\n",
       "    <tr>\n",
       "      <th>2018-12-13 23:55:00</th>\n",
       "      <td>1862.48</td>\n",
       "    </tr>\n",
       "  </tbody>\n",
       "</table>\n",
       "</div>"
      ],
      "text/plain": [
       "                        load\n",
       "datetime                    \n",
       "2018-12-13 23:35:00  1953.89\n",
       "2018-12-13 23:40:00  1928.33\n",
       "2018-12-13 23:45:00  1918.94\n",
       "2018-12-13 23:50:00  1882.72\n",
       "2018-12-13 23:55:00  1862.48"
      ]
     },
     "execution_count": 110,
     "metadata": {},
     "output_type": "execute_result"
    }
   ],
   "source": [
    "data.tail()"
   ]
  },
  {
   "cell_type": "code",
   "execution_count": 52,
   "metadata": {
    "ExecuteTime": {
     "end_time": "2018-12-14T13:11:38.974223Z",
     "start_time": "2018-12-14T13:11:38.953798Z"
    }
   },
   "outputs": [
    {
     "name": "stdout",
     "output_type": "stream",
     "text": [
      "<class 'pandas.core.frame.DataFrame'>\n",
      "DatetimeIndex: 9792 entries, 2018-02-11 00:00:00 to 2018-01-12 23:55:00\n",
      "Data columns (total 1 columns):\n",
      "load    9792 non-null float64\n",
      "dtypes: float64(1)\n",
      "memory usage: 153.0 KB\n"
     ]
    }
   ],
   "source": [
    "data.info()"
   ]
  },
  {
   "cell_type": "code",
   "execution_count": 80,
   "metadata": {
    "ExecuteTime": {
     "end_time": "2018-12-14T13:18:40.136376Z",
     "start_time": "2018-12-14T13:18:40.133364Z"
    }
   },
   "outputs": [],
   "source": [
    "# data[list(set(data.index.date))[0].strftime(\"%d/%m/%Y\")]"
   ]
  },
  {
   "cell_type": "code",
   "execution_count": 99,
   "metadata": {
    "ExecuteTime": {
     "end_time": "2018-12-14T13:26:48.019373Z",
     "start_time": "2018-12-14T13:26:48.007842Z"
    }
   },
   "outputs": [
    {
     "data": {
      "text/plain": [
       "5.0"
      ]
     },
     "execution_count": 99,
     "metadata": {},
     "output_type": "execute_result"
    }
   ],
   "source": [
    "1440/288"
   ]
  },
  {
   "cell_type": "code",
   "execution_count": 98,
   "metadata": {
    "ExecuteTime": {
     "end_time": "2018-12-14T13:26:31.413247Z",
     "start_time": "2018-12-14T13:26:31.407736Z"
    }
   },
   "outputs": [
    {
     "data": {
      "text/plain": [
       "(1440, 1)"
      ]
     },
     "execution_count": 98,
     "metadata": {},
     "output_type": "execute_result"
    }
   ],
   "source": [
    "data['2018-01-12']"
   ]
  },
  {
   "cell_type": "code",
   "execution_count": 106,
   "metadata": {
    "ExecuteTime": {
     "end_time": "2018-12-14T13:29:48.992204Z",
     "start_time": "2018-12-14T13:29:48.898948Z"
    }
   },
   "outputs": [
    {
     "data": {
      "text/html": [
       "<div>\n",
       "<style scoped>\n",
       "    .dataframe tbody tr th:only-of-type {\n",
       "        vertical-align: middle;\n",
       "    }\n",
       "\n",
       "    .dataframe tbody tr th {\n",
       "        vertical-align: top;\n",
       "    }\n",
       "\n",
       "    .dataframe thead th {\n",
       "        text-align: right;\n",
       "    }\n",
       "</style>\n",
       "<table border=\"1\" class=\"dataframe\">\n",
       "  <thead>\n",
       "    <tr style=\"text-align: right;\">\n",
       "      <th></th>\n",
       "      <th>load</th>\n",
       "    </tr>\n",
       "    <tr>\n",
       "      <th>datetime</th>\n",
       "      <th></th>\n",
       "    </tr>\n",
       "  </thead>\n",
       "  <tbody>\n",
       "    <tr>\n",
       "      <th>2018-01-12 00:00:00</th>\n",
       "      <td>1854.58</td>\n",
       "    </tr>\n",
       "    <tr>\n",
       "      <th>2018-01-12 00:05:00</th>\n",
       "      <td>1843.90</td>\n",
       "    </tr>\n",
       "    <tr>\n",
       "      <th>2018-01-12 00:10:00</th>\n",
       "      <td>1808.62</td>\n",
       "    </tr>\n",
       "    <tr>\n",
       "      <th>2018-01-12 00:15:00</th>\n",
       "      <td>1814.96</td>\n",
       "    </tr>\n",
       "    <tr>\n",
       "      <th>2018-01-12 00:20:00</th>\n",
       "      <td>1803.68</td>\n",
       "    </tr>\n",
       "    <tr>\n",
       "      <th>2018-01-12 00:25:00</th>\n",
       "      <td>1802.24</td>\n",
       "    </tr>\n",
       "    <tr>\n",
       "      <th>2018-01-12 00:30:00</th>\n",
       "      <td>1778.68</td>\n",
       "    </tr>\n",
       "    <tr>\n",
       "      <th>2018-01-12 00:35:00</th>\n",
       "      <td>1746.63</td>\n",
       "    </tr>\n",
       "    <tr>\n",
       "      <th>2018-01-12 00:40:00</th>\n",
       "      <td>1754.35</td>\n",
       "    </tr>\n",
       "    <tr>\n",
       "      <th>2018-01-12 00:45:00</th>\n",
       "      <td>1739.21</td>\n",
       "    </tr>\n",
       "    <tr>\n",
       "      <th>2018-01-12 00:50:00</th>\n",
       "      <td>1714.98</td>\n",
       "    </tr>\n",
       "    <tr>\n",
       "      <th>2018-01-12 00:55:00</th>\n",
       "      <td>1717.57</td>\n",
       "    </tr>\n",
       "    <tr>\n",
       "      <th>2018-01-12 01:00:00</th>\n",
       "      <td>1697.99</td>\n",
       "    </tr>\n",
       "    <tr>\n",
       "      <th>2018-01-12 01:05:00</th>\n",
       "      <td>1682.51</td>\n",
       "    </tr>\n",
       "    <tr>\n",
       "      <th>2018-01-12 01:10:00</th>\n",
       "      <td>1665.43</td>\n",
       "    </tr>\n",
       "    <tr>\n",
       "      <th>2018-01-12 01:15:00</th>\n",
       "      <td>1667.19</td>\n",
       "    </tr>\n",
       "    <tr>\n",
       "      <th>2018-01-12 01:20:00</th>\n",
       "      <td>1655.54</td>\n",
       "    </tr>\n",
       "    <tr>\n",
       "      <th>2018-01-12 01:25:00</th>\n",
       "      <td>1652.77</td>\n",
       "    </tr>\n",
       "    <tr>\n",
       "      <th>2018-01-12 01:30:00</th>\n",
       "      <td>1650.59</td>\n",
       "    </tr>\n",
       "    <tr>\n",
       "      <th>2018-01-12 01:35:00</th>\n",
       "      <td>1641.38</td>\n",
       "    </tr>\n",
       "    <tr>\n",
       "      <th>2018-01-12 01:40:00</th>\n",
       "      <td>1648.52</td>\n",
       "    </tr>\n",
       "    <tr>\n",
       "      <th>2018-01-12 01:45:00</th>\n",
       "      <td>1634.36</td>\n",
       "    </tr>\n",
       "    <tr>\n",
       "      <th>2018-01-12 01:50:00</th>\n",
       "      <td>1628.73</td>\n",
       "    </tr>\n",
       "    <tr>\n",
       "      <th>2018-01-12 01:55:00</th>\n",
       "      <td>1623.99</td>\n",
       "    </tr>\n",
       "    <tr>\n",
       "      <th>2018-01-12 02:00:00</th>\n",
       "      <td>1621.12</td>\n",
       "    </tr>\n",
       "    <tr>\n",
       "      <th>2018-01-12 02:05:00</th>\n",
       "      <td>1598.95</td>\n",
       "    </tr>\n",
       "    <tr>\n",
       "      <th>2018-01-12 02:10:00</th>\n",
       "      <td>1600.91</td>\n",
       "    </tr>\n",
       "    <tr>\n",
       "      <th>2018-01-12 02:15:00</th>\n",
       "      <td>1601.47</td>\n",
       "    </tr>\n",
       "    <tr>\n",
       "      <th>2018-01-12 02:20:00</th>\n",
       "      <td>1596.87</td>\n",
       "    </tr>\n",
       "    <tr>\n",
       "      <th>2018-01-12 02:25:00</th>\n",
       "      <td>1591.51</td>\n",
       "    </tr>\n",
       "    <tr>\n",
       "      <th>...</th>\n",
       "      <td>...</td>\n",
       "    </tr>\n",
       "    <tr>\n",
       "      <th>2018-01-12 21:30:00</th>\n",
       "      <td>2378.99</td>\n",
       "    </tr>\n",
       "    <tr>\n",
       "      <th>2018-01-12 21:35:00</th>\n",
       "      <td>2352.12</td>\n",
       "    </tr>\n",
       "    <tr>\n",
       "      <th>2018-01-12 21:40:00</th>\n",
       "      <td>2342.45</td>\n",
       "    </tr>\n",
       "    <tr>\n",
       "      <th>2018-01-12 21:45:00</th>\n",
       "      <td>2296.93</td>\n",
       "    </tr>\n",
       "    <tr>\n",
       "      <th>2018-01-12 21:50:00</th>\n",
       "      <td>2338.91</td>\n",
       "    </tr>\n",
       "    <tr>\n",
       "      <th>2018-01-12 21:55:00</th>\n",
       "      <td>2083.36</td>\n",
       "    </tr>\n",
       "    <tr>\n",
       "      <th>2018-01-12 22:00:00</th>\n",
       "      <td>2270.47</td>\n",
       "    </tr>\n",
       "    <tr>\n",
       "      <th>2018-01-12 22:05:00</th>\n",
       "      <td>2240.89</td>\n",
       "    </tr>\n",
       "    <tr>\n",
       "      <th>2018-01-12 22:10:00</th>\n",
       "      <td>2241.48</td>\n",
       "    </tr>\n",
       "    <tr>\n",
       "      <th>2018-01-12 22:15:00</th>\n",
       "      <td>2176.28</td>\n",
       "    </tr>\n",
       "    <tr>\n",
       "      <th>2018-01-12 22:20:00</th>\n",
       "      <td>2208.15</td>\n",
       "    </tr>\n",
       "    <tr>\n",
       "      <th>2018-01-12 22:25:00</th>\n",
       "      <td>2158.08</td>\n",
       "    </tr>\n",
       "    <tr>\n",
       "      <th>2018-01-12 22:30:00</th>\n",
       "      <td>2132.22</td>\n",
       "    </tr>\n",
       "    <tr>\n",
       "      <th>2018-01-12 22:35:00</th>\n",
       "      <td>2118.91</td>\n",
       "    </tr>\n",
       "    <tr>\n",
       "      <th>2018-01-12 22:40:00</th>\n",
       "      <td>2097.88</td>\n",
       "    </tr>\n",
       "    <tr>\n",
       "      <th>2018-01-12 22:45:00</th>\n",
       "      <td>2064.22</td>\n",
       "    </tr>\n",
       "    <tr>\n",
       "      <th>2018-01-12 22:50:00</th>\n",
       "      <td>2041.43</td>\n",
       "    </tr>\n",
       "    <tr>\n",
       "      <th>2018-01-12 22:55:00</th>\n",
       "      <td>2039.33</td>\n",
       "    </tr>\n",
       "    <tr>\n",
       "      <th>2018-01-12 23:00:00</th>\n",
       "      <td>2026.21</td>\n",
       "    </tr>\n",
       "    <tr>\n",
       "      <th>2018-01-12 23:05:00</th>\n",
       "      <td>1957.59</td>\n",
       "    </tr>\n",
       "    <tr>\n",
       "      <th>2018-01-12 23:10:00</th>\n",
       "      <td>1979.10</td>\n",
       "    </tr>\n",
       "    <tr>\n",
       "      <th>2018-01-12 23:15:00</th>\n",
       "      <td>1933.21</td>\n",
       "    </tr>\n",
       "    <tr>\n",
       "      <th>2018-01-12 23:20:00</th>\n",
       "      <td>1936.22</td>\n",
       "    </tr>\n",
       "    <tr>\n",
       "      <th>2018-01-12 23:25:00</th>\n",
       "      <td>1913.13</td>\n",
       "    </tr>\n",
       "    <tr>\n",
       "      <th>2018-01-12 23:30:00</th>\n",
       "      <td>1892.44</td>\n",
       "    </tr>\n",
       "    <tr>\n",
       "      <th>2018-01-12 23:35:00</th>\n",
       "      <td>1865.02</td>\n",
       "    </tr>\n",
       "    <tr>\n",
       "      <th>2018-01-12 23:40:00</th>\n",
       "      <td>1832.58</td>\n",
       "    </tr>\n",
       "    <tr>\n",
       "      <th>2018-01-12 23:45:00</th>\n",
       "      <td>1816.05</td>\n",
       "    </tr>\n",
       "    <tr>\n",
       "      <th>2018-01-12 23:50:00</th>\n",
       "      <td>1778.73</td>\n",
       "    </tr>\n",
       "    <tr>\n",
       "      <th>2018-01-12 23:55:00</th>\n",
       "      <td>1776.77</td>\n",
       "    </tr>\n",
       "  </tbody>\n",
       "</table>\n",
       "<p>1440 rows × 1 columns</p>\n",
       "</div>"
      ],
      "text/plain": [
       "                        load\n",
       "datetime                    \n",
       "2018-01-12 00:00:00  1854.58\n",
       "2018-01-12 00:05:00  1843.90\n",
       "2018-01-12 00:10:00  1808.62\n",
       "2018-01-12 00:15:00  1814.96\n",
       "2018-01-12 00:20:00  1803.68\n",
       "2018-01-12 00:25:00  1802.24\n",
       "2018-01-12 00:30:00  1778.68\n",
       "2018-01-12 00:35:00  1746.63\n",
       "2018-01-12 00:40:00  1754.35\n",
       "2018-01-12 00:45:00  1739.21\n",
       "2018-01-12 00:50:00  1714.98\n",
       "2018-01-12 00:55:00  1717.57\n",
       "2018-01-12 01:00:00  1697.99\n",
       "2018-01-12 01:05:00  1682.51\n",
       "2018-01-12 01:10:00  1665.43\n",
       "2018-01-12 01:15:00  1667.19\n",
       "2018-01-12 01:20:00  1655.54\n",
       "2018-01-12 01:25:00  1652.77\n",
       "2018-01-12 01:30:00  1650.59\n",
       "2018-01-12 01:35:00  1641.38\n",
       "2018-01-12 01:40:00  1648.52\n",
       "2018-01-12 01:45:00  1634.36\n",
       "2018-01-12 01:50:00  1628.73\n",
       "2018-01-12 01:55:00  1623.99\n",
       "2018-01-12 02:00:00  1621.12\n",
       "2018-01-12 02:05:00  1598.95\n",
       "2018-01-12 02:10:00  1600.91\n",
       "2018-01-12 02:15:00  1601.47\n",
       "2018-01-12 02:20:00  1596.87\n",
       "2018-01-12 02:25:00  1591.51\n",
       "...                      ...\n",
       "2018-01-12 21:30:00  2378.99\n",
       "2018-01-12 21:35:00  2352.12\n",
       "2018-01-12 21:40:00  2342.45\n",
       "2018-01-12 21:45:00  2296.93\n",
       "2018-01-12 21:50:00  2338.91\n",
       "2018-01-12 21:55:00  2083.36\n",
       "2018-01-12 22:00:00  2270.47\n",
       "2018-01-12 22:05:00  2240.89\n",
       "2018-01-12 22:10:00  2241.48\n",
       "2018-01-12 22:15:00  2176.28\n",
       "2018-01-12 22:20:00  2208.15\n",
       "2018-01-12 22:25:00  2158.08\n",
       "2018-01-12 22:30:00  2132.22\n",
       "2018-01-12 22:35:00  2118.91\n",
       "2018-01-12 22:40:00  2097.88\n",
       "2018-01-12 22:45:00  2064.22\n",
       "2018-01-12 22:50:00  2041.43\n",
       "2018-01-12 22:55:00  2039.33\n",
       "2018-01-12 23:00:00  2026.21\n",
       "2018-01-12 23:05:00  1957.59\n",
       "2018-01-12 23:10:00  1979.10\n",
       "2018-01-12 23:15:00  1933.21\n",
       "2018-01-12 23:20:00  1936.22\n",
       "2018-01-12 23:25:00  1913.13\n",
       "2018-01-12 23:30:00  1892.44\n",
       "2018-01-12 23:35:00  1865.02\n",
       "2018-01-12 23:40:00  1832.58\n",
       "2018-01-12 23:45:00  1816.05\n",
       "2018-01-12 23:50:00  1778.73\n",
       "2018-01-12 23:55:00  1776.77\n",
       "\n",
       "[1440 rows x 1 columns]"
      ]
     },
     "execution_count": 106,
     "metadata": {},
     "output_type": "execute_result"
    }
   ],
   "source": [
    "data['01/12/2018']"
   ]
  },
  {
   "cell_type": "code",
   "execution_count": 105,
   "metadata": {
    "ExecuteTime": {
     "end_time": "2018-12-14T13:28:51.956178Z",
     "start_time": "2018-12-14T13:28:51.806691Z"
    }
   },
   "outputs": [
    {
     "name": "stdout",
     "output_type": "stream",
     "text": [
      "2018-01-12\n",
      "cannot reindex a non-unique index with a method or limit\n",
      "29\n"
     ]
    }
   ],
   "source": [
    "for idx, i in enumerate(sorted(set(data.index.date))):\n",
    "    date = str(i)\n",
    "    try:\n",
    "    #     date = i.strftime(\"%d/%m/%Y\")\n",
    "        \n",
    "#         data.loc[date] = data[date].asfreq(freq=\"30Min\", method=\"bfill\")\n",
    "        data[date].asfreq(freq=\"30Min\", method=\"bfill\")\n",
    "    except Exception as e:\n",
    "        print(date)\n",
    "\n",
    "        print(e)\n",
    "print(idx)"
   ]
  },
  {
   "cell_type": "code",
   "execution_count": 89,
   "metadata": {
    "ExecuteTime": {
     "end_time": "2018-12-14T13:20:20.243130Z",
     "start_time": "2018-12-14T13:20:20.229125Z"
    }
   },
   "outputs": [
    {
     "data": {
      "text/html": [
       "<div>\n",
       "<style scoped>\n",
       "    .dataframe tbody tr th:only-of-type {\n",
       "        vertical-align: middle;\n",
       "    }\n",
       "\n",
       "    .dataframe tbody tr th {\n",
       "        vertical-align: top;\n",
       "    }\n",
       "\n",
       "    .dataframe thead th {\n",
       "        text-align: right;\n",
       "    }\n",
       "</style>\n",
       "<table border=\"1\" class=\"dataframe\">\n",
       "  <thead>\n",
       "    <tr style=\"text-align: right;\">\n",
       "      <th></th>\n",
       "      <th>load</th>\n",
       "    </tr>\n",
       "    <tr>\n",
       "      <th>datetime</th>\n",
       "      <th></th>\n",
       "    </tr>\n",
       "  </thead>\n",
       "  <tbody>\n",
       "    <tr>\n",
       "      <th>2018-02-11 00:00:00</th>\n",
       "      <td>2319.43</td>\n",
       "    </tr>\n",
       "    <tr>\n",
       "      <th>2018-02-11 00:05:00</th>\n",
       "      <td>2300.97</td>\n",
       "    </tr>\n",
       "    <tr>\n",
       "      <th>2018-02-11 00:10:00</th>\n",
       "      <td>2298.15</td>\n",
       "    </tr>\n",
       "    <tr>\n",
       "      <th>2018-02-11 00:15:00</th>\n",
       "      <td>2267.14</td>\n",
       "    </tr>\n",
       "    <tr>\n",
       "      <th>2018-02-11 00:20:00</th>\n",
       "      <td>2257.94</td>\n",
       "    </tr>\n",
       "    <tr>\n",
       "      <th>2018-02-11 00:25:00</th>\n",
       "      <td>2255.16</td>\n",
       "    </tr>\n",
       "    <tr>\n",
       "      <th>2018-02-11 00:30:00</th>\n",
       "      <td>2227.82</td>\n",
       "    </tr>\n",
       "    <tr>\n",
       "      <th>2018-02-11 00:35:00</th>\n",
       "      <td>2215.73</td>\n",
       "    </tr>\n",
       "    <tr>\n",
       "      <th>2018-02-11 00:40:00</th>\n",
       "      <td>2202.94</td>\n",
       "    </tr>\n",
       "    <tr>\n",
       "      <th>2018-02-11 00:45:00</th>\n",
       "      <td>2192.79</td>\n",
       "    </tr>\n",
       "    <tr>\n",
       "      <th>2018-02-11 00:50:00</th>\n",
       "      <td>2185.97</td>\n",
       "    </tr>\n",
       "    <tr>\n",
       "      <th>2018-02-11 00:55:00</th>\n",
       "      <td>2181.27</td>\n",
       "    </tr>\n",
       "    <tr>\n",
       "      <th>2018-02-11 01:00:00</th>\n",
       "      <td>2159.05</td>\n",
       "    </tr>\n",
       "    <tr>\n",
       "      <th>2018-02-11 01:05:00</th>\n",
       "      <td>2142.70</td>\n",
       "    </tr>\n",
       "    <tr>\n",
       "      <th>2018-02-11 01:10:00</th>\n",
       "      <td>2134.94</td>\n",
       "    </tr>\n",
       "    <tr>\n",
       "      <th>2018-02-11 01:15:00</th>\n",
       "      <td>2107.87</td>\n",
       "    </tr>\n",
       "    <tr>\n",
       "      <th>2018-02-11 01:20:00</th>\n",
       "      <td>2095.35</td>\n",
       "    </tr>\n",
       "    <tr>\n",
       "      <th>2018-02-11 01:25:00</th>\n",
       "      <td>2107.86</td>\n",
       "    </tr>\n",
       "    <tr>\n",
       "      <th>2018-02-11 01:30:00</th>\n",
       "      <td>2100.44</td>\n",
       "    </tr>\n",
       "    <tr>\n",
       "      <th>2018-02-11 01:35:00</th>\n",
       "      <td>2105.26</td>\n",
       "    </tr>\n",
       "    <tr>\n",
       "      <th>2018-02-11 01:40:00</th>\n",
       "      <td>2099.38</td>\n",
       "    </tr>\n",
       "    <tr>\n",
       "      <th>2018-02-11 01:45:00</th>\n",
       "      <td>2090.41</td>\n",
       "    </tr>\n",
       "    <tr>\n",
       "      <th>2018-02-11 01:50:00</th>\n",
       "      <td>2095.60</td>\n",
       "    </tr>\n",
       "    <tr>\n",
       "      <th>2018-02-11 01:55:00</th>\n",
       "      <td>2067.47</td>\n",
       "    </tr>\n",
       "    <tr>\n",
       "      <th>2018-02-11 02:00:00</th>\n",
       "      <td>2070.98</td>\n",
       "    </tr>\n",
       "    <tr>\n",
       "      <th>2018-02-11 02:05:00</th>\n",
       "      <td>2062.04</td>\n",
       "    </tr>\n",
       "    <tr>\n",
       "      <th>2018-02-11 02:10:00</th>\n",
       "      <td>2052.02</td>\n",
       "    </tr>\n",
       "    <tr>\n",
       "      <th>2018-02-11 02:15:00</th>\n",
       "      <td>2047.31</td>\n",
       "    </tr>\n",
       "    <tr>\n",
       "      <th>2018-02-11 02:20:00</th>\n",
       "      <td>2040.24</td>\n",
       "    </tr>\n",
       "    <tr>\n",
       "      <th>2018-02-11 02:25:00</th>\n",
       "      <td>2034.11</td>\n",
       "    </tr>\n",
       "    <tr>\n",
       "      <th>...</th>\n",
       "      <td>...</td>\n",
       "    </tr>\n",
       "    <tr>\n",
       "      <th>2018-01-12 21:30:00</th>\n",
       "      <td>2378.99</td>\n",
       "    </tr>\n",
       "    <tr>\n",
       "      <th>2018-01-12 21:35:00</th>\n",
       "      <td>2352.12</td>\n",
       "    </tr>\n",
       "    <tr>\n",
       "      <th>2018-01-12 21:40:00</th>\n",
       "      <td>2342.45</td>\n",
       "    </tr>\n",
       "    <tr>\n",
       "      <th>2018-01-12 21:45:00</th>\n",
       "      <td>2296.93</td>\n",
       "    </tr>\n",
       "    <tr>\n",
       "      <th>2018-01-12 21:50:00</th>\n",
       "      <td>2338.91</td>\n",
       "    </tr>\n",
       "    <tr>\n",
       "      <th>2018-01-12 21:55:00</th>\n",
       "      <td>2083.36</td>\n",
       "    </tr>\n",
       "    <tr>\n",
       "      <th>2018-01-12 22:00:00</th>\n",
       "      <td>2270.47</td>\n",
       "    </tr>\n",
       "    <tr>\n",
       "      <th>2018-01-12 22:05:00</th>\n",
       "      <td>2240.89</td>\n",
       "    </tr>\n",
       "    <tr>\n",
       "      <th>2018-01-12 22:10:00</th>\n",
       "      <td>2241.48</td>\n",
       "    </tr>\n",
       "    <tr>\n",
       "      <th>2018-01-12 22:15:00</th>\n",
       "      <td>2176.28</td>\n",
       "    </tr>\n",
       "    <tr>\n",
       "      <th>2018-01-12 22:20:00</th>\n",
       "      <td>2208.15</td>\n",
       "    </tr>\n",
       "    <tr>\n",
       "      <th>2018-01-12 22:25:00</th>\n",
       "      <td>2158.08</td>\n",
       "    </tr>\n",
       "    <tr>\n",
       "      <th>2018-01-12 22:30:00</th>\n",
       "      <td>2132.22</td>\n",
       "    </tr>\n",
       "    <tr>\n",
       "      <th>2018-01-12 22:35:00</th>\n",
       "      <td>2118.91</td>\n",
       "    </tr>\n",
       "    <tr>\n",
       "      <th>2018-01-12 22:40:00</th>\n",
       "      <td>2097.88</td>\n",
       "    </tr>\n",
       "    <tr>\n",
       "      <th>2018-01-12 22:45:00</th>\n",
       "      <td>2064.22</td>\n",
       "    </tr>\n",
       "    <tr>\n",
       "      <th>2018-01-12 22:50:00</th>\n",
       "      <td>2041.43</td>\n",
       "    </tr>\n",
       "    <tr>\n",
       "      <th>2018-01-12 22:55:00</th>\n",
       "      <td>2039.33</td>\n",
       "    </tr>\n",
       "    <tr>\n",
       "      <th>2018-01-12 23:00:00</th>\n",
       "      <td>2026.21</td>\n",
       "    </tr>\n",
       "    <tr>\n",
       "      <th>2018-01-12 23:05:00</th>\n",
       "      <td>1957.59</td>\n",
       "    </tr>\n",
       "    <tr>\n",
       "      <th>2018-01-12 23:10:00</th>\n",
       "      <td>1979.10</td>\n",
       "    </tr>\n",
       "    <tr>\n",
       "      <th>2018-01-12 23:15:00</th>\n",
       "      <td>1933.21</td>\n",
       "    </tr>\n",
       "    <tr>\n",
       "      <th>2018-01-12 23:20:00</th>\n",
       "      <td>1936.22</td>\n",
       "    </tr>\n",
       "    <tr>\n",
       "      <th>2018-01-12 23:25:00</th>\n",
       "      <td>1913.13</td>\n",
       "    </tr>\n",
       "    <tr>\n",
       "      <th>2018-01-12 23:30:00</th>\n",
       "      <td>1892.44</td>\n",
       "    </tr>\n",
       "    <tr>\n",
       "      <th>2018-01-12 23:35:00</th>\n",
       "      <td>1865.02</td>\n",
       "    </tr>\n",
       "    <tr>\n",
       "      <th>2018-01-12 23:40:00</th>\n",
       "      <td>1832.58</td>\n",
       "    </tr>\n",
       "    <tr>\n",
       "      <th>2018-01-12 23:45:00</th>\n",
       "      <td>1816.05</td>\n",
       "    </tr>\n",
       "    <tr>\n",
       "      <th>2018-01-12 23:50:00</th>\n",
       "      <td>1778.73</td>\n",
       "    </tr>\n",
       "    <tr>\n",
       "      <th>2018-01-12 23:55:00</th>\n",
       "      <td>1776.77</td>\n",
       "    </tr>\n",
       "  </tbody>\n",
       "</table>\n",
       "<p>9792 rows × 1 columns</p>\n",
       "</div>"
      ],
      "text/plain": [
       "                        load\n",
       "datetime                    \n",
       "2018-02-11 00:00:00  2319.43\n",
       "2018-02-11 00:05:00  2300.97\n",
       "2018-02-11 00:10:00  2298.15\n",
       "2018-02-11 00:15:00  2267.14\n",
       "2018-02-11 00:20:00  2257.94\n",
       "2018-02-11 00:25:00  2255.16\n",
       "2018-02-11 00:30:00  2227.82\n",
       "2018-02-11 00:35:00  2215.73\n",
       "2018-02-11 00:40:00  2202.94\n",
       "2018-02-11 00:45:00  2192.79\n",
       "2018-02-11 00:50:00  2185.97\n",
       "2018-02-11 00:55:00  2181.27\n",
       "2018-02-11 01:00:00  2159.05\n",
       "2018-02-11 01:05:00  2142.70\n",
       "2018-02-11 01:10:00  2134.94\n",
       "2018-02-11 01:15:00  2107.87\n",
       "2018-02-11 01:20:00  2095.35\n",
       "2018-02-11 01:25:00  2107.86\n",
       "2018-02-11 01:30:00  2100.44\n",
       "2018-02-11 01:35:00  2105.26\n",
       "2018-02-11 01:40:00  2099.38\n",
       "2018-02-11 01:45:00  2090.41\n",
       "2018-02-11 01:50:00  2095.60\n",
       "2018-02-11 01:55:00  2067.47\n",
       "2018-02-11 02:00:00  2070.98\n",
       "2018-02-11 02:05:00  2062.04\n",
       "2018-02-11 02:10:00  2052.02\n",
       "2018-02-11 02:15:00  2047.31\n",
       "2018-02-11 02:20:00  2040.24\n",
       "2018-02-11 02:25:00  2034.11\n",
       "...                      ...\n",
       "2018-01-12 21:30:00  2378.99\n",
       "2018-01-12 21:35:00  2352.12\n",
       "2018-01-12 21:40:00  2342.45\n",
       "2018-01-12 21:45:00  2296.93\n",
       "2018-01-12 21:50:00  2338.91\n",
       "2018-01-12 21:55:00  2083.36\n",
       "2018-01-12 22:00:00  2270.47\n",
       "2018-01-12 22:05:00  2240.89\n",
       "2018-01-12 22:10:00  2241.48\n",
       "2018-01-12 22:15:00  2176.28\n",
       "2018-01-12 22:20:00  2208.15\n",
       "2018-01-12 22:25:00  2158.08\n",
       "2018-01-12 22:30:00  2132.22\n",
       "2018-01-12 22:35:00  2118.91\n",
       "2018-01-12 22:40:00  2097.88\n",
       "2018-01-12 22:45:00  2064.22\n",
       "2018-01-12 22:50:00  2041.43\n",
       "2018-01-12 22:55:00  2039.33\n",
       "2018-01-12 23:00:00  2026.21\n",
       "2018-01-12 23:05:00  1957.59\n",
       "2018-01-12 23:10:00  1979.10\n",
       "2018-01-12 23:15:00  1933.21\n",
       "2018-01-12 23:20:00  1936.22\n",
       "2018-01-12 23:25:00  1913.13\n",
       "2018-01-12 23:30:00  1892.44\n",
       "2018-01-12 23:35:00  1865.02\n",
       "2018-01-12 23:40:00  1832.58\n",
       "2018-01-12 23:45:00  1816.05\n",
       "2018-01-12 23:50:00  1778.73\n",
       "2018-01-12 23:55:00  1776.77\n",
       "\n",
       "[9792 rows x 1 columns]"
      ]
     },
     "execution_count": 89,
     "metadata": {},
     "output_type": "execute_result"
    }
   ],
   "source": [
    "data:"
   ]
  },
  {
   "cell_type": "code",
   "execution_count": 85,
   "metadata": {
    "ExecuteTime": {
     "end_time": "2018-12-14T13:19:30.038413Z",
     "start_time": "2018-12-14T13:19:30.029158Z"
    }
   },
   "outputs": [
    {
     "data": {
      "text/html": [
       "<div>\n",
       "<style scoped>\n",
       "    .dataframe tbody tr th:only-of-type {\n",
       "        vertical-align: middle;\n",
       "    }\n",
       "\n",
       "    .dataframe tbody tr th {\n",
       "        vertical-align: top;\n",
       "    }\n",
       "\n",
       "    .dataframe thead th {\n",
       "        text-align: right;\n",
       "    }\n",
       "</style>\n",
       "<table border=\"1\" class=\"dataframe\">\n",
       "  <thead>\n",
       "    <tr style=\"text-align: right;\">\n",
       "      <th></th>\n",
       "      <th>load</th>\n",
       "    </tr>\n",
       "    <tr>\n",
       "      <th>datetime</th>\n",
       "      <th></th>\n",
       "    </tr>\n",
       "  </thead>\n",
       "  <tbody>\n",
       "  </tbody>\n",
       "</table>\n",
       "</div>"
      ],
      "text/plain": [
       "Empty DataFrame\n",
       "Columns: [load]\n",
       "Index: []"
      ]
     },
     "execution_count": 85,
     "metadata": {},
     "output_type": "execute_result"
    }
   ],
   "source": [
    "\n",
    "data.asfreq(freq=\"30Min\")"
   ]
  },
  {
   "cell_type": "code",
   "execution_count": 53,
   "metadata": {
    "ExecuteTime": {
     "end_time": "2018-12-14T13:11:45.770193Z",
     "start_time": "2018-12-14T13:11:45.766034Z"
    }
   },
   "outputs": [
    {
     "data": {
      "text/plain": [
       "34.0"
      ]
     },
     "execution_count": 53,
     "metadata": {},
     "output_type": "execute_result"
    }
   ],
   "source": [
    "data.shape[0]/288"
   ]
  },
  {
   "cell_type": "code",
   "execution_count": 58,
   "metadata": {
    "ExecuteTime": {
     "end_time": "2018-12-14T13:12:29.822677Z",
     "start_time": "2018-12-14T13:12:29.782061Z"
    }
   },
   "outputs": [
    {
     "ename": "ValueError",
     "evalue": "cannot reindex a non-unique index with a method or limit",
     "output_type": "error",
     "traceback": [
      "\u001b[0;31m---------------------------------------------------------------------------\u001b[0m",
      "\u001b[0;31mValueError\u001b[0m                                Traceback (most recent call last)",
      "\u001b[0;32m<ipython-input-58-7f28532aba94>\u001b[0m in \u001b[0;36m<module>\u001b[0;34m()\u001b[0m\n\u001b[0;32m----> 1\u001b[0;31m \u001b[0mdata\u001b[0m\u001b[0;34m.\u001b[0m\u001b[0masfreq\u001b[0m\u001b[0;34m(\u001b[0m\u001b[0mfreq\u001b[0m\u001b[0;34m=\u001b[0m\u001b[0;34m\"30Min\"\u001b[0m\u001b[0;34m,\u001b[0m \u001b[0mmethod\u001b[0m\u001b[0;34m=\u001b[0m\u001b[0;34m\"bfill\"\u001b[0m\u001b[0;34m)\u001b[0m  \u001b[0;31m# sample the data in hourly manner\u001b[0m\u001b[0;34m\u001b[0m\u001b[0;34m\u001b[0m\u001b[0m\n\u001b[0m",
      "\u001b[0;32m~/miniconda3/envs/ML/lib/python3.7/site-packages/pandas/core/generic.py\u001b[0m in \u001b[0;36masfreq\u001b[0;34m(self, freq, method, how, normalize, fill_value)\u001b[0m\n\u001b[1;32m   6762\u001b[0m         \u001b[0;32mfrom\u001b[0m \u001b[0mpandas\u001b[0m\u001b[0;34m.\u001b[0m\u001b[0mcore\u001b[0m\u001b[0;34m.\u001b[0m\u001b[0mresample\u001b[0m \u001b[0;32mimport\u001b[0m \u001b[0masfreq\u001b[0m\u001b[0;34m\u001b[0m\u001b[0;34m\u001b[0m\u001b[0m\n\u001b[1;32m   6763\u001b[0m         return asfreq(self, freq, method=method, how=how, normalize=normalize,\n\u001b[0;32m-> 6764\u001b[0;31m                       fill_value=fill_value)\n\u001b[0m\u001b[1;32m   6765\u001b[0m \u001b[0;34m\u001b[0m\u001b[0m\n\u001b[1;32m   6766\u001b[0m     \u001b[0;32mdef\u001b[0m \u001b[0mat_time\u001b[0m\u001b[0;34m(\u001b[0m\u001b[0mself\u001b[0m\u001b[0;34m,\u001b[0m \u001b[0mtime\u001b[0m\u001b[0;34m,\u001b[0m \u001b[0masof\u001b[0m\u001b[0;34m=\u001b[0m\u001b[0;32mFalse\u001b[0m\u001b[0;34m)\u001b[0m\u001b[0;34m:\u001b[0m\u001b[0;34m\u001b[0m\u001b[0;34m\u001b[0m\u001b[0m\n",
      "\u001b[0;32m~/miniconda3/envs/ML/lib/python3.7/site-packages/pandas/core/resample.py\u001b[0m in \u001b[0;36masfreq\u001b[0;34m(obj, freq, method, how, normalize, fill_value)\u001b[0m\n\u001b[1;32m   1589\u001b[0m         \u001b[0mdti\u001b[0m \u001b[0;34m=\u001b[0m \u001b[0mdate_range\u001b[0m\u001b[0;34m(\u001b[0m\u001b[0mobj\u001b[0m\u001b[0;34m.\u001b[0m\u001b[0mindex\u001b[0m\u001b[0;34m[\u001b[0m\u001b[0;36m0\u001b[0m\u001b[0;34m]\u001b[0m\u001b[0;34m,\u001b[0m \u001b[0mobj\u001b[0m\u001b[0;34m.\u001b[0m\u001b[0mindex\u001b[0m\u001b[0;34m[\u001b[0m\u001b[0;34m-\u001b[0m\u001b[0;36m1\u001b[0m\u001b[0;34m]\u001b[0m\u001b[0;34m,\u001b[0m \u001b[0mfreq\u001b[0m\u001b[0;34m=\u001b[0m\u001b[0mfreq\u001b[0m\u001b[0;34m)\u001b[0m\u001b[0;34m\u001b[0m\u001b[0;34m\u001b[0m\u001b[0m\n\u001b[1;32m   1590\u001b[0m         \u001b[0mdti\u001b[0m\u001b[0;34m.\u001b[0m\u001b[0mname\u001b[0m \u001b[0;34m=\u001b[0m \u001b[0mobj\u001b[0m\u001b[0;34m.\u001b[0m\u001b[0mindex\u001b[0m\u001b[0;34m.\u001b[0m\u001b[0mname\u001b[0m\u001b[0;34m\u001b[0m\u001b[0;34m\u001b[0m\u001b[0m\n\u001b[0;32m-> 1591\u001b[0;31m         \u001b[0mnew_obj\u001b[0m \u001b[0;34m=\u001b[0m \u001b[0mobj\u001b[0m\u001b[0;34m.\u001b[0m\u001b[0mreindex\u001b[0m\u001b[0;34m(\u001b[0m\u001b[0mdti\u001b[0m\u001b[0;34m,\u001b[0m \u001b[0mmethod\u001b[0m\u001b[0;34m=\u001b[0m\u001b[0mmethod\u001b[0m\u001b[0;34m,\u001b[0m \u001b[0mfill_value\u001b[0m\u001b[0;34m=\u001b[0m\u001b[0mfill_value\u001b[0m\u001b[0;34m)\u001b[0m\u001b[0;34m\u001b[0m\u001b[0;34m\u001b[0m\u001b[0m\n\u001b[0m\u001b[1;32m   1592\u001b[0m         \u001b[0;32mif\u001b[0m \u001b[0mnormalize\u001b[0m\u001b[0;34m:\u001b[0m\u001b[0;34m\u001b[0m\u001b[0;34m\u001b[0m\u001b[0m\n\u001b[1;32m   1593\u001b[0m             \u001b[0mnew_obj\u001b[0m\u001b[0;34m.\u001b[0m\u001b[0mindex\u001b[0m \u001b[0;34m=\u001b[0m \u001b[0mnew_obj\u001b[0m\u001b[0;34m.\u001b[0m\u001b[0mindex\u001b[0m\u001b[0;34m.\u001b[0m\u001b[0mnormalize\u001b[0m\u001b[0;34m(\u001b[0m\u001b[0;34m)\u001b[0m\u001b[0;34m\u001b[0m\u001b[0;34m\u001b[0m\u001b[0m\n",
      "\u001b[0;32m~/miniconda3/envs/ML/lib/python3.7/site-packages/pandas/util/_decorators.py\u001b[0m in \u001b[0;36mwrapper\u001b[0;34m(*args, **kwargs)\u001b[0m\n\u001b[1;32m    185\u001b[0m         \u001b[0;34m@\u001b[0m\u001b[0mwraps\u001b[0m\u001b[0;34m(\u001b[0m\u001b[0mfunc\u001b[0m\u001b[0;34m)\u001b[0m\u001b[0;34m\u001b[0m\u001b[0;34m\u001b[0m\u001b[0m\n\u001b[1;32m    186\u001b[0m         \u001b[0;32mdef\u001b[0m \u001b[0mwrapper\u001b[0m\u001b[0;34m(\u001b[0m\u001b[0;34m*\u001b[0m\u001b[0margs\u001b[0m\u001b[0;34m,\u001b[0m \u001b[0;34m**\u001b[0m\u001b[0mkwargs\u001b[0m\u001b[0;34m)\u001b[0m\u001b[0;34m:\u001b[0m\u001b[0;34m\u001b[0m\u001b[0;34m\u001b[0m\u001b[0m\n\u001b[0;32m--> 187\u001b[0;31m             \u001b[0;32mreturn\u001b[0m \u001b[0mfunc\u001b[0m\u001b[0;34m(\u001b[0m\u001b[0;34m*\u001b[0m\u001b[0margs\u001b[0m\u001b[0;34m,\u001b[0m \u001b[0;34m**\u001b[0m\u001b[0mkwargs\u001b[0m\u001b[0;34m)\u001b[0m\u001b[0;34m\u001b[0m\u001b[0;34m\u001b[0m\u001b[0m\n\u001b[0m\u001b[1;32m    188\u001b[0m \u001b[0;34m\u001b[0m\u001b[0m\n\u001b[1;32m    189\u001b[0m         \u001b[0;32mif\u001b[0m \u001b[0;32mnot\u001b[0m \u001b[0mPY2\u001b[0m\u001b[0;34m:\u001b[0m\u001b[0;34m\u001b[0m\u001b[0;34m\u001b[0m\u001b[0m\n",
      "\u001b[0;32m~/miniconda3/envs/ML/lib/python3.7/site-packages/pandas/core/frame.py\u001b[0m in \u001b[0;36mreindex\u001b[0;34m(self, *args, **kwargs)\u001b[0m\n\u001b[1;32m   3564\u001b[0m         \u001b[0mkwargs\u001b[0m\u001b[0;34m.\u001b[0m\u001b[0mpop\u001b[0m\u001b[0;34m(\u001b[0m\u001b[0;34m'axis'\u001b[0m\u001b[0;34m,\u001b[0m \u001b[0;32mNone\u001b[0m\u001b[0;34m)\u001b[0m\u001b[0;34m\u001b[0m\u001b[0;34m\u001b[0m\u001b[0m\n\u001b[1;32m   3565\u001b[0m         \u001b[0mkwargs\u001b[0m\u001b[0;34m.\u001b[0m\u001b[0mpop\u001b[0m\u001b[0;34m(\u001b[0m\u001b[0;34m'labels'\u001b[0m\u001b[0;34m,\u001b[0m \u001b[0;32mNone\u001b[0m\u001b[0;34m)\u001b[0m\u001b[0;34m\u001b[0m\u001b[0;34m\u001b[0m\u001b[0m\n\u001b[0;32m-> 3566\u001b[0;31m         \u001b[0;32mreturn\u001b[0m \u001b[0msuper\u001b[0m\u001b[0;34m(\u001b[0m\u001b[0mDataFrame\u001b[0m\u001b[0;34m,\u001b[0m \u001b[0mself\u001b[0m\u001b[0;34m)\u001b[0m\u001b[0;34m.\u001b[0m\u001b[0mreindex\u001b[0m\u001b[0;34m(\u001b[0m\u001b[0;34m**\u001b[0m\u001b[0mkwargs\u001b[0m\u001b[0;34m)\u001b[0m\u001b[0;34m\u001b[0m\u001b[0;34m\u001b[0m\u001b[0m\n\u001b[0m\u001b[1;32m   3567\u001b[0m \u001b[0;34m\u001b[0m\u001b[0m\n\u001b[1;32m   3568\u001b[0m     \u001b[0;34m@\u001b[0m\u001b[0mAppender\u001b[0m\u001b[0;34m(\u001b[0m\u001b[0m_shared_docs\u001b[0m\u001b[0;34m[\u001b[0m\u001b[0;34m'reindex_axis'\u001b[0m\u001b[0;34m]\u001b[0m \u001b[0;34m%\u001b[0m \u001b[0m_shared_doc_kwargs\u001b[0m\u001b[0;34m)\u001b[0m\u001b[0;34m\u001b[0m\u001b[0;34m\u001b[0m\u001b[0m\n",
      "\u001b[0;32m~/miniconda3/envs/ML/lib/python3.7/site-packages/pandas/core/generic.py\u001b[0m in \u001b[0;36mreindex\u001b[0;34m(self, *args, **kwargs)\u001b[0m\n\u001b[1;32m   3687\u001b[0m         \u001b[0;31m# perform the reindex on the axes\u001b[0m\u001b[0;34m\u001b[0m\u001b[0;34m\u001b[0m\u001b[0;34m\u001b[0m\u001b[0m\n\u001b[1;32m   3688\u001b[0m         return self._reindex_axes(axes, level, limit, tolerance, method,\n\u001b[0;32m-> 3689\u001b[0;31m                                   fill_value, copy).__finalize__(self)\n\u001b[0m\u001b[1;32m   3690\u001b[0m \u001b[0;34m\u001b[0m\u001b[0m\n\u001b[1;32m   3691\u001b[0m     def _reindex_axes(self, axes, level, limit, tolerance, method, fill_value,\n",
      "\u001b[0;32m~/miniconda3/envs/ML/lib/python3.7/site-packages/pandas/core/frame.py\u001b[0m in \u001b[0;36m_reindex_axes\u001b[0;34m(self, axes, level, limit, tolerance, method, fill_value, copy)\u001b[0m\n\u001b[1;32m   3499\u001b[0m         \u001b[0;32mif\u001b[0m \u001b[0mindex\u001b[0m \u001b[0;32mis\u001b[0m \u001b[0;32mnot\u001b[0m \u001b[0;32mNone\u001b[0m\u001b[0;34m:\u001b[0m\u001b[0;34m\u001b[0m\u001b[0;34m\u001b[0m\u001b[0m\n\u001b[1;32m   3500\u001b[0m             frame = frame._reindex_index(index, method, copy, level,\n\u001b[0;32m-> 3501\u001b[0;31m                                          fill_value, limit, tolerance)\n\u001b[0m\u001b[1;32m   3502\u001b[0m \u001b[0;34m\u001b[0m\u001b[0m\n\u001b[1;32m   3503\u001b[0m         \u001b[0;32mreturn\u001b[0m \u001b[0mframe\u001b[0m\u001b[0;34m\u001b[0m\u001b[0;34m\u001b[0m\u001b[0m\n",
      "\u001b[0;32m~/miniconda3/envs/ML/lib/python3.7/site-packages/pandas/core/frame.py\u001b[0m in \u001b[0;36m_reindex_index\u001b[0;34m(self, new_index, method, copy, level, fill_value, limit, tolerance)\u001b[0m\n\u001b[1;32m   3507\u001b[0m         new_index, indexer = self.index.reindex(new_index, method=method,\n\u001b[1;32m   3508\u001b[0m                                                 \u001b[0mlevel\u001b[0m\u001b[0;34m=\u001b[0m\u001b[0mlevel\u001b[0m\u001b[0;34m,\u001b[0m \u001b[0mlimit\u001b[0m\u001b[0;34m=\u001b[0m\u001b[0mlimit\u001b[0m\u001b[0;34m,\u001b[0m\u001b[0;34m\u001b[0m\u001b[0;34m\u001b[0m\u001b[0m\n\u001b[0;32m-> 3509\u001b[0;31m                                                 tolerance=tolerance)\n\u001b[0m\u001b[1;32m   3510\u001b[0m         return self._reindex_with_indexers({0: [new_index, indexer]},\n\u001b[1;32m   3511\u001b[0m                                            \u001b[0mcopy\u001b[0m\u001b[0;34m=\u001b[0m\u001b[0mcopy\u001b[0m\u001b[0;34m,\u001b[0m \u001b[0mfill_value\u001b[0m\u001b[0;34m=\u001b[0m\u001b[0mfill_value\u001b[0m\u001b[0;34m,\u001b[0m\u001b[0;34m\u001b[0m\u001b[0;34m\u001b[0m\u001b[0m\n",
      "\u001b[0;32m~/miniconda3/envs/ML/lib/python3.7/site-packages/pandas/core/indexes/base.py\u001b[0m in \u001b[0;36mreindex\u001b[0;34m(self, target, method, level, limit, tolerance)\u001b[0m\n\u001b[1;32m   3623\u001b[0m                 \u001b[0;32melse\u001b[0m\u001b[0;34m:\u001b[0m\u001b[0;34m\u001b[0m\u001b[0;34m\u001b[0m\u001b[0m\n\u001b[1;32m   3624\u001b[0m                     \u001b[0;32mif\u001b[0m \u001b[0mmethod\u001b[0m \u001b[0;32mis\u001b[0m \u001b[0;32mnot\u001b[0m \u001b[0;32mNone\u001b[0m \u001b[0;32mor\u001b[0m \u001b[0mlimit\u001b[0m \u001b[0;32mis\u001b[0m \u001b[0;32mnot\u001b[0m \u001b[0;32mNone\u001b[0m\u001b[0;34m:\u001b[0m\u001b[0;34m\u001b[0m\u001b[0;34m\u001b[0m\u001b[0m\n\u001b[0;32m-> 3625\u001b[0;31m                         raise ValueError(\"cannot reindex a non-unique index \"\n\u001b[0m\u001b[1;32m   3626\u001b[0m                                          \"with a method or limit\")\n\u001b[1;32m   3627\u001b[0m                     \u001b[0mindexer\u001b[0m\u001b[0;34m,\u001b[0m \u001b[0mmissing\u001b[0m \u001b[0;34m=\u001b[0m \u001b[0mself\u001b[0m\u001b[0;34m.\u001b[0m\u001b[0mget_indexer_non_unique\u001b[0m\u001b[0;34m(\u001b[0m\u001b[0mtarget\u001b[0m\u001b[0;34m)\u001b[0m\u001b[0;34m\u001b[0m\u001b[0;34m\u001b[0m\u001b[0m\n",
      "\u001b[0;31mValueError\u001b[0m: cannot reindex a non-unique index with a method or limit"
     ]
    }
   ],
   "source": [
    "data.asfreq(freq=\"30Min\", method=\"bfill\")  # sample the data in hourly manner\n"
   ]
  },
  {
   "cell_type": "code",
   "execution_count": 1,
   "metadata": {
    "ExecuteTime": {
     "end_time": "2018-11-27T18:43:29.743295Z",
     "start_time": "2018-11-27T18:43:23.826489Z"
    }
   },
   "outputs": [
    {
     "name": "stderr",
     "output_type": "stream",
     "text": [
      "Scraping 27/11/2018\n",
      "Done\n",
      "Clipping data from 29/10/2018\n",
      "(8640, 1)\n"
     ]
    }
   ],
   "source": [
    "\n",
    "# initialize the model\n",
    "# model = sm.tsa.statespace.SARIMAX(\n",
    "#     data,\n",
    "#     order=(3, 1, 1),\n",
    "#     seasonal_order=(3, 0, 0, 24),\n",
    "#     enforce_stationarity=False,\n",
    "#     enforce_invertibility=False,\n",
    "# )\n",
    "\n",
    "# # fit the model with the data\n",
    "# logger.info(\"Starting model fitting...\")\n",
    "# model = model.fit()\n",
    "\n",
    "# logger.info(\"Model fitting done!!\")\n",
    "# logger.info(model.summary().tables[1])\n",
    "# logger.info(model.summary())\n",
    "\n",
    "# save the model\n",
    "# model.save(\"ARIMA_month_model.pkl\")\n",
    "model = ARIMAResults.load('ARIMA_month_model.pkl')\n",
    "# generate the predictions\n",
    "todays_date = datetime.today().strftime(\"%d/%m/%Y\")\n",
    "tommorows_date = (datetime.today() + timedelta(1)).strftime(\"%d/%m/%Y\")\n",
    "pred = model.get_prediction(\n",
    "    start=pd.to_datetime(\"%s 00:00:00\" % todays_date),\n",
    "    end=pd.to_datetime(\"%s 00:00:00\" % tommorows_date),\n",
    "    dynamic=False,\n",
    ")\n"
   ]
  },
  {
   "cell_type": "code",
   "execution_count": 2,
   "metadata": {
    "ExecuteTime": {
     "end_time": "2018-11-27T18:43:29.776072Z",
     "start_time": "2018-11-27T18:43:29.752023Z"
    }
   },
   "outputs": [],
   "source": [
    "\n",
    "# save the pridictions in a csv file\n",
    "predictions = pred.predicted_mean\n",
    "predictions = predictions.asfreq(freq=\"5Min\", method=\"bfill\")  # set to 5 min freq\n",
    "date = datetime.today().strftime(format=\"%d-%m-%Y\")\n",
    "predictions.to_csv(\n",
    "    \"predictions/ARIMA/%s.csv\" % date, index_label=\"datetime\", header=[\"load\"]\n",
    ")\n",
    "\n",
    "# error = sqrt(((predictions - numpy.squeeze(todays_date['%s' % date:]))**2).mean())\n",
    "# logger.log(error)\n",
    "\n"
   ]
  },
  {
   "cell_type": "code",
   "execution_count": 9,
   "metadata": {
    "ExecuteTime": {
     "end_time": "2018-11-27T19:08:01.405385Z",
     "start_time": "2018-11-27T19:08:01.399174Z"
    }
   },
   "outputs": [],
   "source": [
    "\n",
    "predictions = predictions.rolling(window=10).mean()"
   ]
  },
  {
   "cell_type": "code",
   "execution_count": 10,
   "metadata": {
    "ExecuteTime": {
     "end_time": "2018-11-27T19:08:02.399247Z",
     "start_time": "2018-11-27T19:08:02.391362Z"
    }
   },
   "outputs": [],
   "source": [
    "from matplotlib import pyplot\n",
    "%matplotlib inline"
   ]
  },
  {
   "cell_type": "code",
   "execution_count": 12,
   "metadata": {
    "ExecuteTime": {
     "end_time": "2018-11-27T19:08:13.025242Z",
     "start_time": "2018-11-27T19:08:13.018059Z"
    }
   },
   "outputs": [
    {
     "data": {
      "text/plain": [
       "289"
      ]
     },
     "execution_count": 12,
     "metadata": {},
     "output_type": "execute_result"
    }
   ],
   "source": [
    "len(predictions.values)"
   ]
  },
  {
   "cell_type": "code",
   "execution_count": 11,
   "metadata": {
    "ExecuteTime": {
     "end_time": "2018-11-27T19:08:03.052251Z",
     "start_time": "2018-11-27T19:08:02.637136Z"
    }
   },
   "outputs": [
    {
     "data": {
      "text/plain": [
       "[<matplotlib.lines.Line2D at 0x7f4beead1b70>]"
      ]
     },
     "execution_count": 11,
     "metadata": {},
     "output_type": "execute_result"
    },
    {
     "data": {
      "image/png": "[encoded data removed]",
      "text/plain": [
       "<Figure size 432x288 with 1 Axes>"
      ]
     },
     "metadata": {},
     "output_type": "display_data"
    }
   ],
   "source": [
    "pyplot.plot(predictions.values)"
   ]
  },
  {
   "cell_type": "code",
   "execution_count": 13,
   "metadata": {
    "ExecuteTime": {
     "end_time": "2018-11-27T19:16:53.878456Z",
     "start_time": "2018-11-27T19:16:53.702342Z"
    }
   },
   "outputs": [],
   "source": [
    "data = pd.read_csv(\n",
    "    \"lstm_data.csv\",\n",
    "    header=None,\n",
    "    names=[\"datetime\", \"load\"],\n",
    "    index_col=[0],\n",
    "    parse_dates=[0],\n",
    "    infer_datetime_format=True,\n",
    ")"
   ]
  },
  {
   "cell_type": "code",
   "execution_count": 18,
   "metadata": {
    "ExecuteTime": {
     "end_time": "2018-11-27T19:17:55.365349Z",
     "start_time": "2018-11-27T19:17:54.671484Z"
    }
   },
   "outputs": [
    {
     "data": {
      "text/plain": [
       "<matplotlib.axes._subplots.AxesSubplot at 0x7f4bee4faa58>"
      ]
     },
     "execution_count": 18,
     "metadata": {},
     "output_type": "execute_result"
    },
    {
     "data": {
      "image/png": "[encoded data removed]",
      "text/plain": [
       "<Figure size 1080x576 with 1 Axes>"
      ]
     },
     "metadata": {},
     "output_type": "display_data"
    }
   ],
   "source": [
    "pyplot.rc('figure', figsize=(15.0, 8.0))\n",
    "\n",
    "data['2018-09-27'].plot()\n"
   ]
  },
  {
   "cell_type": "code",
   "execution_count": null,
   "metadata": {},
   "outputs": [],
   "source": []
  }
 ],
 "metadata": {
  "kernelspec": {
   "display_name": "ML",
   "language": "python",
   "name": "ml"
  },
  "language_info": {
   "codemirror_mode": {
    "name": "ipython",
    "version": 3
   },
   "file_extension": ".py",
   "mimetype": "text/x-python",
   "name": "python",
   "nbconvert_exporter": "python",
   "pygments_lexer": "ipython3",
   "version": "3.7.1"
  }
 },
 "nbformat": 4,
 "nbformat_minor": 2
}
