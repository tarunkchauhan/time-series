{
 "cells": [
  {
   "cell_type": "code",
   "execution_count": 341,
   "metadata": {
    "ExecuteTime": {
     "end_time": "2018-11-24T10:42:46.234281Z",
     "start_time": "2018-11-24T10:42:46.219888Z"
    }
   },
   "outputs": [],
   "source": [
    "import pandas as pd\n",
    "import numpy as np\n",
    "import matplotlib.pyplot as plt\n",
    "\n",
    "import requests\n",
    "import csv\n",
    "from bs4 import BeautifulSoup\n",
    "from datetime import datetime, timedelta\n",
    "import statsmodels.api as sm\n",
    "from statsmodels.tsa import stattools\n",
    "from statsmodels.tsa.seasonal import seasonal_decompose\n",
    "from statsmodels.graphics.tsaplots import plot_acf, plot_pacf\n",
    "from statsmodels.tsa.stattools import acf, pacf\n",
    "import os\n",
    "from pandas import Series\n",
    "from pandas import concat\n",
    "from pandas import read_csv\n",
    "from pandas import datetime\n",
    "from sklearn.metrics import mean_squared_error\n",
    "from sklearn.preprocessing import MinMaxScaler\n",
    "from keras.models import Sequential\n",
    "from keras.layers import Dense\n",
    "from keras.layers import LSTM\n",
    "from math import sqrt\n",
    "from matplotlib import pyplot\n",
    "from numpy import array\n",
    "from sklearn.preprocessing import MinMaxScaler\n",
    "os.environ['CUDA_VISIBLE_DEVICES']=''\n",
    "%matplotlib inline\n",
    "plt.rcParams['figure.figsize'] = (15, 6)"
   ]
  },
  {
   "cell_type": "code",
   "execution_count": null,
   "metadata": {
    "ExecuteTime": {
     "end_time": "2018-11-23T13:22:28.748764Z",
     "start_time": "2018-11-23T13:22:28.740120Z"
    }
   },
   "outputs": [],
   "source": [
    "\n",
    "def get_load_data(date):\n",
    "    url = 'http://www.delhisldc.org/Loaddata.aspx?mode='\n",
    "    print('Scraping ' + date, end=' ')\n",
    "    resp = requests.get(url + date) # send a get request to the url, get response\n",
    "    soup = BeautifulSoup(resp.text, 'lxml') # Yummy HTML soup\n",
    "    table = soup.find('table', {'id':'ContentPlaceHolder3_DGGridAv'}) # get the table from html\n",
    "    trs = table.findAll('tr') # extract all rows of the table\n",
    "    if len(trs[1:])==288: # no need to create csv file, if there's no data\n",
    "        with open('monthdata.csv', 'a') as f:  #'a' makes sure the values are appended at the end of the already existing file\n",
    "            writer = csv.writer(f)\n",
    "            for tr in trs[1:]:\n",
    "                time, delhi = tr.findChildren('font')[:2]\n",
    "                writer.writerow([date + ' ' + time.text, delhi.text])\n",
    "    if len(trs[1:]) != 288:\n",
    "        print('Some of the load values are missing..')\n",
    "    else:\n",
    "        print('Done')"
   ]
  },
  {
   "cell_type": "code",
   "execution_count": null,
   "metadata": {
    "ExecuteTime": {
     "end_time": "2018-11-23T13:23:33.444840Z",
     "start_time": "2018-11-23T13:23:10.081611Z"
    }
   },
   "outputs": [],
   "source": [
    "\n",
    "for i in range(31, 0, -1):\n",
    "    yesterday = datetime.today() - timedelta(i)\n",
    "    yesterday = yesterday.strftime('%d/%m/%Y')\n",
    "    get_load_data(yesterday)    "
   ]
  },
  {
   "cell_type": "code",
   "execution_count": null,
   "metadata": {
    "ExecuteTime": {
     "end_time": "2018-11-23T13:25:42.223950Z",
     "start_time": "2018-11-23T13:25:42.177936Z"
    }
   },
   "outputs": [],
   "source": [
    "for i in range(31, 0, -1):\n",
    "    yesterday = datetime.today() - timedelta(i)\n",
    "    yesterday = yesterday.strftime('%d/%m/%Y')\n",
    "    try:\n",
    "        print(data[yesterday].shape[0])\n",
    "    except:\n",
    "        print(yesterday, 'not found')\n",
    "     "
   ]
  },
  {
   "cell_type": "code",
   "execution_count": null,
   "metadata": {
    "ExecuteTime": {
     "end_time": "2018-11-23T13:23:55.648197Z",
     "start_time": "2018-11-23T13:23:55.499732Z"
    }
   },
   "outputs": [],
   "source": [
    "!head monthdata.csv"
   ]
  },
  {
   "cell_type": "code",
   "execution_count": null,
   "metadata": {
    "ExecuteTime": {
     "end_time": "2018-11-23T17:42:03.029781Z",
     "start_time": "2018-11-23T17:42:03.023893Z"
    }
   },
   "outputs": [],
   "source": []
  },
  {
   "cell_type": "code",
   "execution_count": 3,
   "metadata": {
    "ExecuteTime": {
     "end_time": "2018-11-24T08:47:18.309449Z",
     "start_time": "2018-11-24T08:47:18.205666Z"
    }
   },
   "outputs": [],
   "source": [
    "data = pd.read_csv('monthdata.csv', header=None, names=['datetime', 'load'], index_col=[0], parse_dates=[0], infer_datetime_format=True)"
   ]
  },
  {
   "cell_type": "code",
   "execution_count": null,
   "metadata": {
    "ExecuteTime": {
     "end_time": "2018-11-23T13:24:18.222226Z",
     "start_time": "2018-11-23T13:24:18.203222Z"
    }
   },
   "outputs": [],
   "source": [
    "data.info()"
   ]
  },
  {
   "cell_type": "code",
   "execution_count": null,
   "metadata": {
    "ExecuteTime": {
     "end_time": "2018-11-23T13:29:40.382773Z",
     "start_time": "2018-11-23T13:29:40.364284Z"
    }
   },
   "outputs": [],
   "source": [
    "data.shape"
   ]
  },
  {
   "cell_type": "code",
   "execution_count": null,
   "metadata": {
    "ExecuteTime": {
     "end_time": "2018-11-23T13:29:42.116587Z",
     "start_time": "2018-11-23T13:29:42.107393Z"
    }
   },
   "outputs": [],
   "source": [
    "data.shape[0] / 288 "
   ]
  },
  {
   "cell_type": "code",
   "execution_count": null,
   "metadata": {
    "ExecuteTime": {
     "end_time": "2018-11-23T13:29:43.961089Z",
     "start_time": "2018-11-23T13:29:43.938154Z"
    }
   },
   "outputs": [],
   "source": [
    "data['26/10/2018':].shape"
   ]
  },
  {
   "cell_type": "code",
   "execution_count": null,
   "metadata": {
    "ExecuteTime": {
     "end_time": "2018-11-23T13:29:45.962701Z",
     "start_time": "2018-11-23T13:29:45.935782Z"
    }
   },
   "outputs": [],
   "source": [
    "data.head()"
   ]
  },
  {
   "cell_type": "code",
   "execution_count": null,
   "metadata": {},
   "outputs": [],
   "source": []
  },
  {
   "cell_type": "code",
   "execution_count": null,
   "metadata": {},
   "outputs": [],
   "source": []
  },
  {
   "cell_type": "code",
   "execution_count": null,
   "metadata": {},
   "outputs": [],
   "source": [
    "data.head(1)"
   ]
  },
  {
   "cell_type": "code",
   "execution_count": null,
   "metadata": {
    "ExecuteTime": {
     "end_time": "2018-11-23T13:31:04.603190Z",
     "start_time": "2018-11-23T13:31:03.628992Z"
    }
   },
   "outputs": [],
   "source": [
    "# data['27/10/2018'].plot()\n",
    "data.plot()\n",
    "plt.rcParams['figure.figsize'] = (20, 6)\n",
    "plt.show()"
   ]
  },
  {
   "cell_type": "code",
   "execution_count": null,
   "metadata": {
    "ExecuteTime": {
     "end_time": "2018-11-23T13:30:39.992777Z",
     "start_time": "2018-11-23T13:30:39.979822Z"
    }
   },
   "outputs": [],
   "source": [
    "data['30/10/2018':'10/11/2018']"
   ]
  },
  {
   "cell_type": "code",
   "execution_count": null,
   "metadata": {
    "ExecuteTime": {
     "end_time": "2018-11-23T13:28:06.555638Z",
     "start_time": "2018-11-23T13:28:06.517372Z"
    }
   },
   "outputs": [],
   "source": [
    "data['11/11/2018']"
   ]
  },
  {
   "cell_type": "code",
   "execution_count": null,
   "metadata": {
    "ExecuteTime": {
     "end_time": "2018-11-23T13:27:05.844988Z",
     "start_time": "2018-11-23T13:27:05.830860Z"
    }
   },
   "outputs": [],
   "source": [
    "set(data.index.date)"
   ]
  },
  {
   "cell_type": "code",
   "execution_count": null,
   "metadata": {
    "ExecuteTime": {
     "end_time": "2018-11-23T13:13:18.200229Z",
     "start_time": "2018-11-23T13:13:17.797801Z"
    }
   },
   "outputs": [],
   "source": [
    "data[:'24/10/2018'].plot()\n",
    "plt.rcParams['figure.figsize'] = (15, 6)\n",
    "plt.show()"
   ]
  },
  {
   "cell_type": "code",
   "execution_count": null,
   "metadata": {
    "ExecuteTime": {
     "end_time": "2018-10-28T07:59:00.899113Z",
     "start_time": "2018-10-28T07:59:00.868404Z"
    }
   },
   "outputs": [],
   "source": [
    "# data = data.asfreq(freq='H', method='bfill')"
   ]
  },
  {
   "cell_type": "code",
   "execution_count": null,
   "metadata": {
    "ExecuteTime": {
     "end_time": "2018-11-23T13:11:18.354280Z",
     "start_time": "2018-11-23T13:11:18.345366Z"
    }
   },
   "outputs": [],
   "source": [
    "data.shape"
   ]
  },
  {
   "cell_type": "code",
   "execution_count": null,
   "metadata": {
    "ExecuteTime": {
     "end_time": "2018-11-23T13:11:29.897473Z",
     "start_time": "2018-11-23T13:11:29.881719Z"
    }
   },
   "outputs": [],
   "source": [
    "# number of unique dates in the data\n",
    "len(set(data.index.date))"
   ]
  },
  {
   "cell_type": "code",
   "execution_count": null,
   "metadata": {
    "ExecuteTime": {
     "end_time": "2018-11-23T13:11:33.065186Z",
     "start_time": "2018-11-23T13:11:33.047142Z"
    }
   },
   "outputs": [],
   "source": [
    "data.tail()"
   ]
  },
  {
   "cell_type": "code",
   "execution_count": null,
   "metadata": {
    "ExecuteTime": {
     "end_time": "2018-11-23T13:32:20.576485Z",
     "start_time": "2018-11-23T13:32:17.928008Z"
    }
   },
   "outputs": [],
   "source": [
    "plt.rcParams['figure.figsize'] = (15, 6)\n",
    "decompfreq = 288 #daily freq\n",
    "from statsmodels.tsa.seasonal import seasonal_decompose\n",
    "# result = seasonal_decompose(data[:'24/10/2018'], freq=decompfreq, model='aditive')\n",
    "result = seasonal_decompose(data, freq=decompfreq, model='aditive')\n",
    "\n",
    "result.plot()\n",
    "plt.show()"
   ]
  },
  {
   "cell_type": "markdown",
   "metadata": {},
   "source": [
    "\n",
    "### Making the data stationary\n"
   ]
  },
  {
   "cell_type": "code",
   "execution_count": 4,
   "metadata": {
    "ExecuteTime": {
     "end_time": "2018-11-23T20:18:31.569374Z",
     "start_time": "2018-11-23T20:18:31.564175Z"
    }
   },
   "outputs": [],
   "source": []
  },
  {
   "cell_type": "markdown",
   "metadata": {},
   "source": [
    "## Detrending"
   ]
  },
  {
   "cell_type": "code",
   "execution_count": null,
   "metadata": {
    "ExecuteTime": {
     "end_time": "2018-11-23T17:02:51.549337Z",
     "start_time": "2018-11-23T17:02:49.020376Z"
    }
   },
   "outputs": [],
   "source": [
    "plt.rcParams['figure.figsize'] = (15, 6)\n",
    "decompfreq = 288 #daily freq\n",
    "result = seasonal_decompose(data, freq=decompfreq, model='aditive')\n",
    "result.plot()\n",
    "plt.show()"
   ]
  },
  {
   "cell_type": "code",
   "execution_count": 5,
   "metadata": {
    "ExecuteTime": {
     "end_time": "2018-11-23T20:18:33.988048Z",
     "start_time": "2018-11-23T20:18:33.979791Z"
    }
   },
   "outputs": [],
   "source": [
    "dt_data = data.diff(1).dropna()  # detrended data"
   ]
  },
  {
   "cell_type": "code",
   "execution_count": null,
   "metadata": {
    "ExecuteTime": {
     "end_time": "2018-11-23T17:03:06.535432Z",
     "start_time": "2018-11-23T17:03:03.510740Z"
    }
   },
   "outputs": [],
   "source": [
    "plt.rcParams['figure.figsize'] = (15, 6)\n",
    "decompfreq = 288 #daily freq\n",
    "result = seasonal_decompose(dt_data, freq=decompfreq, model='aditive')\n",
    "result.plot()\n",
    "plt.show()"
   ]
  },
  {
   "cell_type": "markdown",
   "metadata": {},
   "source": [
    "### Removing seasonality"
   ]
  },
  {
   "cell_type": "code",
   "execution_count": null,
   "metadata": {
    "ExecuteTime": {
     "end_time": "2018-11-23T17:03:21.872749Z",
     "start_time": "2018-11-23T17:03:20.857258Z"
    }
   },
   "outputs": [],
   "source": [
    "dt_data.plot()"
   ]
  },
  {
   "cell_type": "code",
   "execution_count": null,
   "metadata": {
    "ExecuteTime": {
     "end_time": "2018-11-23T16:52:57.108317Z",
     "start_time": "2018-11-23T16:52:57.017125Z"
    }
   },
   "outputs": [],
   "source": [
    "# lag_pacf = pacf(dt_data['load'].values, nlags = 2000)\n",
    "lag_acf = acf(dt_data['load'].values, nlags = 2000)"
   ]
  },
  {
   "cell_type": "code",
   "execution_count": null,
   "metadata": {
    "ExecuteTime": {
     "end_time": "2018-11-23T16:58:10.968047Z",
     "start_time": "2018-11-23T16:58:10.956643Z"
    }
   },
   "outputs": [],
   "source": [
    "np.argsort(lag_pacf)  #returns the indices that would sort the array in ascending order"
   ]
  },
  {
   "cell_type": "code",
   "execution_count": null,
   "metadata": {
    "ExecuteTime": {
     "end_time": "2018-11-23T16:58:19.377539Z",
     "start_time": "2018-11-23T16:58:19.367265Z"
    }
   },
   "outputs": [],
   "source": [
    "np.argsort(lag_acf)"
   ]
  },
  {
   "cell_type": "code",
   "execution_count": null,
   "metadata": {
    "ExecuteTime": {
     "end_time": "2018-11-23T16:58:24.778884Z",
     "start_time": "2018-11-23T16:58:24.427554Z"
    }
   },
   "outputs": [],
   "source": [
    "plt.subplot(121) \n",
    "plt.plot(lag_pacf)\n",
    "plt.axhline(y=0,linestyle='--')\n",
    "plt.axhline(y=-1.96/np.sqrt(len(dt_data['load'])), linestyle='--')\n",
    "plt.axhline(y=1.96/np.sqrt(len(dt_data['load'])), linestyle='--')\n",
    "\n",
    "# critical value determination: https://stats.stackexchange.com/a/185553/181916"
   ]
  },
  {
   "cell_type": "code",
   "execution_count": null,
   "metadata": {
    "ExecuteTime": {
     "end_time": "2018-11-23T16:58:26.711219Z",
     "start_time": "2018-11-23T16:58:26.370923Z"
    }
   },
   "outputs": [],
   "source": [
    "plt.subplot(121) \n",
    "plt.plot(lag_acf)\n",
    "plt.axhline(y=0,linestyle='--')\n",
    "plt.axhline(y=-1.96/np.sqrt(len(dt_data['load'])), linestyle='--')\n",
    "plt.axhline(y=1.96/np.sqrt(len(dt_data['load'])), linestyle='--')\n",
    "\n",
    "# critical value determination: https://stats.stackexchange.com/a/185553/181916"
   ]
  },
  {
   "cell_type": "code",
   "execution_count": 114,
   "metadata": {
    "ExecuteTime": {
     "end_time": "2018-11-23T21:06:03.208248Z",
     "start_time": "2018-11-23T21:06:03.199741Z"
    }
   },
   "outputs": [],
   "source": [
    "ds_dt_data = dt_data.diff(288).dropna()  # deseasonalized + detrended data"
   ]
  },
  {
   "cell_type": "code",
   "execution_count": null,
   "metadata": {
    "ExecuteTime": {
     "end_time": "2018-11-23T17:03:44.082515Z",
     "start_time": "2018-11-23T17:03:40.379700Z"
    }
   },
   "outputs": [],
   "source": [
    "decompfreq = 288 #daily freq\n",
    "result = seasonal_decompose(ds_dt_data, freq=decompfreq, model='aditive')\n",
    "result.plot()\n",
    "plt.show()"
   ]
  },
  {
   "cell_type": "code",
   "execution_count": null,
   "metadata": {
    "ExecuteTime": {
     "end_time": "2018-11-23T17:00:26.278500Z",
     "start_time": "2018-11-23T17:00:25.204831Z"
    }
   },
   "outputs": [],
   "source": [
    "ds_dt_data.plot()"
   ]
  },
  {
   "cell_type": "markdown",
   "metadata": {},
   "source": [
    "## Rescale the data"
   ]
  },
  {
   "cell_type": "code",
   "execution_count": null,
   "metadata": {
    "ExecuteTime": {
     "end_time": "2018-11-23T20:12:25.875421Z",
     "start_time": "2018-11-23T20:12:25.869548Z"
    }
   },
   "outputs": [],
   "source": [
    "ds_dt_data.shape"
   ]
  },
  {
   "cell_type": "code",
   "execution_count": 7,
   "metadata": {
    "ExecuteTime": {
     "end_time": "2018-11-23T20:18:42.731110Z",
     "start_time": "2018-11-23T20:18:42.563234Z"
    }
   },
   "outputs": [],
   "source": []
  },
  {
   "cell_type": "code",
   "execution_count": 115,
   "metadata": {
    "ExecuteTime": {
     "end_time": "2018-11-23T21:06:05.041709Z",
     "start_time": "2018-11-23T21:06:05.036017Z"
    }
   },
   "outputs": [],
   "source": [
    "scaler = MinMaxScaler(feature_range=(-1, 1))\n",
    "scaler = scaler.fit(ds_dt_data['load'].values.reshape(-1, 1))"
   ]
  },
  {
   "cell_type": "code",
   "execution_count": 116,
   "metadata": {
    "ExecuteTime": {
     "end_time": "2018-11-23T21:06:10.134307Z",
     "start_time": "2018-11-23T21:06:09.833655Z"
    }
   },
   "outputs": [],
   "source": [
    "ds_dt_data['load1'] = ds_dt_data.shift(-1)['load']\n",
    "ds_dt_data['load2'] = ds_dt_data.shift(-2)['load']\n",
    "ds_dt_data['load3'] = ds_dt_data.shift(-3)['load']\n",
    "ds_dt_data = ds_dt_data.dropna()"
   ]
  },
  {
   "cell_type": "code",
   "execution_count": 117,
   "metadata": {
    "ExecuteTime": {
     "end_time": "2018-11-23T21:06:16.122157Z",
     "start_time": "2018-11-23T21:06:16.116033Z"
    }
   },
   "outputs": [],
   "source": [
    "ds_dt_data = scaler.transform(ds_dt_data)  # don't use .values"
   ]
  },
  {
   "cell_type": "code",
   "execution_count": 119,
   "metadata": {
    "ExecuteTime": {
     "end_time": "2018-11-23T21:06:33.585695Z",
     "start_time": "2018-11-23T21:06:33.581049Z"
    }
   },
   "outputs": [],
   "source": [
    "split_idx = int(0.9 * len(ds_dt_data))\n",
    "train, val = ds_dt_data[:split_idx], ds_dt_data[split_idx:]"
   ]
  },
  {
   "cell_type": "code",
   "execution_count": 120,
   "metadata": {
    "ExecuteTime": {
     "end_time": "2018-11-23T21:06:36.991736Z",
     "start_time": "2018-11-23T21:06:36.987068Z"
    }
   },
   "outputs": [
    {
     "data": {
      "text/plain": [
       "((7513, 4), (835, 4))"
      ]
     },
     "execution_count": 120,
     "metadata": {},
     "output_type": "execute_result"
    }
   ],
   "source": [
    "train.shape, val.shape"
   ]
  },
  {
   "cell_type": "code",
   "execution_count": 169,
   "metadata": {
    "ExecuteTime": {
     "end_time": "2018-11-23T21:26:02.378529Z",
     "start_time": "2018-11-23T21:26:02.374033Z"
    }
   },
   "outputs": [],
   "source": [
    "X, y = train[:, 0], train[:, 1:]\n",
    "X_val, y_val = val[:, 0], val[:, 1:]"
   ]
  },
  {
   "cell_type": "code",
   "execution_count": 163,
   "metadata": {
    "ExecuteTime": {
     "end_time": "2018-11-23T21:24:29.563159Z",
     "start_time": "2018-11-23T21:24:29.556338Z"
    }
   },
   "outputs": [
    {
     "data": {
      "text/plain": [
       "array([[ 0.00770444, -0.01085788,  0.06482477],\n",
       "       [-0.01085788,  0.06482477, -0.06976994],\n",
       "       [ 0.06482477, -0.06976994,  0.0990468 ],\n",
       "       ...,\n",
       "       [ 0.03350534, -0.09532   ,  0.15046943],\n",
       "       [-0.09532   ,  0.15046943, -0.10513868],\n",
       "       [ 0.15046943, -0.10513868, -0.10094603]])"
      ]
     },
     "execution_count": 163,
     "metadata": {},
     "output_type": "execute_result"
    }
   ],
   "source": [
    "y_val"
   ]
  },
  {
   "cell_type": "code",
   "execution_count": 13,
   "metadata": {
    "ExecuteTime": {
     "end_time": "2018-11-23T20:18:46.897901Z",
     "start_time": "2018-11-23T20:18:46.160696Z"
    },
    "scrolled": true
   },
   "outputs": [
    {
     "data": {
      "image/png": "[encoded data removed]",
      "text/plain": [
       "<Figure size 1080x432 with 1 Axes>"
      ]
     },
     "metadata": {
      "needs_background": "light"
     },
     "output_type": "display_data"
    }
   ],
   "source": [
    "plt.plot(range(len(X)), X)\n",
    "plt.plot(range(len(X), len(X_val) + len(X)), X_val);"
   ]
  },
  {
   "cell_type": "code",
   "execution_count": null,
   "metadata": {
    "ExecuteTime": {
     "end_time": "2018-11-23T17:37:29.904237Z",
     "start_time": "2018-11-23T17:37:29.896798Z"
    }
   },
   "outputs": [],
   "source": [
    "# to get the original series back\n",
    "inverted_X = scaler.inverse_transform(scaled_X)"
   ]
  },
  {
   "cell_type": "markdown",
   "metadata": {},
   "source": [
    "## LSTM model development"
   ]
  },
  {
   "cell_type": "markdown",
   "metadata": {
    "ExecuteTime": {
     "end_time": "2018-11-23T17:22:38.122094Z",
     "start_time": "2018-11-23T17:22:38.115827Z"
    }
   },
   "source": [
    "The LSTM layer expects input to be in a matrix with the dimensions: [samples, time steps, features]."
   ]
  },
  {
   "cell_type": "code",
   "execution_count": 14,
   "metadata": {
    "ExecuteTime": {
     "end_time": "2018-11-23T20:18:51.539835Z",
     "start_time": "2018-11-23T20:18:51.534813Z"
    }
   },
   "outputs": [
    {
     "data": {
      "text/plain": [
       "((7513,), (7513, 3))"
      ]
     },
     "execution_count": 14,
     "metadata": {},
     "output_type": "execute_result"
    }
   ],
   "source": [
    "X.shape, y.shape"
   ]
  },
  {
   "cell_type": "code",
   "execution_count": 15,
   "metadata": {
    "ExecuteTime": {
     "end_time": "2018-11-23T20:18:51.817889Z",
     "start_time": "2018-11-23T20:18:51.814082Z"
    }
   },
   "outputs": [],
   "source": [
    "X = X.reshape(X.shape[0], 1, 1)"
   ]
  },
  {
   "cell_type": "code",
   "execution_count": 23,
   "metadata": {
    "ExecuteTime": {
     "end_time": "2018-11-23T20:20:38.510503Z",
     "start_time": "2018-11-23T20:20:38.198384Z"
    }
   },
   "outputs": [],
   "source": [
    "\n",
    "model = Sequential()\n",
    "model.add(LSTM(1, batch_input_shape=(1, X.shape[1], X.shape[2]), stateful=True))\n",
    "model.add(Dense(y.shape[1]))\n",
    "model.compile(loss='mean_squared_error', optimizer='adam')"
   ]
  },
  {
   "cell_type": "code",
   "execution_count": 24,
   "metadata": {
    "ExecuteTime": {
     "end_time": "2018-11-23T20:24:25.569447Z",
     "start_time": "2018-11-23T20:20:40.533547Z"
    }
   },
   "outputs": [],
   "source": [
    "# fit network\n",
    "for i in range(10):\n",
    "    model.fit(X, y, epochs=1, batch_size=1, verbose=0, shuffle=False)\n",
    "    model.reset_states()\n"
   ]
  },
  {
   "cell_type": "code",
   "execution_count": null,
   "metadata": {},
   "outputs": [],
   "source": [
    "# make one forecast with an LSTM,\n",
    "def forecast_lstm(model, X, n_batch):\n",
    "    # reshape input pattern to [samples, timesteps, features]\n",
    "    X = X.reshape(1, 1, len(X))\n",
    "    # make forecast\n",
    "    forecast = model.predict(X, batch_size=n_batch)\n",
    "    # convert to array\n",
    "    return [x for x in forecast[0, :]]\n",
    "\n",
    "def make_forecasts(model, n_batch, train, test, n_lag, n_seq):\n",
    "    forecasts = list()\n",
    "    for i in range(len(test)):\n",
    "        X, y = test[i, 0:n_lag], test[i, n_lag:]\n",
    "        # make forecast\n",
    "        forecast = forecast_lstm(model, X, n_batch)\n",
    "        # store the forecast\n",
    "        forecasts.append(forecast)\n",
    "    return forecasts"
   ]
  },
  {
   "cell_type": "code",
   "execution_count": 165,
   "metadata": {
    "ExecuteTime": {
     "end_time": "2018-11-23T21:25:18.651159Z",
     "start_time": "2018-11-23T21:25:17.782135Z"
    }
   },
   "outputs": [],
   "source": [
    "forecasts = make_forecasts(model, 1, train, val, 1, 3)"
   ]
  },
  {
   "cell_type": "code",
   "execution_count": 176,
   "metadata": {
    "ExecuteTime": {
     "end_time": "2018-11-23T21:26:46.985068Z",
     "start_time": "2018-11-23T21:26:46.957652Z"
    }
   },
   "outputs": [
    {
     "data": {
      "text/plain": [
       "[0.014558656,\n",
       " 0.003019549,\n",
       " 0.005153097,\n",
       " 0.004762993,\n",
       " 0.0048343698,\n",
       " 0.0048213126,\n",
       " 0.0048237005,\n",
       " 0.004823263,\n",
       " 0.0048233448,\n",
       " 0.004823331,\n",
       " 0.004823331,\n",
       " 0.0048233317,\n",
       " 0.0048233317,\n",
       " 0.0048233317,\n",
       " 0.0048233317,\n",
       " 0.0048233317,\n",
       " 0.0048233317,\n",
       " 0.0048233317,\n",
       " 0.0048233317,\n",
       " 0.0048233317,\n",
       " 0.0048233317,\n",
       " 0.0048233317,\n",
       " 0.0048233317,\n",
       " 0.0048233317,\n",
       " 0.0048233317,\n",
       " 0.0048233317,\n",
       " 0.0048233317,\n",
       " 0.0048233317,\n",
       " 0.0048233317,\n",
       " 0.0048233317,\n",
       " 0.0048233317,\n",
       " 0.0048233317,\n",
       " 0.0048233317,\n",
       " 0.0048233317,\n",
       " 0.0048233317,\n",
       " 0.0048233317,\n",
       " 0.0048233317,\n",
       " 0.0048233317,\n",
       " 0.0048233317,\n",
       " 0.0048233317,\n",
       " 0.0048233317,\n",
       " 0.0048233317,\n",
       " 0.0048233317,\n",
       " 0.0048233317,\n",
       " 0.0048233317,\n",
       " 0.0048233317,\n",
       " 0.0048233317,\n",
       " 0.0048233317,\n",
       " 0.0048233317,\n",
       " 0.0048233317,\n",
       " 0.0048233317,\n",
       " 0.0048233317,\n",
       " 0.0048233317,\n",
       " 0.0048233317,\n",
       " 0.0048233317,\n",
       " 0.0048233317,\n",
       " 0.0048233317,\n",
       " 0.0048233317,\n",
       " 0.0048233317,\n",
       " 0.0048233317,\n",
       " 0.0048233317,\n",
       " 0.0048233317,\n",
       " 0.0048233317,\n",
       " 0.0048233317,\n",
       " 0.0048233317,\n",
       " 0.0048233317,\n",
       " 0.0048233317,\n",
       " 0.0048233317,\n",
       " 0.0048233317,\n",
       " 0.0048233317,\n",
       " 0.0048233317,\n",
       " 0.0048233317,\n",
       " 0.0048233317,\n",
       " 0.0048233317,\n",
       " 0.0048233317,\n",
       " 0.0048233317,\n",
       " 0.0048233317,\n",
       " 0.0048233317,\n",
       " 0.0048233317,\n",
       " 0.0048233317,\n",
       " 0.0048233317,\n",
       " 0.0048233317,\n",
       " 0.0048233317,\n",
       " 0.0048233317,\n",
       " 0.0048233317,\n",
       " 0.0048233317,\n",
       " 0.0048233317,\n",
       " 0.0048233317,\n",
       " 0.0048233317,\n",
       " 0.0048233317,\n",
       " 0.0048233317,\n",
       " 0.0048233317,\n",
       " 0.0048233317,\n",
       " 0.0048233317,\n",
       " 0.0048233317,\n",
       " 0.0048233317,\n",
       " 0.0048233317,\n",
       " 0.0048233317,\n",
       " 0.0048233317,\n",
       " 0.0048233317,\n",
       " 0.0048233317,\n",
       " 0.0048233317,\n",
       " 0.0048233317,\n",
       " 0.0048233317,\n",
       " 0.0048233317,\n",
       " 0.0048233317,\n",
       " 0.0048233317,\n",
       " 0.0048233317,\n",
       " 0.0048233317,\n",
       " 0.0048233317,\n",
       " 0.0048233317,\n",
       " 0.0048233317,\n",
       " 0.0048233317,\n",
       " 0.0048233317,\n",
       " 0.0048233317,\n",
       " 0.0048233317,\n",
       " 0.0048233317,\n",
       " 0.0048233317,\n",
       " 0.0048233317,\n",
       " 0.0048233317,\n",
       " 0.0048233317,\n",
       " 0.0048233317,\n",
       " 0.0048233317,\n",
       " 0.0048233317,\n",
       " 0.0048233317,\n",
       " 0.0048233317,\n",
       " 0.0048233317,\n",
       " 0.0048233317,\n",
       " 0.0048233317,\n",
       " 0.0048233317,\n",
       " 0.0048233317,\n",
       " 0.0048233317,\n",
       " 0.0048233317,\n",
       " 0.0048233317,\n",
       " 0.0048233317,\n",
       " 0.0048233317,\n",
       " 0.0048233317,\n",
       " 0.0048233317,\n",
       " 0.0048233317,\n",
       " 0.0048233317,\n",
       " 0.0048233317,\n",
       " 0.0048233317,\n",
       " 0.0048233317,\n",
       " 0.0048233317,\n",
       " 0.0048233317,\n",
       " 0.0048233317,\n",
       " 0.0048233317,\n",
       " 0.0048233317,\n",
       " 0.0048233317,\n",
       " 0.0048233317,\n",
       " 0.0048233317,\n",
       " 0.0048233317,\n",
       " 0.0048233317,\n",
       " 0.0048233317,\n",
       " 0.0048233317,\n",
       " 0.0048233317,\n",
       " 0.0048233317,\n",
       " 0.0048233317,\n",
       " 0.0048233317,\n",
       " 0.0048233317,\n",
       " 0.0048233317,\n",
       " 0.0048233317,\n",
       " 0.0048233317,\n",
       " 0.0048233317,\n",
       " 0.0048233317,\n",
       " 0.0048233317,\n",
       " 0.0048233317,\n",
       " 0.0048233317,\n",
       " 0.0048233317,\n",
       " 0.0048233317,\n",
       " 0.0048233317,\n",
       " 0.0048233317,\n",
       " 0.0048233317,\n",
       " 0.0048233317,\n",
       " 0.0048233317,\n",
       " 0.0048233317,\n",
       " 0.0048233317,\n",
       " 0.0048233317,\n",
       " 0.0048233317,\n",
       " 0.0048233317,\n",
       " 0.0048233317,\n",
       " 0.0048233317,\n",
       " 0.0048233317,\n",
       " 0.0048233317,\n",
       " 0.0048233317,\n",
       " 0.0048233317,\n",
       " 0.0048233317,\n",
       " 0.0048233317,\n",
       " 0.0048233317,\n",
       " 0.0048233317,\n",
       " 0.0048233317,\n",
       " 0.0048233317,\n",
       " 0.0048233317,\n",
       " 0.0048233317,\n",
       " 0.0048233317,\n",
       " 0.0048233317,\n",
       " 0.0048233317,\n",
       " 0.0048233317,\n",
       " 0.0048233317,\n",
       " 0.0048233317,\n",
       " 0.0048233317,\n",
       " 0.0048233317,\n",
       " 0.0048233317,\n",
       " 0.0048233317,\n",
       " 0.0048233317,\n",
       " 0.0048233317,\n",
       " 0.0048233317,\n",
       " 0.0048233317,\n",
       " 0.0048233317,\n",
       " 0.0048233317,\n",
       " 0.0048233317,\n",
       " 0.0048233317,\n",
       " 0.0048233317,\n",
       " 0.0048233317,\n",
       " 0.0048233317,\n",
       " 0.0048233317,\n",
       " 0.0048233317,\n",
       " 0.0048233317,\n",
       " 0.0048233317,\n",
       " 0.0048233317,\n",
       " 0.0048233317,\n",
       " 0.0048233317,\n",
       " 0.0048233317,\n",
       " 0.0048233317,\n",
       " 0.0048233317,\n",
       " 0.0048233317,\n",
       " 0.0048233317,\n",
       " 0.0048233317,\n",
       " 0.0048233317,\n",
       " 0.0048233317,\n",
       " 0.0048233317,\n",
       " 0.0048233317,\n",
       " 0.0048233317,\n",
       " 0.0048233317,\n",
       " 0.0048233317,\n",
       " 0.0048233317,\n",
       " 0.0048233317,\n",
       " 0.0048233317,\n",
       " 0.0048233317,\n",
       " 0.0048233317,\n",
       " 0.0048233317,\n",
       " 0.0048233317,\n",
       " 0.0048233317,\n",
       " 0.0048233317,\n",
       " 0.0048233317,\n",
       " 0.0048233317,\n",
       " 0.0048233317,\n",
       " 0.0048233317,\n",
       " 0.0048233317,\n",
       " 0.0048233317,\n",
       " 0.0048233317,\n",
       " 0.0048233317,\n",
       " 0.0048233317,\n",
       " 0.0048233317,\n",
       " 0.0048233317,\n",
       " 0.0048233317,\n",
       " 0.0048233317,\n",
       " 0.0048233317,\n",
       " 0.0048233317,\n",
       " 0.0048233317,\n",
       " 0.0048233317,\n",
       " 0.0048233317,\n",
       " 0.0048233317,\n",
       " 0.0048233317,\n",
       " 0.0048233317,\n",
       " 0.0048233317,\n",
       " 0.0048233317,\n",
       " 0.0048233317,\n",
       " 0.0048233317,\n",
       " 0.0048233317,\n",
       " 0.0048233317,\n",
       " 0.0048233317,\n",
       " 0.0048233317,\n",
       " 0.0048233317,\n",
       " 0.0048233317,\n",
       " 0.0048233317,\n",
       " 0.0048233317,\n",
       " 0.0048233317,\n",
       " 0.0048233317,\n",
       " 0.0048233317,\n",
       " 0.0048233317,\n",
       " 0.0048233317,\n",
       " 0.0048233317,\n",
       " 0.0048233317,\n",
       " 0.0048233317,\n",
       " 0.0048233317,\n",
       " 0.0048233317,\n",
       " 0.0048233317,\n",
       " 0.0048233317,\n",
       " 0.0048233317,\n",
       " 0.0048233317,\n",
       " 0.0048233317,\n",
       " 0.0048233317,\n",
       " 0.0048233317,\n",
       " 0.0048233317,\n",
       " 0.0048233317,\n",
       " 0.0048233317,\n",
       " 0.0048233317,\n",
       " 0.0048233317,\n",
       " 0.0048233317,\n",
       " 0.0048233317,\n",
       " 0.0048233317,\n",
       " 0.0048233317,\n",
       " 0.0048233317,\n",
       " 0.0048233317,\n",
       " 0.0048233317,\n",
       " 0.0048233317,\n",
       " 0.0048233317,\n",
       " 0.0048233317,\n",
       " 0.0048233317,\n",
       " 0.0048233317,\n",
       " 0.0048233317,\n",
       " 0.0048233317,\n",
       " 0.0048233317,\n",
       " 0.0048233317,\n",
       " 0.0048233317,\n",
       " 0.0048233317,\n",
       " 0.0048233317,\n",
       " 0.0048233317,\n",
       " 0.0048233317,\n",
       " 0.0048233317,\n",
       " 0.0048233317,\n",
       " 0.0048233317,\n",
       " 0.0048233317,\n",
       " 0.0048233317,\n",
       " 0.0048233317,\n",
       " 0.0048233317,\n",
       " 0.0048233317,\n",
       " 0.0048233317,\n",
       " 0.0048233317,\n",
       " 0.0048233317,\n",
       " 0.0048233317,\n",
       " 0.0048233317,\n",
       " 0.0048233317,\n",
       " 0.0048233317,\n",
       " 0.0048233317,\n",
       " 0.0048233317,\n",
       " 0.0048233317,\n",
       " 0.0048233317,\n",
       " 0.0048233317,\n",
       " 0.0048233317,\n",
       " 0.0048233317,\n",
       " 0.0048233317,\n",
       " 0.0048233317,\n",
       " 0.0048233317,\n",
       " 0.0048233317,\n",
       " 0.0048233317,\n",
       " 0.0048233317,\n",
       " 0.0048233317,\n",
       " 0.0048233317,\n",
       " 0.0048233317,\n",
       " 0.0048233317,\n",
       " 0.0048233317,\n",
       " 0.0048233317,\n",
       " 0.0048233317,\n",
       " 0.0048233317,\n",
       " 0.0048233317,\n",
       " 0.0048233317,\n",
       " 0.0048233317,\n",
       " 0.0048233317,\n",
       " 0.0048233317,\n",
       " 0.0048233317,\n",
       " 0.0048233317,\n",
       " 0.0048233317,\n",
       " 0.0048233317,\n",
       " 0.0048233317,\n",
       " 0.0048233317,\n",
       " 0.0048233317,\n",
       " 0.0048233317,\n",
       " 0.0048233317,\n",
       " 0.0048233317,\n",
       " 0.0048233317,\n",
       " 0.0048233317,\n",
       " 0.0048233317,\n",
       " 0.0048233317,\n",
       " 0.0048233317,\n",
       " 0.0048233317,\n",
       " 0.0048233317,\n",
       " 0.0048233317,\n",
       " 0.0048233317,\n",
       " 0.0048233317,\n",
       " 0.0048233317,\n",
       " 0.0048233317,\n",
       " 0.0048233317,\n",
       " 0.0048233317,\n",
       " 0.0048233317,\n",
       " 0.0048233317,\n",
       " 0.0048233317,\n",
       " 0.0048233317,\n",
       " 0.0048233317,\n",
       " 0.0048233317,\n",
       " 0.0048233317,\n",
       " 0.0048233317,\n",
       " 0.0048233317,\n",
       " 0.0048233317,\n",
       " 0.0048233317,\n",
       " 0.0048233317,\n",
       " 0.0048233317,\n",
       " 0.0048233317,\n",
       " 0.0048233317,\n",
       " 0.0048233317,\n",
       " 0.0048233317,\n",
       " 0.0048233317,\n",
       " 0.0048233317,\n",
       " 0.0048233317,\n",
       " 0.0048233317,\n",
       " 0.0048233317,\n",
       " 0.0048233317,\n",
       " 0.0048233317,\n",
       " 0.0048233317,\n",
       " 0.0048233317,\n",
       " 0.0048233317,\n",
       " 0.0048233317,\n",
       " 0.0048233317,\n",
       " 0.0048233317,\n",
       " 0.0048233317,\n",
       " 0.0048233317,\n",
       " 0.0048233317,\n",
       " 0.0048233317,\n",
       " 0.0048233317,\n",
       " 0.0048233317,\n",
       " 0.0048233317,\n",
       " 0.0048233317,\n",
       " 0.0048233317,\n",
       " 0.0048233317,\n",
       " 0.0048233317,\n",
       " 0.0048233317,\n",
       " 0.0048233317,\n",
       " 0.0048233317,\n",
       " 0.0048233317,\n",
       " 0.0048233317,\n",
       " 0.0048233317,\n",
       " 0.0048233317,\n",
       " 0.0048233317,\n",
       " 0.0048233317,\n",
       " 0.0048233317,\n",
       " 0.0048233317,\n",
       " 0.0048233317,\n",
       " 0.0048233317,\n",
       " 0.0048233317,\n",
       " 0.0048233317,\n",
       " 0.0048233317,\n",
       " 0.0048233317,\n",
       " 0.0048233317,\n",
       " 0.0048233317,\n",
       " 0.0048233317,\n",
       " 0.0048233317,\n",
       " 0.0048233317,\n",
       " 0.0048233317,\n",
       " 0.0048233317,\n",
       " 0.0048233317,\n",
       " 0.0048233317,\n",
       " 0.0048233317,\n",
       " 0.0048233317,\n",
       " 0.0048233317,\n",
       " 0.0048233317,\n",
       " 0.0048233317,\n",
       " 0.0048233317,\n",
       " 0.0048233317,\n",
       " 0.0048233317,\n",
       " 0.0048233317,\n",
       " 0.0048233317,\n",
       " 0.0048233317,\n",
       " 0.0048233317,\n",
       " 0.0048233317,\n",
       " 0.0048233317,\n",
       " 0.0048233317,\n",
       " 0.0048233317,\n",
       " 0.0048233317,\n",
       " 0.0048233317,\n",
       " 0.0048233317,\n",
       " 0.0048233317,\n",
       " 0.0048233317,\n",
       " 0.0048233317,\n",
       " 0.0048233317,\n",
       " 0.0048233317,\n",
       " 0.0048233317,\n",
       " 0.0048233317,\n",
       " 0.0048233317,\n",
       " 0.0048233317,\n",
       " 0.0048233317,\n",
       " 0.0048233317,\n",
       " 0.0048233317,\n",
       " 0.0048233317,\n",
       " 0.0048233317,\n",
       " 0.0048233317,\n",
       " 0.0048233317,\n",
       " 0.0048233317,\n",
       " 0.0048233317,\n",
       " 0.0048233317,\n",
       " 0.0048233317,\n",
       " 0.0048233317,\n",
       " 0.0048233317,\n",
       " 0.0048233317,\n",
       " 0.0048233317,\n",
       " 0.0048233317,\n",
       " 0.0048233317,\n",
       " 0.0048233317,\n",
       " 0.0048233317,\n",
       " 0.0048233317,\n",
       " 0.0048233317,\n",
       " 0.0048233317,\n",
       " 0.0048233317,\n",
       " 0.0048233317,\n",
       " 0.0048233317,\n",
       " 0.0048233317,\n",
       " 0.0048233317,\n",
       " 0.0048233317,\n",
       " 0.0048233317,\n",
       " 0.0048233317,\n",
       " 0.0048233317,\n",
       " 0.0048233317,\n",
       " 0.0048233317,\n",
       " 0.0048233317,\n",
       " 0.0048233317,\n",
       " 0.0048233317,\n",
       " 0.0048233317,\n",
       " 0.0048233317,\n",
       " 0.0048233317,\n",
       " 0.0048233317,\n",
       " 0.0048233317,\n",
       " 0.0048233317,\n",
       " 0.0048233317,\n",
       " 0.0048233317,\n",
       " 0.0048233317,\n",
       " 0.0048233317,\n",
       " 0.0048233317,\n",
       " 0.0048233317,\n",
       " 0.0048233317,\n",
       " 0.0048233317,\n",
       " 0.0048233317,\n",
       " 0.0048233317,\n",
       " 0.0048233317,\n",
       " 0.0048233317,\n",
       " 0.0048233317,\n",
       " 0.0048233317,\n",
       " 0.0048233317,\n",
       " 0.0048233317,\n",
       " 0.0048233317,\n",
       " 0.0048233317,\n",
       " 0.0048233317,\n",
       " 0.0048233317,\n",
       " 0.0048233317,\n",
       " 0.0048233317,\n",
       " 0.0048233317,\n",
       " 0.0048233317,\n",
       " 0.0048233317,\n",
       " 0.0048233317,\n",
       " 0.0048233317,\n",
       " 0.0048233317,\n",
       " 0.0048233317,\n",
       " 0.0048233317,\n",
       " 0.0048233317,\n",
       " 0.0048233317,\n",
       " 0.0048233317,\n",
       " 0.0048233317,\n",
       " 0.0048233317,\n",
       " 0.0048233317,\n",
       " 0.0048233317,\n",
       " 0.0048233317,\n",
       " 0.0048233317,\n",
       " 0.0048233317,\n",
       " 0.0048233317,\n",
       " 0.0048233317,\n",
       " 0.0048233317,\n",
       " 0.0048233317,\n",
       " 0.0048233317,\n",
       " 0.0048233317,\n",
       " 0.0048233317,\n",
       " 0.0048233317,\n",
       " 0.0048233317,\n",
       " 0.0048233317,\n",
       " 0.0048233317,\n",
       " 0.0048233317,\n",
       " 0.0048233317,\n",
       " 0.0048233317,\n",
       " 0.0048233317,\n",
       " 0.0048233317,\n",
       " 0.0048233317,\n",
       " 0.0048233317,\n",
       " 0.0048233317,\n",
       " 0.0048233317,\n",
       " 0.0048233317,\n",
       " 0.0048233317,\n",
       " 0.0048233317,\n",
       " 0.0048233317,\n",
       " 0.0048233317,\n",
       " 0.0048233317,\n",
       " 0.0048233317,\n",
       " 0.0048233317,\n",
       " 0.0048233317,\n",
       " 0.0048233317,\n",
       " 0.0048233317,\n",
       " 0.0048233317,\n",
       " 0.0048233317,\n",
       " 0.0048233317,\n",
       " 0.0048233317,\n",
       " 0.0048233317,\n",
       " 0.0048233317,\n",
       " 0.0048233317,\n",
       " 0.0048233317,\n",
       " 0.0048233317,\n",
       " 0.0048233317,\n",
       " 0.0048233317,\n",
       " 0.0048233317,\n",
       " 0.0048233317,\n",
       " 0.0048233317,\n",
       " 0.0048233317,\n",
       " 0.0048233317,\n",
       " 0.0048233317,\n",
       " 0.0048233317,\n",
       " 0.0048233317,\n",
       " 0.0048233317,\n",
       " 0.0048233317,\n",
       " 0.0048233317,\n",
       " 0.0048233317,\n",
       " 0.0048233317,\n",
       " 0.0048233317,\n",
       " 0.0048233317,\n",
       " 0.0048233317,\n",
       " 0.0048233317,\n",
       " 0.0048233317,\n",
       " 0.0048233317,\n",
       " 0.0048233317,\n",
       " 0.0048233317,\n",
       " 0.0048233317,\n",
       " 0.0048233317,\n",
       " 0.0048233317,\n",
       " 0.0048233317,\n",
       " 0.0048233317,\n",
       " 0.0048233317,\n",
       " 0.0048233317,\n",
       " 0.0048233317,\n",
       " 0.0048233317,\n",
       " 0.0048233317,\n",
       " 0.0048233317,\n",
       " 0.0048233317,\n",
       " 0.0048233317,\n",
       " 0.0048233317,\n",
       " 0.0048233317,\n",
       " 0.0048233317,\n",
       " 0.0048233317,\n",
       " 0.0048233317,\n",
       " 0.0048233317,\n",
       " 0.0048233317,\n",
       " 0.0048233317,\n",
       " 0.0048233317,\n",
       " 0.0048233317,\n",
       " 0.0048233317,\n",
       " 0.0048233317,\n",
       " 0.0048233317,\n",
       " 0.0048233317,\n",
       " 0.0048233317,\n",
       " 0.0048233317,\n",
       " 0.0048233317,\n",
       " 0.0048233317,\n",
       " 0.0048233317,\n",
       " 0.0048233317,\n",
       " 0.0048233317,\n",
       " 0.0048233317,\n",
       " 0.0048233317,\n",
       " 0.0048233317,\n",
       " 0.0048233317,\n",
       " 0.0048233317,\n",
       " 0.0048233317,\n",
       " 0.0048233317,\n",
       " 0.0048233317,\n",
       " 0.0048233317,\n",
       " 0.0048233317,\n",
       " 0.0048233317,\n",
       " 0.0048233317,\n",
       " 0.0048233317,\n",
       " 0.0048233317,\n",
       " 0.0048233317,\n",
       " 0.0048233317,\n",
       " 0.0048233317,\n",
       " 0.0048233317,\n",
       " 0.0048233317,\n",
       " 0.0048233317,\n",
       " 0.0048233317,\n",
       " 0.0048233317,\n",
       " 0.0048233317,\n",
       " 0.0048233317,\n",
       " 0.0048233317,\n",
       " 0.0048233317,\n",
       " 0.0048233317,\n",
       " 0.0048233317,\n",
       " 0.0048233317,\n",
       " 0.0048233317,\n",
       " 0.0048233317,\n",
       " 0.0048233317,\n",
       " 0.0048233317,\n",
       " 0.0048233317,\n",
       " 0.0048233317,\n",
       " 0.0048233317,\n",
       " 0.0048233317,\n",
       " 0.0048233317,\n",
       " 0.0048233317,\n",
       " 0.0048233317,\n",
       " 0.0048233317,\n",
       " 0.0048233317,\n",
       " 0.0048233317,\n",
       " 0.0048233317,\n",
       " 0.0048233317,\n",
       " 0.0048233317,\n",
       " 0.0048233317,\n",
       " 0.0048233317,\n",
       " 0.0048233317,\n",
       " 0.0048233317,\n",
       " 0.0048233317,\n",
       " 0.0048233317,\n",
       " 0.0048233317,\n",
       " 0.0048233317,\n",
       " 0.0048233317,\n",
       " 0.0048233317,\n",
       " 0.0048233317,\n",
       " 0.0048233317,\n",
       " 0.0048233317,\n",
       " 0.0048233317,\n",
       " 0.0048233317,\n",
       " 0.0048233317,\n",
       " 0.0048233317,\n",
       " 0.0048233317,\n",
       " 0.0048233317,\n",
       " 0.0048233317,\n",
       " 0.0048233317,\n",
       " 0.0048233317,\n",
       " 0.0048233317,\n",
       " 0.0048233317,\n",
       " 0.0048233317,\n",
       " 0.0048233317,\n",
       " 0.0048233317,\n",
       " 0.0048233317,\n",
       " 0.0048233317,\n",
       " 0.0048233317,\n",
       " 0.0048233317,\n",
       " 0.0048233317,\n",
       " 0.0048233317,\n",
       " 0.0048233317,\n",
       " 0.0048233317,\n",
       " 0.0048233317,\n",
       " 0.0048233317,\n",
       " 0.0048233317,\n",
       " 0.0048233317,\n",
       " 0.0048233317,\n",
       " 0.0048233317,\n",
       " 0.0048233317,\n",
       " 0.0048233317,\n",
       " 0.0048233317,\n",
       " 0.0048233317,\n",
       " 0.0048233317,\n",
       " 0.0048233317,\n",
       " 0.0048233317,\n",
       " 0.0048233317,\n",
       " 0.0048233317,\n",
       " 0.0048233317,\n",
       " 0.0048233317,\n",
       " 0.0048233317,\n",
       " 0.0048233317,\n",
       " 0.0048233317,\n",
       " 0.0048233317,\n",
       " 0.0048233317,\n",
       " 0.0048233317,\n",
       " 0.0048233317,\n",
       " 0.0048233317,\n",
       " 0.0048233317,\n",
       " 0.0048233317,\n",
       " 0.0048233317,\n",
       " 0.0048233317,\n",
       " 0.0048233317,\n",
       " 0.0048233317,\n",
       " 0.0048233317,\n",
       " 0.0048233317,\n",
       " 0.0048233317,\n",
       " 0.0048233317,\n",
       " 0.0048233317,\n",
       " 0.0048233317,\n",
       " 0.0048233317,\n",
       " 0.0048233317,\n",
       " 0.0048233317,\n",
       " 0.0048233317,\n",
       " 0.0048233317,\n",
       " 0.0048233317,\n",
       " 0.0048233317,\n",
       " 0.0048233317,\n",
       " 0.0048233317,\n",
       " 0.0048233317,\n",
       " 0.0048233317,\n",
       " 0.0048233317,\n",
       " 0.0048233317,\n",
       " 0.0048233317,\n",
       " 0.0048233317,\n",
       " 0.0048233317,\n",
       " 0.0048233317,\n",
       " 0.0048233317,\n",
       " 0.0048233317,\n",
       " 0.0048233317,\n",
       " 0.0048233317,\n",
       " 0.0048233317,\n",
       " 0.0048233317,\n",
       " 0.0048233317,\n",
       " 0.0048233317,\n",
       " 0.0048233317,\n",
       " 0.0048233317,\n",
       " 0.0048233317,\n",
       " 0.0048233317,\n",
       " 0.0048233317,\n",
       " 0.0048233317,\n",
       " 0.0048233317,\n",
       " 0.0048233317,\n",
       " 0.0048233317,\n",
       " 0.0048233317,\n",
       " 0.0048233317,\n",
       " 0.0048233317,\n",
       " 0.0048233317,\n",
       " 0.0048233317,\n",
       " 0.0048233317,\n",
       " 0.0048233317,\n",
       " 0.0048233317,\n",
       " 0.0048233317,\n",
       " 0.0048233317,\n",
       " 0.0048233317,\n",
       " 0.0048233317,\n",
       " 0.0048233317,\n",
       " 0.0048233317,\n",
       " 0.0048233317,\n",
       " 0.0048233317,\n",
       " 0.0048233317,\n",
       " 0.0048233317,\n",
       " 0.0048233317,\n",
       " 0.0048233317,\n",
       " 0.0048233317,\n",
       " 0.0048233317,\n",
       " 0.0048233317,\n",
       " 0.0048233317]"
      ]
     },
     "execution_count": 176,
     "metadata": {},
     "output_type": "execute_result"
    }
   ],
   "source": [
    "forecasts"
   ]
  },
  {
   "cell_type": "code",
   "execution_count": 156,
   "metadata": {
    "ExecuteTime": {
     "end_time": "2018-11-23T21:23:39.124783Z",
     "start_time": "2018-11-23T21:23:39.119678Z"
    }
   },
   "outputs": [],
   "source": [
    "# y_val_hat = [x[0] for x in forecasts]"
   ]
  },
  {
   "cell_type": "code",
   "execution_count": 170,
   "metadata": {
    "ExecuteTime": {
     "end_time": "2018-11-23T21:26:08.556001Z",
     "start_time": "2018-11-23T21:26:08.551959Z"
    }
   },
   "outputs": [],
   "source": [
    "y_val_hat = forecasts"
   ]
  },
  {
   "cell_type": "code",
   "execution_count": null,
   "metadata": {},
   "outputs": [],
   "source": []
  },
  {
   "cell_type": "code",
   "execution_count": 171,
   "metadata": {
    "ExecuteTime": {
     "end_time": "2018-11-23T21:26:09.640050Z",
     "start_time": "2018-11-23T21:26:09.633412Z"
    }
   },
   "outputs": [
    {
     "data": {
      "text/plain": [
       "(835, (835, 3))"
      ]
     },
     "execution_count": 171,
     "metadata": {},
     "output_type": "execute_result"
    }
   ],
   "source": [
    "y_val_hat.__len__(), y_val.shape"
   ]
  },
  {
   "cell_type": "code",
   "execution_count": 172,
   "metadata": {
    "ExecuteTime": {
     "end_time": "2018-11-23T21:26:12.604151Z",
     "start_time": "2018-11-23T21:26:11.879262Z"
    }
   },
   "outputs": [
    {
     "data": {
      "text/plain": [
       "[<matplotlib.lines.Line2D at 0x7fe4b6d6e2b0>]"
      ]
     },
     "execution_count": 172,
     "metadata": {},
     "output_type": "execute_result"
    },
    {
     "data": {
      "image/png": "[encoded data removed]",
      "text/plain": [
       "<Figure size 1080x432 with 1 Axes>"
      ]
     },
     "metadata": {
      "needs_background": "light"
     },
     "output_type": "display_data"
    }
   ],
   "source": [
    "plt.plot(y_val)\n",
    "plt.plot(y_val_hat)"
   ]
  },
  {
   "cell_type": "code",
   "execution_count": 173,
   "metadata": {
    "ExecuteTime": {
     "end_time": "2018-11-23T21:26:23.505225Z",
     "start_time": "2018-11-23T21:26:23.499089Z"
    }
   },
   "outputs": [],
   "source": [
    "y_val_hat = scaler.inverse_transform(np.asarray(y_val_hat).reshape(-1, 1))\n",
    "y_val = scaler.inverse_transform(np.asarray(y_val[:, 0]).reshape(-1, 1))"
   ]
  },
  {
   "cell_type": "code",
   "execution_count": 174,
   "metadata": {
    "ExecuteTime": {
     "end_time": "2018-11-23T21:26:24.947932Z",
     "start_time": "2018-11-23T21:26:24.342974Z"
    }
   },
   "outputs": [
    {
     "data": {
      "text/plain": [
       "[<matplotlib.lines.Line2D at 0x7fe4b6d31400>]"
      ]
     },
     "execution_count": 174,
     "metadata": {},
     "output_type": "execute_result"
    },
    {
     "data": {
      "image/png": "[encoded data removed]",
      "text/plain": [
       "<Figure size 1080x432 with 1 Axes>"
      ]
     },
     "metadata": {
      "needs_background": "light"
     },
     "output_type": "display_data"
    }
   ],
   "source": [
    "plt.plot(y_val)\n",
    "plt.plot(y_val_hat)"
   ]
  },
  {
   "cell_type": "code",
   "execution_count": 175,
   "metadata": {
    "ExecuteTime": {
     "end_time": "2018-11-23T21:26:29.214646Z",
     "start_time": "2018-11-23T21:26:28.430539Z"
    }
   },
   "outputs": [
    {
     "name": "stdout",
     "output_type": "stream",
     "text": [
      "[2.0527387] [0.14] 1599.1100000000001\n",
      "[-1.1673646] [-5.04] 1629.6299999999999\n",
      "[-0.5719767] [16.08] 1582.9700000000003\n",
      "[-0.6808391] [-21.48] 1605.52\n",
      "[-0.6609208] [25.63] 1604.2499999999998\n",
      "[-0.66456455] [-6.07] 1586.3700000000001\n",
      "[-0.66389817] [3.33] 1610.8300000000002\n",
      "[-0.6640203] [2.] 1579.6100000000001\n",
      "[-0.6639974] [-5.06] 1595.33\n",
      "[-0.66400135] [5.41] 1582.09\n",
      "[-0.66400135] [-2.07] 1587.16\n",
      "[-0.66400105] [1.76] 1579.8100000000002\n",
      "[-0.66400105] [-6.52] 1579.68\n",
      "[-0.66400105] [5.57] 1575.14\n",
      "[-0.66400105] [4.18] 1595.2399999999998\n",
      "[-0.66400105] [5.69] 1587.5700000000002\n",
      "[-0.66400105] [-3.28] 1600.66\n",
      "[-0.66400105] [8.72] 1603.43\n",
      "[-0.66400105] [-23.28] 1579.9699999999998\n",
      "[-0.66400105] [6.2] 1599.02\n",
      "[-0.66400105] [7.27] 1600.81\n",
      "[-0.66400105] [12.97] 1629.12\n",
      "[-0.66400105] [12.54] 1651.64\n",
      "[-0.66400105] [-19.05] 1646.08\n",
      "[-0.66400105] [-6.85] 1630.65\n",
      "[-0.66400105] [-6.26] 1664.2799999999997\n",
      "[-0.66400105] [12.8] 1670.17\n",
      "[-0.66400105] [0.83] 1679.1899999999998\n",
      "[-0.66400105] [14.98] 1728.2300000000002\n",
      "[-0.66400105] [-0.39] 1731.05\n",
      "[-0.66400105] [-42.33] 1711.8200000000002\n",
      "[-0.66400105] [0.98] 1744.3\n",
      "[-0.66400105] [27.25] 1811.24\n",
      "[-0.66400105] [-6.95] 1826.8500000000001\n",
      "[-0.66400105] [-10.09] 1856.6899999999998\n",
      "[-0.66400105] [-8.96] 1907.81\n",
      "[-0.66400105] [-6.94] 1927.62\n",
      "[-0.66400105] [-9.77] 1974.27\n",
      "[-0.66400105] [-9.95] 2033.19\n",
      "[-0.66400105] [11.49] 2069.77\n",
      "[-0.66400105] [-37.11] 2113.67\n",
      "[-0.66400105] [15.15] 2190.9500000000003\n",
      "[-0.66400105] [3.87] 2232.27\n",
      "[-0.66400105] [-29.35] 2261.33\n",
      "[-0.66400105] [-11.2] 2379.04\n",
      "[-0.66400105] [49.32] 2361.2\n",
      "[-0.66400105] [-41.63] 2530.65\n",
      "[-0.66400105] [4.11] 2452.3799999999997\n",
      "[-0.66400105] [3.1] 2713.0800000000004\n",
      "[-0.66400105] [38.68] 2640.56\n",
      "[-0.66400105] [-108.09] 2748.0699999999997\n",
      "[-0.66400105] [31.42] 2712.75\n",
      "[-0.66400105] [-37.55] 2832.35\n",
      "[-0.66400105] [52.52] 2858.32\n",
      "[-0.66400105] [-8.62] 2907.55\n",
      "[-0.66400105] [18.26] 2926.13\n",
      "[-0.66400105] [-34.41] 2921.7\n",
      "[-0.66400105] [-8.54] 3001.85\n",
      "[-0.66400105] [63.13] 2957.42\n",
      "[-0.66400105] [-83.35] 2969.7400000000002\n",
      "[-0.66400105] [43.18] 3008.51\n",
      "[-0.66400105] [22.52] 2996.77\n",
      "[-0.66400105] [-69.55] 2956.77\n",
      "[-0.66400105] [50.21] 2980.9\n",
      "[-0.66400105] [-25.91] 2997.24\n",
      "[-0.66400105] [18.17] 3044.61\n",
      "[-0.66400105] [-68.68] 2856.57\n",
      "[-0.66400105] [-42.99] 2970.45\n",
      "[-0.66400105] [90.72] 2969.52\n",
      "[-0.66400105] [21.74] 3027.9799999999996\n",
      "[-0.66400105] [39.44] 3052.25\n",
      "[-0.66400105] [-4.03] 3099.8799999999997\n",
      "[-0.66400105] [-62.26] 3009.6800000000003\n",
      "[-0.66400105] [-47.65] 2963.34\n",
      "[-0.66400105] [22.86] 3059.18\n",
      "[-0.66400105] [7.45] 2975.8800000000006\n",
      "[-0.66400105] [1.4] 2999.2\n",
      "[-0.66400105] [0.63] 3000.97\n",
      "[-0.66400105] [37.04] 3008.89\n",
      "[-0.66400105] [-7.07] 3006.31\n",
      "[-0.66400105] [18.82] 2989.5400000000004\n",
      "[-0.66400105] [11.34] 3052.24\n",
      "[-0.66400105] [-19.08] 3005.5\n",
      "[-0.66400105] [7.52] 3107.58\n",
      "[-0.66400105] [9.45] 3016.3900000000003\n",
      "[-0.66400105] [-56.53] 3088.7599999999998\n",
      "[-0.66400105] [89.62] 3142.77\n",
      "[-0.66400105] [-49.07] 3149.02\n",
      "[-0.66400105] [24.1] 3177.1800000000003\n",
      "[-0.66400105] [-2.45] 3174.9700000000003\n",
      "[-0.66400105] [-63.55] 3135.66\n",
      "[-0.66400105] [17.03] 3222.3\n",
      "[-0.66400105] [26.14] 3195.06\n",
      "[-0.66400105] [-12.78] 3330.91\n",
      "[-0.66400105] [-16.55] 3035.78\n",
      "[-0.66400105] [-142.83] 3194.1600000000003\n",
      "[-0.66400105] [174.59] 3203.6\n",
      "[-0.66400105] [-67.68] 3256.7000000000003\n",
      "[-0.66400105] [28.18] 3121.88\n",
      "[-0.66400105] [-102.51] 3206.5699999999997\n",
      "[-0.66400105] [136.] 3265.26\n",
      "[-0.66400105] [-72.8] 3227.89\n",
      "[-0.66400105] [5.23] 3193.85\n",
      "[-0.66400105] [-22.42] 3178.45\n",
      "[-0.66400105] [1.3] 3191.11\n",
      "[-0.66400105] [27.04] 3136.24\n",
      "[-0.66400105] [-7.18] 3233.6800000000003\n",
      "[-0.66400105] [67.96] 3171.9799999999996\n",
      "[-0.66400105] [-44.61] 3205.76\n",
      "[-0.66400105] [33.93] 3147.1299999999997\n",
      "[-0.66400105] [-45.07] 3141.8\n",
      "[-0.66400105] [33.67] 3190.99\n",
      "[-0.66400105] [32.62] 3127.59\n",
      "[-0.66400105] [-92.74] 3065.48\n",
      "[-0.66400105] [34.74] 3136.8199999999997\n",
      "[-0.66400105] [78.59] 3168.02\n",
      "[-0.66400105] [-94.13] 3061.66\n",
      "[-0.66400105] [20.83] 3085.73\n",
      "[-0.66400105] [23.61] 3096.25\n",
      "[-0.66400105] [-39.12] 3057.89\n",
      "[-0.66400105] [52.24] 3050.27\n",
      "[-0.66400105] [19.97] 3125.5099999999998\n",
      "[-0.66400105] [-5.22] 3032.0499999999997\n",
      "[-0.66400105] [-40.16] 3102.7200000000003\n",
      "[-0.66400105] [-11.87] 2935.4\n",
      "[-0.66400105] [-21.44] 3011.47\n",
      "[-0.66400105] [5.04] 2983.3900000000003\n",
      "[-0.66400105] [35.06] 2908.31\n",
      "[-0.66400105] [-22.46] 2887.25\n",
      "[-0.66400105] [-0.38] 2876.5099999999998\n",
      "[-0.66400105] [-23.98] 2759.9\n",
      "[-0.66400105] [-3.88] 2751.45\n",
      "[-0.66400105] [-23.11] 2658.0000000000005\n",
      "[-0.66400105] [7.29] 2713.8999999999996\n",
      "[-0.66400105] [77.88] 2754.7799999999997\n",
      "[-0.66400105] [-61.84] 2669.91\n",
      "[-0.66400105] [27.28] 2765.96\n",
      "[-0.66400105] [45.85] 2766.3700000000003\n",
      "[-0.66400105] [-16.79] 2805.0199999999995\n",
      "[-0.66400105] [13.94] 2777.67\n",
      "[-0.66400105] [-43.13] 2783.86\n",
      "[-0.66400105] [39.99] 2803.8599999999997\n",
      "[-0.66400105] [-8.15] 2834.12\n",
      "[-0.66400105] [13.47] 2815.05\n",
      "[-0.66400105] [-112.85] 2706.96\n",
      "[-0.66400105] [67.75] 2812.71\n",
      "[-0.66400105] [0.02] 2764.7000000000003\n",
      "[-0.66400105] [48.84] 2830.42\n",
      "[-0.66400105] [-32.22] 2780.7400000000002\n",
      "[-0.66400105] [3.71] 2842.43\n",
      "[-0.66400105] [-3.16] 2759.1\n",
      "[-0.66400105] [-40.66] 2806.6\n",
      "[-0.66400105] [37.42] 2820.44\n",
      "[-0.66400105] [-38.2] 2729.05\n",
      "[-0.66400105] [5.73] 2793.41\n",
      "[-0.66400105] [14.82] 2755.27\n",
      "[-0.66400105] [5.94] 2781.71\n",
      "[-0.66400105] [-50.17] 2712.49\n",
      "[-0.66400105] [36.62] 2771.0499999999997\n",
      "[-0.66400105] [-10.33] 2695.5400000000004\n",
      "[-0.66400105] [-45.97] 2743.1200000000003\n",
      "[-0.66400105] [76.67] 2744.27\n",
      "[-0.66400105] [-39.26] 2743.27\n",
      "[-0.66400105] [-2.97] 2727.06\n",
      "[-0.66400105] [-45.36] 2645.34\n",
      "[-0.66400105] [7.85] 2716.6\n",
      "[-0.66400105] [65.98] 2742.28\n",
      "[-0.66400105] [0.59] 2637.47\n",
      "[-0.66400105] [-7.32] 2841.02\n",
      "[-0.66400105] [122.44] 2798.2999999999997\n",
      "[-0.66400105] [-98.04] 2810.35\n",
      "[-0.66400105] [26.04] 2729.5300000000007\n",
      "[-0.66400105] [-12.75] 2906.46\n",
      "[-0.66400105] [65.36] 2722.71\n",
      "[-0.66400105] [-76.67] 2901.77\n",
      "[-0.66400105] [130.28] 2818.94\n",
      "[-0.66400105] [-74.2] 2914.9500000000003\n",
      "[-0.66400105] [38.23] 2862.8\n",
      "[-0.66400105] [-43.46] 2914.28\n",
      "[-0.66400105] [29.7] 2973.57\n",
      "[-0.66400105] [-1.07] 2958.74\n",
      "[-0.66400105] [-22.33] 3007.81\n",
      "[-0.66400105] [-15.55] 2992.63\n",
      "[-0.66400105] [13.83] 3083.5699999999997\n",
      "[-0.66400105] [2.22] 3073.2900000000004\n",
      "[-0.66400105] [-44.88] 3041.86\n",
      "[-0.66400105] [62.11] 3187.89\n",
      "[-0.66400105] [8.36] 3123.3600000000006\n",
      "[-0.66400105] [-75.52] 3154.2\n",
      "[-0.66400105] [-5.48] 3166.81\n",
      "[-0.66400105] [-89.02] 3084.46\n",
      "[-0.66400105] [-29.31] 3062.25\n",
      "[-0.66400105] [-66.08] 3026.4700000000003\n",
      "[-0.66400105] [27.74] 2989.52\n",
      "[-0.66400105] [36.93] 3113.48\n",
      "[-0.66400105] [158.06] 3039.1\n",
      "[-0.66400105] [-82.69] 3157.04\n",
      "[-0.66400105] [122.4] 3061.57\n",
      "[-0.66400105] [-52.] 3177.73\n",
      "[-0.66400105] [69.2] 3081.34\n",
      "[-0.66400105] [-52.58] 3106.17\n",
      "[-0.66400105] [-11.88] 3078.28\n",
      "[-0.66400105] [50.13] 3102.59\n",
      "[-0.66400105] [-7.66] 3042.45\n",
      "[-0.66400105] [34.15] 3134.88\n",
      "[-0.66400105] [15.72] 3106.46\n",
      "[-0.66400105] [-12.68] 3014.1299999999997\n",
      "[-0.66400105] [-51.61] 3047.2200000000003\n",
      "[-0.66400105] [85.42] 3007.47\n",
      "[-0.66400105] [-48.06] 3010.4\n",
      "[-0.66400105] [39.54] 2991.71\n",
      "[-0.66400105] [13.14] 2956.4399999999996\n",
      "[-0.66400105] [-11.64] 3011.8\n",
      "[-0.66400105] [-1.92] 2897.3700000000003\n",
      "[-0.66400105] [-65.72] 2860.4199999999996\n",
      "[-0.66400105] [60.58] 2906.82\n",
      "[-0.66400105] [-2.91] 2865.3\n",
      "[-0.66400105] [-23.52] 2794.96\n",
      "[-0.66400105] [-33.62] 2799.5199999999995\n",
      "[-0.66400105] [28.76] 2743.1500000000005\n",
      "[-0.66400105] [-39.73] 2715.93\n",
      "[-0.66400105] [43.45] 2709.43\n",
      "[-0.66400105] [-25.84] 2654.6299999999997\n",
      "[-0.66400105] [8.63] 2669.41\n",
      "[-0.66400105] [40.65] 2580.1700000000005\n",
      "[-0.66400105] [-103.67] 2550.81\n",
      "[-0.66400105] [87.53] 2551.33\n",
      "[-0.66400105] [18.46] 2559.85\n",
      "[-0.66400105] [-7.2] 2584.61\n",
      "[-0.66400105] [-15.69] 2511.62\n",
      "[-0.66400105] [-78.56] 2432.73\n",
      "[-0.66400105] [36.65] 2504.7900000000004\n",
      "[-0.66400105] [5.51] 2400.8599999999997\n",
      "[-0.66400105] [-29.99] 2474.61\n",
      "[-0.66400105] [67.19] 2366.8300000000004\n",
      "[-0.66400105] [-66.87] 2432.6099999999997\n",
      "[-0.66400105] [12.49] 2331.0\n",
      "[-0.66400105] [22.29] 2351.78\n",
      "[-0.66400105] [-4.9] 2353.29\n",
      "[-0.66400105] [7.19] 2323.29\n",
      "[-0.66400105] [-3.4] 2301.44\n",
      "[-0.66400105] [-24.2] 2253.56\n",
      "[-0.66400105] [27.23] 2286.79\n",
      "[-0.66400105] [-10.23] 2236.0499999999997\n",
      "[-0.66400105] [-28.86] 2189.5099999999998\n",
      "[-0.66400105] [9.93] 2186.91\n",
      "[-0.66400105] [10.66] 2154.1000000000004\n",
      "[-0.66400105] [2.14] 2162.2799999999997\n",
      "[-0.66400105] [1.35] 2111.05\n",
      "[-0.66400105] [-8.31] 2120.57\n",
      "[-0.66400105] [19.14] 2064.95\n",
      "[-0.66400105] [-28.84] 2037.28\n",
      "[-0.66400105] [34.89] 2102.91\n",
      "[-0.66400105] [27.84] 2020.5500000000002\n",
      "[-0.66400105] [-71.44] 2008.18\n",
      "[-0.66400105] [14.47] 1963.21\n",
      "[-0.66400105] [3.89] 1995.3\n",
      "[-0.66400105] [6.69] 1918.41\n",
      "[-0.66400105] [-44.87] 1918.04\n",
      "[-0.66400105] [41.18] 1897.1499999999999\n",
      "[-0.66400105] [-1.12] 1901.3\n",
      "[-0.66400105] [-17.34] 1843.77\n",
      "[-0.66400105] [2.92] 1853.78\n",
      "[-0.66400105] [-9.47] 1827.9700000000003\n",
      "[-0.66400105] [22.84] 1823.1599999999999\n",
      "[-0.66400105] [-22.87] 1809.63\n",
      "[-0.66400105] [3.] 1772.75\n",
      "[-0.66400105] [6.83] 1794.36\n",
      "[-0.66400105] [1.26] 1757.61\n",
      "[-0.66400105] [3.71] 1763.5\n",
      "[-0.66400105] [8.69] 1759.44\n",
      "[-0.66400105] [-18.06] 1729.79\n",
      "[-0.66400105] [-8.89] 1709.51\n",
      "[-0.66400105] [23.83] 1733.23\n",
      "[-0.66400105] [-15.14] 1705.97\n",
      "[-0.66400105] [-5.1] 1680.8400000000001\n",
      "[-0.66400105] [-2.99] 1680.28\n"
     ]
    },
    {
     "name": "stdout",
     "output_type": "stream",
     "text": [
      "[-0.66400105] [1.6] 1670.3500000000001\n",
      "[-0.66400105] [8.56] 1661.78\n",
      "[-0.66400105] [-5.31] 1676.02\n",
      "[-0.66400105] [18.88] 1653.12\n",
      "[-0.66400105] [-14.48] 1672.13\n",
      "[-0.66400105] [-4.61] 1633.4499999999998\n",
      "[-0.66400105] [-8.32] 1651.45\n",
      "[-0.66400105] [9.29] 1623.7500000000002\n",
      "[-0.66400105] [-8.46] 1634.61\n",
      "[-0.66400105] [0.66] 1616.23\n",
      "[-0.66400105] [-2.83] 1611.99\n",
      "[-0.66400105] [4.16] 1609.74\n",
      "[-0.66400105] [0.76] 1603.4599999999998\n",
      "[-0.66400105] [-1.96] 1601.95\n",
      "[-0.66400105] [14.14] 1606.94\n",
      "[-0.66400105] [-14.38] 1600.69\n",
      "[-0.66400105] [7.55] 1589.03\n",
      "[-0.66400105] [-2.64] 1603.79\n",
      "[-0.66400105] [-1.12] 1581.9199999999998\n",
      "[-0.66400105] [-4.15] 1586.0100000000002\n",
      "[-0.66400105] [5.62] 1582.22\n",
      "[-0.66400105] [10.72] 1589.73\n",
      "[-0.66400105] [5.28] 1599.75\n",
      "[-0.66400105] [-5.17] 1593.0599999999997\n",
      "[-0.66400105] [-14.67] 1575.3600000000001\n",
      "[-0.66400105] [1.94] 1588.43\n",
      "[-0.66400105] [-4.44] 1588.32\n",
      "[-0.66400105] [5.08] 1574.4899999999998\n",
      "[-0.66400105] [-13.07] 1593.67\n",
      "[-0.66400105] [31.27] 1602.5500000000002\n",
      "[-0.66400105] [-22.73] 1604.57\n",
      "[-0.66400105] [11.03] 1616.96\n",
      "[-0.66400105] [-16.69] 1596.99\n",
      "[-0.66400105] [-16.09] 1615.62\n",
      "[-0.66400105] [19.75] 1630.3999999999999\n",
      "[-0.66400105] [24.76] 1658.79\n",
      "[-0.66400105] [-15.52] 1664.93\n",
      "[-0.66400105] [2.01] 1686.9800000000002\n",
      "[-0.66400105] [3.52] 1684.15\n",
      "[-0.66400105] [-18.99] 1672.26\n",
      "[-0.66400105] [17.95] 1736.34\n",
      "[-0.66400105] [12.66] 1756.04\n",
      "[-0.66400105] [-8.19] 1746.1299999999999\n",
      "[-0.66400105] [-10.57] 1799.3600000000001\n",
      "[-0.66400105] [-26.58] 1789.52\n",
      "[-0.66400105] [-3.47] 1817.9099999999999\n",
      "[-0.66400105] [-10.] 1856.2\n",
      "[-0.66400105] [-5.45] 1870.38\n",
      "[-0.66400105] [-18.15] 1920.32\n",
      "[-0.66400105] [6.65] 1937.2900000000002\n",
      "[-0.66400105] [-30.22] 1995.9099999999999\n",
      "[-0.66400105] [-5.06] 2023.4699999999998\n",
      "[-0.66400105] [-31.65] 2035.8800000000003\n",
      "[-0.66400105] [-34.12] 2061.2299999999996\n",
      "[-0.66400105] [-30.22] 2120.59\n",
      "[-0.66400105] [8.32] 2155.67\n",
      "[-0.66400105] [-64.82] 2118.75\n",
      "[-0.66400105] [-17.37] 2269.82\n",
      "[-0.66400105] [26.41] 2253.54\n",
      "[-0.66400105] [-74.55] 2292.9199999999996\n",
      "[-0.66400105] [-38.05] 2321.86\n",
      "[-0.66400105] [9.68] 2370.08\n",
      "[-0.66400105] [-130.99] 2293.84\n",
      "[-0.66400105] [38.36] 2390.6600000000003\n",
      "[-0.66400105] [-0.54] 2442.97\n",
      "[-0.66400105] [-3.37] 2436.1600000000003\n",
      "[-0.66400105] [-15.65] 2464.9599999999996\n",
      "[-0.66400105] [24.39] 2556.59\n",
      "[-0.66400105] [74.37] 2564.63\n",
      "[-0.66400105] [-2.09] 2644.64\n",
      "[-0.66400105] [46.32] 2682.62\n",
      "[-0.66400105] [31.] 2660.3199999999997\n",
      "[-0.66400105] [32.92] 2801.2599999999998\n",
      "[-0.66400105] [69.29] 2754.4300000000003\n",
      "[-0.66400105] [5.35] 2827.99\n",
      "[-0.66400105] [103.85] 2861.3300000000004\n",
      "[-0.66400105] [-15.43] 2918.9599999999996\n",
      "[-0.66400105] [79.41] 2944.0400000000004\n",
      "[-0.66400105] [43.99] 3032.93\n",
      "[-0.66400105] [-109.48] 2940.22\n",
      "[-0.66400105] [67.87] 3023.08\n",
      "[-0.66400105] [-55.87] 2933.2500000000005\n",
      "[-0.66400105] [46.41] 3041.8999999999996\n",
      "[-0.66400105] [34.17] 3056.38\n",
      "[-0.66400105] [35.54] 3030.17\n",
      "[-0.66400105] [1.33] 3121.29\n",
      "[-0.66400105] [60.21] 3097.43\n",
      "[-0.66400105] [-31.15] 3126.0099999999998\n",
      "[-0.66400105] [-2.69] 3080.98\n",
      "[-0.66400105] [43.15] 3157.94\n",
      "[-0.66400105] [15.51] 3163.39\n",
      "[-0.66400105] [-6.16] 3110.0400000000004\n",
      "[-0.66400105] [4.49] 3203.83\n",
      "[-0.66400105] [19.01] 3178.03\n",
      "[-0.66400105] [-31.5] 3182.6299999999997\n",
      "[-0.66400105] [41.64] 3279.23\n",
      "[-0.66400105] [-32.84] 3180.07\n",
      "[-0.66400105] [-14.82] 3292.43\n",
      "[-0.66400105] [45.74] 3317.87\n",
      "[-0.66400105] [57.62] 3342.55\n",
      "[-0.66400105] [-67.8] 3353.12\n",
      "[-0.66400105] [67.84] 3390.76\n",
      "[-0.66400105] [-7.96] 3430.52\n",
      "[-0.66400105] [0.14] 3399.65\n",
      "[-0.66400105] [15.76] 3424.98\n",
      "[-0.66400105] [-17.65] 3429.62\n",
      "[-0.66400105] [37.75] 3383.4800000000005\n",
      "[-0.66400105] [35.7] 3524.48\n",
      "[-0.66400105] [22.61] 3469.5\n",
      "[-0.66400105] [-42.71] 3530.48\n",
      "[-0.66400105] [10.45] 3416.82\n",
      "[-0.66400105] [-88.27] 3465.27\n",
      "[-0.66400105] [53.65] 3453.9\n",
      "[-0.66400105] [38.95] 3482.5299999999997\n",
      "[-0.66400105] [7.69] 3500.5600000000004\n",
      "[-0.66400105] [-24.87] 3454.13\n",
      "[-0.66400105] [-1.84] 3472.56\n",
      "[-0.66400105] [-0.26] 3457.17\n",
      "[-0.66400105] [-19.75] 3454.26\n",
      "[-0.66400105] [5.78] 3414.82\n",
      "[-0.66400105] [-2.53] 3432.3999999999996\n",
      "[-0.66400105] [-4.36] 3421.66\n",
      "[-0.66400105] [52.61] 3398.1\n",
      "[-0.66400105] [-24.46] 3437.7200000000003\n",
      "[-0.66400105] [-12.09] 3407.37\n",
      "[-0.66400105] [19.79] 3325.78\n",
      "[-0.66400105] [-57.44] 3414.5\n",
      "[-0.66400105] [53.4] 3364.32\n",
      "[-0.66400105] [-56.55] 3269.1099999999997\n",
      "[-0.66400105] [-24.48] 3346.51\n",
      "[-0.66400105] [36.3] 3312.18\n",
      "[-0.66400105] [-41.25] 3238.1200000000003\n",
      "[-0.66400105] [-15.36] 3263.06\n",
      "[-0.66400105] [39.52] 3237.41\n",
      "[-0.66400105] [-5.26] 3293.25\n",
      "[-0.66400105] [46.05] 3198.46\n",
      "[-0.66400105] [-44.82] 3259.7299999999996\n",
      "[-0.66400105] [25.49] 3199.6200000000003\n",
      "[-0.66400105] [-77.8] 3068.82\n",
      "[-0.66400105] [18.2] 3042.36\n",
      "[-0.66400105] [2.54] 3054.26\n",
      "[-0.66400105] [41.22] 2959.64\n",
      "[-0.66400105] [-38.65] 2942.9399999999996\n",
      "[-0.66400105] [-12.5] 2907.58\n",
      "[-0.66400105] [-8.18] 2815.58\n",
      "[-0.66400105] [-19.27] 2926.31\n",
      "[-0.66400105] [-0.41] 2859.6\n",
      "[-0.66400105] [-5.15] 2887.86\n",
      "[-0.66400105] [-70.03] 2848.9700000000003\n",
      "[-0.66400105] [22.97] 2853.52\n",
      "[-0.66400105] [-39.07] 2870.22\n",
      "[-0.66400105] [37.08] 2865.35\n",
      "[-0.66400105] [-19.96] 2887.01\n",
      "[-0.66400105] [-11.59] 2779.36\n",
      "[-0.66400105] [-60.96] 2879.9300000000003\n",
      "[-0.66400105] [138.31] 2842.42\n",
      "[-0.66400105] [-45.18] 2951.81\n",
      "[-0.66400105] [11.57] 2834.31\n",
      "[-0.66400105] [-54.12] 2881.84\n",
      "[-0.66400105] [46.8] 2872.09\n",
      "[-0.66400105] [-25.48] 2870.8\n",
      "[-0.66400105] [-11.39] 2854.16\n",
      "[-0.66400105] [-27.57] 2798.4700000000003\n",
      "[-0.66400105] [26.81] 2883.0499999999997\n",
      "[-0.66400105] [1.92] 2802.67\n",
      "[-0.66400105] [-32.24] 2825.9100000000003\n",
      "[-0.66400105] [32.49] 2764.15\n",
      "[-0.66400105] [-42.88] 2834.5\n",
      "[-0.66400105] [80.96] 2799.2900000000004\n",
      "[-0.66400105] [-69.66] 2752.55\n",
      "[-0.66400105] [5.16] 2804.8399999999997\n",
      "[-0.66400105] [6.62] 2743.11\n",
      "[-0.66400105] [9.15] 2789.7000000000003\n",
      "[-0.66400105] [-24.95] 2721.3599999999997\n",
      "[-0.66400105] [-11.35] 2747.01\n",
      "[-0.66400105] [72.03] 2795.45\n",
      "[-0.66400105] [-5.96] 2795.36\n",
      "[-0.66400105] [-0.11] 2813.02\n",
      "[-0.66400105] [-18.01] 2819.96\n",
      "[-0.66400105] [-10.44] 2792.59\n",
      "[-0.66400105] [-113.76] 2760.19\n",
      "[-0.66400105] [89.66] 2823.1099999999997\n",
      "[-0.66400105] [-65.22] 2755.1800000000003\n",
      "[-0.66400105] [24.57] 2814.65\n",
      "[-0.66400105] [14.51] 2852.36\n",
      "[-0.66400105] [-5.04] 2821.9\n",
      "[-0.66400105] [-48.58] 2802.92\n",
      "[-0.66400105] [65.51] 2882.75\n",
      "[-0.66400105] [-30.34] 2873.4199999999996\n",
      "[-0.66400105] [-5.04] 2889.0899999999997\n",
      "[-0.66400105] [41.03] 2968.15\n",
      "[-0.66400105] [9.58] 2969.68\n",
      "[-0.66400105] [-46.95] 3001.1800000000003\n",
      "[-0.66400105] [26.23] 3000.62\n",
      "[-0.66400105] [-28.71] 3015.75\n",
      "[-0.66400105] [46.39] 3158.85\n",
      "[-0.66400105] [35.62] 3109.29\n",
      "[-0.66400105] [-81.66] 3089.7799999999997\n",
      "[-0.66400105] [34.53] 3129.8199999999997\n",
      "[-0.66400105] [10.2] 3087.32\n",
      "[-0.66400105] [97.93] 3257.5699999999997\n",
      "[-0.66400105] [53.06] 3191.51\n",
      "[-0.66400105] [-64.53] 3198.59\n",
      "[-0.66400105] [30.83] 3202.83\n",
      "[-0.66400105] [-21.2] 3265.81\n",
      "[-0.66400105] [25.05] 3174.0700000000006\n",
      "[-0.66400105] [-129.04] 3175.74\n",
      "[-0.66400105] [65.5] 3184.78\n",
      "[-0.66400105] [-83.82] 3126.69\n",
      "[-0.66400105] [72.03] 3193.1\n",
      "[-0.66400105] [-77.05] 3060.3599999999997\n",
      "[-0.66400105] [25.92] 3173.12\n",
      "[-0.66400105] [40.41] 3127.85\n",
      "[-0.66400105] [-37.95] 3156.02\n",
      "[-0.66400105] [23.59] 3101.0399999999995\n",
      "[-0.66400105] [-51.5] 3113.57\n",
      "[-0.66400105] [-46.62] 2999.6\n",
      "[-0.66400105] [71.72] 3116.02\n",
      "[-0.66400105] [-17.13] 2998.5000000000005\n",
      "[-0.66400105] [-183.76] 2862.59\n",
      "[-0.66400105] [140.38] 2979.5\n",
      "[-0.66400105] [32.45] 2968.48\n",
      "[-0.66400105] [-53.57] 2889.36\n",
      "[-0.66400105] [5.81] 2886.73\n",
      "[-0.66400105] [23.83] 2922.4300000000003\n",
      "[-0.66400105] [29.65] 2851.64\n",
      "[-0.66400105] [-46.69] 2830.7400000000002\n",
      "[-0.66400105] [18.86] 2797.98\n",
      "[-0.66400105] [14.29] 2804.3100000000004\n",
      "[-0.66400105] [17.41] 2757.7899999999995\n",
      "[-0.66400105] [25.32] 2809.92\n",
      "[-0.66400105] [20.56] 2733.97\n",
      "[-0.66400105] [-88.71] 2673.23\n",
      "[-0.66400105] [52.8] 2703.2500000000005\n",
      "[-0.66400105] [6.06] 2579.77\n",
      "[-0.66400105] [-57.86] 2623.87\n",
      "[-0.66400105] [60.15] 2585.59\n",
      "[-0.66400105] [-26.85] 2533.6\n",
      "[-0.66400105] [-48.2] 2485.4300000000003\n",
      "[-0.66400105] [3.76] 2451.08\n",
      "[-0.66400105] [15.89] 2509.19\n",
      "[-0.66400105] [71.5] 2470.66\n",
      "[-0.66400105] [-55.11] 2452.11\n",
      "[-0.66400105] [13.63] 2458.9900000000002\n",
      "[-0.66400105] [32.06] 2430.74\n",
      "[-0.66400105] [-47.87] 2354.45\n",
      "[-0.66400105] [21.76] 2451.79\n",
      "[-0.66400105] [60.24] 2383.23\n",
      "[-0.66400105] [-44.79] 2371.31\n",
      "[-0.66400105] [-61.37] 2300.86\n",
      "[-0.66400105] [5.05] 2255.1099999999997\n",
      "[-0.66400105] [63.64] 2348.33\n",
      "[-0.66400105] [-30.38] 2232.61\n",
      "[-0.66400105] [-45.44] 2201.77\n",
      "[-0.66400105] [43.44] 2233.26\n",
      "[-0.66400105] [26.44] 2213.8900000000003\n",
      "[-0.66400105] [-52.73] 2150.04\n",
      "[-0.66400105] [21.91] 2138.35\n",
      "[-0.66400105] [-32.3] 2104.5699999999997\n",
      "[-0.66400105] [57.] 2137.79\n"
     ]
    },
    {
     "name": "stdout",
     "output_type": "stream",
     "text": [
      "[-0.66400105] [-19.2] 2080.13\n",
      "[-0.66400105] [-31.6] 2056.64\n",
      "[-0.66400105] [35.31] 2057.2300000000005\n",
      "[-0.66400105] [-28.77] 1994.8099999999997\n",
      "[-0.66400105] [27.38] 2025.74\n",
      "[-0.66400105] [-9.2] 1993.59\n",
      "[-0.66400105] [-12.92] 1938.5\n",
      "[-0.66400105] [-8.46] 1910.57\n",
      "[-0.66400105] [17.45] 1937.18\n",
      "[-0.66400105] [-5.54] 1888.9699999999998\n",
      "[-0.66400105] [8.56] 1860.42\n",
      "[-0.66400105] [-8.31] 1876.52\n",
      "[-0.66400105] [19.65] 1826.25\n",
      "[-0.66400105] [-42.04] 1826.53\n",
      "[-0.66400105] [36.9] 1791.91\n",
      "[-0.66400105] [-23.74] 1789.2299999999998\n",
      "[-0.66400105] [14.76] 1794.29\n",
      "[-0.66400105] [-4.66] 1747.18\n",
      "[-0.66400105] [-20.1] 1751.14\n",
      "[-0.66400105] [31.01] 1750.3799999999999\n",
      "[-0.66400105] [-6.42] 1723.1000000000001\n",
      "[-0.66400105] [1.22] 1729.43\n",
      "[-0.66400105] [-2.84] 1729.66\n",
      "[-0.66400105] [8.66] 1679.07\n",
      "[-0.66400105] [-15.78] 1697.05\n",
      "[-0.66400105] [14.27] 1686.17\n",
      "[-0.66400105] [-0.1] 1665.53\n",
      "[-0.66400105] [-6.45] 1665.4799999999998\n",
      "[-0.66400105] [14.36] 1656.0400000000002\n",
      "[-0.66400105] [0.64] 1672.3\n",
      "[-0.66400105] [-18.47] 1634.71\n",
      "[-0.66400105] [-8.15] 1613.5299999999997\n",
      "[-0.66400105] [-6.99] 1621.8400000000001\n",
      "[-0.66400105] [-14.19] 1586.5800000000002\n",
      "[-0.66400105] [16.95] 1603.7799999999997\n",
      "[-0.66400105] [22.95] 1608.1500000000003\n",
      "[-0.66400105] [-8.52] 1606.9999999999998\n",
      "[-0.66400105] [9.] 1604.61\n",
      "[-0.66400105] [5.69] 1602.66\n",
      "[-0.66400105] [0.64] 1598.33\n",
      "[-0.66400105] [0.23] 1608.3799999999999\n",
      "[-0.66400105] [3.96] 1582.3100000000002\n",
      "[-0.66400105] [-19.46] 1589.7699999999998\n",
      "[-0.66400105] [15.29] 1588.6200000000001\n",
      "[-0.66400105] [-8.01] 1570.47\n",
      "[-0.66400105] [-6.53] 1575.67\n",
      "[-0.66400105] [6.76] 1570.33\n",
      "[-0.66400105] [2.97] 1582.49\n",
      "[-0.66400105] [4.73] 1577.99\n",
      "[-0.66400105] [-6.9] 1568.1499999999999\n",
      "[-0.66400105] [-10.65] 1558.0200000000002\n",
      "[-0.66400105] [-3.89] 1564.05\n",
      "[-0.66400105] [19.44] 1559.41\n",
      "[-0.66400105] [-9.71] 1572.29\n",
      "[-0.66400105] [-7.81] 1546.22\n",
      "[-0.66400105] [0.88] 1577.61\n",
      "[-0.66400105] [17.27] 1560.06\n",
      "[-0.66400105] [-21.25] 1581.4499999999998\n",
      "[-0.66400105] [18.74] 1574.49\n",
      "[-0.66400105] [-5.05] 1582.43\n",
      "[-0.66400105] [-3.92] 1594.38\n",
      "[-0.66400105] [31.49] 1649.51\n",
      "[-0.66400105] [-25.26] 1598.7500000000002\n",
      "[-0.66400105] [-21.3] 1623.3700000000001\n",
      "[-0.66400105] [8.09] 1639.11\n",
      "[-0.66400105] [4.35] 1643.0\n",
      "[-0.66400105] [4.03] 1681.14\n",
      "[-0.66400105] [14.37] 1678.33\n",
      "[-0.66400105] [-31.15] 1690.41\n",
      "[-0.66400105] [16.77] 1724.5000000000002\n",
      "[-0.66400105] [1.19] 1699.77\n",
      "[-0.66400105] [-3.75] 1772.36\n",
      "[-0.66400105] [37.04] 1793.0300000000002\n",
      "[-0.66400105] [22.88] 1848.85\n",
      "[-0.66400105] [2.03] 1876.4700000000003\n",
      "[-0.66400105] [17.07] 1932.5199999999998\n",
      "[-0.66400105] [14.76] 1960.3500000000001\n",
      "[-0.66400105] [-7.27] 1995.21\n",
      "[-0.66400105] [15.22] 2042.46\n",
      "[-0.66400105] [26.44] 2093.99\n",
      "[-0.66400105] [33.5] 2143.8\n",
      "[-0.66400105] [36.39] 2244.08\n",
      "[-0.66400105] [12.79] 2243.0899999999997\n",
      "[-0.66400105] [11.46] 2337.08\n",
      "[-0.66400105] [42.31] 2386.25\n",
      "[-0.66400105] [28.87] 2465.23\n",
      "[-0.66400105] [15.18] 2500.6300000000006\n",
      "[-0.66400105] [43.45] 2631.1899999999996\n",
      "[-0.66400105] [56.75] 2576.21\n",
      "[-0.66400105] [-23.94] 2769.84\n",
      "[-0.66400105] [142.55] 2797.25\n",
      "[-0.66400105] [-59.32] 2831.92\n",
      "[-0.66400105] [23.14] 2895.0899999999997\n",
      "[-0.66400105] [-8.27] 2920.05\n",
      "[-0.66400105] [-31.85] 2966.98\n",
      "[-0.66400105] [20.38] 3002.53\n",
      "[-0.66400105] [-75.51] 2983.47\n",
      "[-0.66400105] [1.03] 3049.19\n",
      "[-0.66400105] [-19.8] 3069.29\n",
      "[-0.66400105] [-55.01] 3028.3500000000004\n",
      "[-0.66400105] [-48.54] 3056.81\n",
      "[-0.66400105] [-10.52] 3097.96\n",
      "[-0.66400105] [-67.69] 2984.5499999999997\n",
      "[-0.66400105] [-63.44] 3049.2900000000004\n",
      "[-0.66400105] [20.5] 3092.0\n",
      "[-0.66400105] [-61.37] 2902.24\n",
      "[-0.66400105] [-134.28] 3034.2000000000003\n",
      "[-0.66400105] [150.07] 2967.82\n",
      "[-0.66400105] [-93.78] 3059.18\n",
      "[-0.66400105] [37.67] 2994.78\n",
      "[-0.66400105] [-37.61] 3067.19\n",
      "[-0.66400105] [-10.68] 3036.78\n",
      "[-0.66400105] [-93.53] 2975.9199999999996\n",
      "[-0.66400105] [-64.76] 2910.92\n",
      "[-0.66400105] [-67.23] 2848.29\n",
      "[-0.66400105] [-8.38] 2914.33\n",
      "[-0.66400105] [264.3] 3105.9600000000005\n",
      "[-0.66400105] [-12.92] 3148.33\n",
      "[-0.66400105] [-9.08] 3155.35\n",
      "[-0.66400105] [0.91] 3117.4300000000003\n",
      "[-0.66400105] [-71.92] 3088.79\n",
      "[-0.66400105] [39.79] 3175.92\n",
      "[-0.66400105] [49.97] 3156.0099999999998\n",
      "[-0.66400105] [-54.85] 3215.7799999999997\n",
      "[-0.66400105] [-23.32] 3153.86\n",
      "[-0.66400105] [-37.88] 3240.2200000000003\n",
      "[-0.66400105] [20.92] 3161.16\n",
      "[-0.66400105] [-77.33] 3244.15\n",
      "[-0.66400105] [91.71] 3270.6299999999997\n",
      "[-0.66400105] [-83.37] 3233.0\n",
      "[-0.66400105] [12.57] 3300.9500000000003\n",
      "[-0.66400105] [30.6] 3267.27\n",
      "[-0.66400105] [-96.99] 3251.0099999999998\n",
      "[-0.66400105] [22.06] 3275.66\n",
      "[-0.66400105] [9.35] 3225.78\n",
      "[-0.66400105] [-29.39] 3272.0699999999997\n",
      "[-0.66400105] [24.23] 3294.48\n",
      "[-0.66400105] [42.5] 3299.2400000000002\n",
      "[-0.66400105] [-24.26] 3303.24\n",
      "[-0.66400105] [-19.51] 3317.48\n",
      "[-0.66400105] [-40.98] 3233.8700000000003\n",
      "[-0.66400105] [0.63] 3230.57\n",
      "[-0.66400105] [-34.31] 3237.32\n",
      "[-0.66400105] [68.89] 3261.3599999999997\n",
      "[-0.66400105] [-53.29] 3207.01\n",
      "[-0.66400105] [6.76] 3223.91\n",
      "[-0.66400105] [12.09] 3224.7799999999997\n",
      "[-0.66400105] [-22.11] 3161.4\n",
      "[-0.66400105] [5.78] 3241.73\n",
      "[-0.66400105] [54.31] 3208.2300000000005\n",
      "[-0.66400105] [-51.74] 3145.3\n",
      "[-0.66400105] [34.27] 3251.07\n",
      "[-0.66400105] [-0.27] 3143.22\n",
      "[-0.66400105] [-11.53] 3160.94\n",
      "[-0.66400105] [23.73] 3163.44\n",
      "[-0.66400105] [12.03] 3157.36\n",
      "[-0.66400105] [-10.59] 3112.34\n",
      "[-0.66400105] [40.93] 3153.1200000000003\n",
      "[-0.66400105] [-1.37] 3143.3099999999995\n",
      "[-0.66400105] [-36.83] 3087.3\n",
      "[-0.66400105] [-0.21] 3067.25\n",
      "[-0.66400105] [-15.29] 3077.62\n",
      "[-0.66400105] [31.96] 3074.5499999999997\n",
      "[-0.66400105] [23.23] 3073.3\n",
      "[-0.66400105] [-66.41] 2964.87\n",
      "[-0.66400105] [26.76] 3027.52\n",
      "[-0.66400105] [16.52] 2897.58\n",
      "[-0.66400105] [-7.79] 2902.0099999999998\n",
      "[-0.66400105] [15.73] 2849.77\n",
      "[-0.66400105] [-45.05] 2736.25\n",
      "[-0.66400105] [22.31] 2746.18\n",
      "[-0.66400105] [67.39] 2767.12\n",
      "[-0.66400105] [-24.39] 2669.59\n",
      "[-0.66400105] [-4.73] 2770.85\n",
      "[-0.66400105] [38.86] 2678.12\n",
      "[-0.66400105] [-10.5] 2788.8799999999997\n",
      "[-0.66400105] [66.9] 2754.85\n",
      "[-0.66400105] [-64.32] 2771.23\n",
      "[-0.66400105] [5.95] 2736.84\n",
      "[-0.66400105] [40.] 2780.34\n",
      "[-0.66400105] [45.1] 2797.73\n",
      "[-0.66400105] [7.17] 2896.52\n",
      "[-0.66400105] [-8.07] 2805.5299999999997\n",
      "[-0.66400105] [-37.46] 2787.31\n",
      "[-0.66400105] [24.43] 2855.44\n",
      "[-0.66400105] [28.08] 2866.94\n",
      "[-0.66400105] [17.82] 2860.0099999999998\n",
      "[-0.66400105] [-23.74] 2840.6099999999997\n",
      "[-0.66400105] [6.95] 2830.09\n",
      "[-0.66400105] [9.07] 2876.9\n",
      "[-0.66400105] [60.63] 2856.95\n",
      "[-0.66400105] [-75.89] 2831.4800000000005\n",
      "[-0.66400105] [23.19] 2839.02\n",
      "[-0.66400105] [30.74] 2817.63\n",
      "[-0.66400105] [-36.89] 2842.82\n",
      "[-0.66400105] [63.8] 2826.35\n",
      "[-0.66400105] [-23.29] 2842.6699999999996\n",
      "[-0.66400105] [33.15] 2830.5400000000004\n",
      "[-0.66400105] [14.68] 2900.04\n",
      "[-0.66400105] [7.61] 2811.8199999999997\n",
      "[-0.66400105] [-68.43] 2803.5800000000004\n",
      "[-0.66400105] [24.43] 2843.05\n",
      "[-0.66400105] [25.15] 2815.86\n",
      "[-0.66400105] [-13.94] 2856.2099999999996\n",
      "[-0.66400105] [5.03] 2843.25\n",
      "[-0.66400105] [-22.04] 2846.44\n",
      "[-0.66400105] [-2.96] 2747.1\n",
      "[-0.66400105] [5.13] 2928.2799999999997\n",
      "[-0.66400105] [61.07] 2802.07\n",
      "[-0.66400105] [-49.71] 2905.07\n",
      "[-0.66400105] [3.98] 2831.06\n",
      "[-0.66400105] [-1.52] 2869.46\n",
      "[-0.66400105] [-30.57] 2833.06\n",
      "[-0.66400105] [32.06] 2948.75\n",
      "[-0.66400105] [-37.48] 2796.4399999999996\n",
      "[-0.66400105] [88.88] 2990.4500000000003\n",
      "[-0.66400105] [2.04] 3029.23\n",
      "[-0.66400105] [-32.85] 2980.6000000000004\n",
      "[-0.66400105] [-5.66] 2997.47\n",
      "[-0.66400105] [-16.85] 3055.33\n",
      "[-0.66400105] [15.35] 3047.2400000000002\n",
      "[-0.66400105] [-18.59] 3103.19\n",
      "[-0.66400105] [35.57] 3143.12\n",
      "[-0.66400105] [-42.57] 3126.37\n",
      "[-0.66400105] [21.07] 3214.0699999999997\n",
      "[-0.66400105] [18.72] 3188.9500000000003\n",
      "[-0.66400105] [-63.36] 3253.36\n",
      "[-0.66400105] [53.17] 3219.16\n",
      "[-0.66400105] [-64.13] 3207.6900000000005\n",
      "[-0.66400105] [-9.44] 3227.5499999999997\n",
      "[-0.66400105] [24.55] 3207.15\n",
      "[-0.66400105] [-31.44] 3226.2000000000003\n",
      "[-0.66400105] [29.41] 3164.5\n",
      "[-0.66400105] [-34.84] 3232.46\n",
      "[-0.66400105] [67.87] 3152.68\n",
      "[-0.66400105] [-17.61] 3299.96\n",
      "[-0.66400105] [14.21] 3107.0\n",
      "[-0.66400105] [-77.54] 3198.84\n",
      "[-0.66400105] [15.39] 3095.98\n",
      "[-0.66400105] [-4.29] 3126.0899999999997\n",
      "[-0.66400105] [-0.06] 3142.3\n",
      "[-0.66400105] [43.44] 3138.82\n",
      "[-0.66400105] [-26.4] 3062.3199999999997\n",
      "[-0.66400105] [1.74] 3194.9300000000003\n",
      "[-0.66400105] [93.6] 3085.71\n",
      "[-0.66400105] [-49.48] 2986.02\n",
      "[-0.66400105] [6.39] 3199.0299999999997\n",
      "[-0.66400105] [167.72] 3122.91\n",
      "[-0.66400105] [-133.5] 3020.3\n",
      "[-0.66400105] [-61.39] 3007.27\n",
      "[-0.66400105] [91.16] 3037.33\n",
      "[-0.66400105] [-71.34] 2969.18\n",
      "[-0.66400105] [67.83] 2996.37\n",
      "[-0.66400105] [-52.4] 2938.73\n",
      "[-0.66400105] [-7.89] 2905.37\n",
      "[-0.66400105] [-32.65] 2843.08\n",
      "[-0.66400105] [-13.08] 2844.2400000000002\n",
      "[-0.66400105] [44.22] 2837.18\n",
      "[-0.66400105] [-15.87] 2764.17\n",
      "[-0.66400105] [-37.63] 2792.1\n",
      "[-0.66400105] [39.89] 2724.5099999999998\n",
      "[-0.66400105] [-29.01] 2661.6000000000004\n",
      "[-0.66400105] [17.3] 2673.4299999999994\n",
      "[-0.66400105] [42.74] 2673.2700000000004\n",
      "[-0.66400105] [-55.81] 2557.83\n",
      "[-0.66400105] [-24.04] 2533.76\n",
      "[-0.66400105] [23.37] 2521.0899999999997\n",
      "[-0.66400105] [28.73] 2571.0800000000004\n",
      "[-0.66400105] [33.09] 2535.67\n",
      "[-0.66400105] [-114.81] 2451.07\n",
      "[-0.66400105] [41.79] 2492.74\n",
      "[-0.66400105] [38.02] 2457.7099999999996\n",
      "[-0.66400105] [-58.95] 2440.14\n",
      "[-0.66400105] [44.02] 2446.3500000000004\n",
      "[-0.66400105] [13.41] 2452.07\n",
      "[-0.66400105] [-63.24] 2303.6899999999996\n",
      "[-0.66400105] [25.] 2383.19\n",
      "[-0.66400105] [59.71] 2431.04\n",
      "[-0.66400105] [-7.1] 2284.17\n",
      "[-0.66400105] [-47.67] 2314.66\n",
      "[-0.66400105] [10.31] 2298.13\n",
      "[-0.66400105] [21.22] 2271.5099999999998\n",
      "[-0.66400105] [-11.85] 2211.98\n",
      "[-0.66400105] [2.83] 2270.0799999999995\n",
      "[-0.66400105] [19.26] 2171.28\n",
      "[-0.66400105] [-23.64] 2225.25\n",
      "[-0.66400105] [43.55] 2158.82\n",
      "[-0.66400105] [-69.72] 2109.92\n",
      "[-0.66400105] [22.28] 2141.4500000000003\n",
      "[-0.66400105] [20.54] 2074.4199999999996\n",
      "[-0.66400105] [-34.93] 2096.23\n",
      "[-0.66400105] [-7.32] 1989.9099999999999\n",
      "[-0.66400105] [-24.36] 1992.76\n",
      "[-0.66400105] [39.42] 2004.4900000000002\n",
      "[-0.66400105] [0.98] 1976.29\n",
      "[-0.66400105] [7.34] 1932.7099999999998\n",
      "[-0.66400105] [-28.61] 1944.81\n",
      "[-0.66400105] [39.98] 1919.7100000000003\n"
     ]
    }
   ],
   "source": [
    "val_starting_idx = 1+288+2+split_idx # 1 = detrend, 288 = deseasonalize, 2=input seq created nans\n",
    "for i in range(len(y_val_hat)):\n",
    "    extra = dt_data['load'].values[val_starting_idx + i - 288] + data['load'].values[val_starting_idx + i - 1]\n",
    "#     y_val_hat[i] += extra\n",
    "#     y_val[i] += extra\n",
    "    print(y_val_hat[i], y_val[i], extra)"
   ]
  },
  {
   "cell_type": "markdown",
   "metadata": {},
   "source": [
    "## so, the difference values are so large in comparision to the predictions that it makes miniscule change in the y_val, and y_val_hat plots"
   ]
  },
  {
   "cell_type": "code",
   "execution_count": 138,
   "metadata": {
    "ExecuteTime": {
     "end_time": "2018-11-23T21:11:58.791800Z",
     "start_time": "2018-11-23T21:11:58.398456Z"
    }
   },
   "outputs": [
    {
     "data": {
      "text/plain": [
       "[<matplotlib.lines.Line2D at 0x7fe53549c710>]"
      ]
     },
     "execution_count": 138,
     "metadata": {},
     "output_type": "execute_result"
    },
    {
     "data": {
      "image/png": "[encoded data removed]",
      "text/plain": [
       "<Figure size 1080x432 with 1 Axes>"
      ]
     },
     "metadata": {
      "needs_background": "light"
     },
     "output_type": "display_data"
    }
   ],
   "source": [
    "plt.plot(data['load'].values[1+288+2+split_idx:])\n",
    "plt.plot(y_val_hat)"
   ]
  },
  {
   "cell_type": "code",
   "execution_count": 148,
   "metadata": {
    "ExecuteTime": {
     "end_time": "2018-11-23T21:21:50.661820Z",
     "start_time": "2018-11-23T21:21:50.655011Z"
    }
   },
   "outputs": [
    {
     "data": {
      "text/plain": [
       "(1,)"
      ]
     },
     "execution_count": 148,
     "metadata": {},
     "output_type": "execute_result"
    }
   ],
   "source": [
    "np.array([1]).shape"
   ]
  },
  {
   "cell_type": "markdown",
   "metadata": {},
   "source": [
    "Forecasting with the predicted values instead of val set values:"
   ]
  },
  {
   "cell_type": "code",
   "execution_count": 164,
   "metadata": {
    "ExecuteTime": {
     "end_time": "2018-11-23T21:25:10.325176Z",
     "start_time": "2018-11-23T21:25:10.318473Z"
    }
   },
   "outputs": [],
   "source": [
    "def make_forecasts(model, n_batch, train, test, n_lag, n_seq):\n",
    "    forecasts = list()\n",
    "    X = test[0, 0:n_lag]\n",
    "    for i in range(len(test)):        \n",
    "        X = X.reshape(1, 1, len(X))\n",
    "        # make forecast\n",
    "        forecast = model.predict(X, batch_size=n_batch)[0, 0]\n",
    "        X = np.array([forecast])\n",
    "        # store the forecast\n",
    "        forecasts.append(forecast)\n",
    "    return forecasts"
   ]
  },
  {
   "cell_type": "markdown",
   "metadata": {},
   "source": [
    "# Version 2\n",
    "\n",
    "Use last `nlags` days values at time t to predict the load of today's time t load"
   ]
  },
  {
   "cell_type": "code",
   "execution_count": 178,
   "metadata": {
    "ExecuteTime": {
     "end_time": "2018-11-24T08:37:37.432491Z",
     "start_time": "2018-11-24T08:37:37.418222Z"
    }
   },
   "outputs": [
    {
     "data": {
      "text/html": [
       "<div>\n",
       "<style scoped>\n",
       "    .dataframe tbody tr th:only-of-type {\n",
       "        vertical-align: middle;\n",
       "    }\n",
       "\n",
       "    .dataframe tbody tr th {\n",
       "        vertical-align: top;\n",
       "    }\n",
       "\n",
       "    .dataframe thead th {\n",
       "        text-align: right;\n",
       "    }\n",
       "</style>\n",
       "<table border=\"1\" class=\"dataframe\">\n",
       "  <thead>\n",
       "    <tr style=\"text-align: right;\">\n",
       "      <th></th>\n",
       "      <th>load</th>\n",
       "    </tr>\n",
       "    <tr>\n",
       "      <th>datetime</th>\n",
       "      <th></th>\n",
       "    </tr>\n",
       "  </thead>\n",
       "  <tbody>\n",
       "    <tr>\n",
       "      <th>2018-10-24 00:00:00</th>\n",
       "      <td>2520.40</td>\n",
       "    </tr>\n",
       "    <tr>\n",
       "      <th>2018-10-24 00:05:00</th>\n",
       "      <td>2476.88</td>\n",
       "    </tr>\n",
       "    <tr>\n",
       "      <th>2018-10-24 00:10:00</th>\n",
       "      <td>2479.99</td>\n",
       "    </tr>\n",
       "  </tbody>\n",
       "</table>\n",
       "</div>"
      ],
      "text/plain": [
       "                        load\n",
       "datetime                    \n",
       "2018-10-24 00:00:00  2520.40\n",
       "2018-10-24 00:05:00  2476.88\n",
       "2018-10-24 00:10:00  2479.99"
      ]
     },
     "execution_count": 178,
     "metadata": {},
     "output_type": "execute_result"
    }
   ],
   "source": [
    "data.head(3)"
   ]
  },
  {
   "cell_type": "code",
   "execution_count": 196,
   "metadata": {
    "ExecuteTime": {
     "end_time": "2018-11-24T08:42:38.605815Z",
     "start_time": "2018-11-24T08:42:38.000194Z"
    }
   },
   "outputs": [
    {
     "data": {
      "text/plain": [
       "<matplotlib.axes._subplots.AxesSubplot at 0x7fe4b6c0f5f8>"
      ]
     },
     "execution_count": 196,
     "metadata": {},
     "output_type": "execute_result"
    },
    {
     "data": {
      "image/png": "[encoded data removed]",
      "text/plain": [
       "<Figure size 1080x432 with 1 Axes>"
      ]
     },
     "metadata": {
      "needs_background": "light"
     },
     "output_type": "display_data"
    }
   ],
   "source": [
    "data.at_time('00:05:00').plot()"
   ]
  },
  {
   "cell_type": "code",
   "execution_count": 269,
   "metadata": {
    "ExecuteTime": {
     "end_time": "2018-11-24T10:20:30.465282Z",
     "start_time": "2018-11-24T10:20:30.444230Z"
    }
   },
   "outputs": [],
   "source": [
    "df = pd.DataFrame(columns=['time'] + list(map(str, range(30))))"
   ]
  },
  {
   "cell_type": "code",
   "execution_count": 270,
   "metadata": {
    "ExecuteTime": {
     "end_time": "2018-11-24T10:20:33.112969Z",
     "start_time": "2018-11-24T10:20:31.196252Z"
    }
   },
   "outputs": [],
   "source": [
    "for idx, time in enumerate(sorted(set(data.index.time))):\n",
    "    df.loc[idx] = [time.strftime(format='%H:%M:%S')] + list(data.at_time(time)['load'].values)\n",
    "#     data.at_time(time).plot()\n",
    "#     if idx>10: break"
   ]
  },
  {
   "cell_type": "code",
   "execution_count": 271,
   "metadata": {
    "ExecuteTime": {
     "end_time": "2018-11-24T10:20:33.147185Z",
     "start_time": "2018-11-24T10:20:33.115664Z"
    }
   },
   "outputs": [
    {
     "data": {
      "text/html": [
       "<div>\n",
       "<style scoped>\n",
       "    .dataframe tbody tr th:only-of-type {\n",
       "        vertical-align: middle;\n",
       "    }\n",
       "\n",
       "    .dataframe tbody tr th {\n",
       "        vertical-align: top;\n",
       "    }\n",
       "\n",
       "    .dataframe thead th {\n",
       "        text-align: right;\n",
       "    }\n",
       "</style>\n",
       "<table border=\"1\" class=\"dataframe\">\n",
       "  <thead>\n",
       "    <tr style=\"text-align: right;\">\n",
       "      <th></th>\n",
       "      <th>time</th>\n",
       "      <th>0</th>\n",
       "      <th>1</th>\n",
       "      <th>2</th>\n",
       "      <th>3</th>\n",
       "      <th>4</th>\n",
       "      <th>5</th>\n",
       "      <th>6</th>\n",
       "      <th>7</th>\n",
       "      <th>8</th>\n",
       "      <th>...</th>\n",
       "      <th>20</th>\n",
       "      <th>21</th>\n",
       "      <th>22</th>\n",
       "      <th>23</th>\n",
       "      <th>24</th>\n",
       "      <th>25</th>\n",
       "      <th>26</th>\n",
       "      <th>27</th>\n",
       "      <th>28</th>\n",
       "      <th>29</th>\n",
       "    </tr>\n",
       "  </thead>\n",
       "  <tbody>\n",
       "    <tr>\n",
       "      <th>0</th>\n",
       "      <td>00:00:00</td>\n",
       "      <td>2520.40</td>\n",
       "      <td>2491.14</td>\n",
       "      <td>2487.83</td>\n",
       "      <td>2567.64</td>\n",
       "      <td>2286.14</td>\n",
       "      <td>2313.41</td>\n",
       "      <td>2354.25</td>\n",
       "      <td>2368.88</td>\n",
       "      <td>2335.87</td>\n",
       "      <td>...</td>\n",
       "      <td>1905.57</td>\n",
       "      <td>1794.49</td>\n",
       "      <td>1837.89</td>\n",
       "      <td>2016.32</td>\n",
       "      <td>1899.06</td>\n",
       "      <td>1807.17</td>\n",
       "      <td>1763.10</td>\n",
       "      <td>1864.32</td>\n",
       "      <td>1869.17</td>\n",
       "      <td>1861.12</td>\n",
       "    </tr>\n",
       "    <tr>\n",
       "      <th>1</th>\n",
       "      <td>00:05:00</td>\n",
       "      <td>2476.88</td>\n",
       "      <td>2491.30</td>\n",
       "      <td>2457.67</td>\n",
       "      <td>2540.15</td>\n",
       "      <td>2272.77</td>\n",
       "      <td>2285.99</td>\n",
       "      <td>2329.92</td>\n",
       "      <td>2344.27</td>\n",
       "      <td>2325.04</td>\n",
       "      <td>...</td>\n",
       "      <td>1886.34</td>\n",
       "      <td>1795.78</td>\n",
       "      <td>1845.33</td>\n",
       "      <td>1987.13</td>\n",
       "      <td>1881.36</td>\n",
       "      <td>1830.02</td>\n",
       "      <td>1749.68</td>\n",
       "      <td>1856.01</td>\n",
       "      <td>1863.78</td>\n",
       "      <td>1813.69</td>\n",
       "    </tr>\n",
       "    <tr>\n",
       "      <th>2</th>\n",
       "      <td>00:10:00</td>\n",
       "      <td>2479.99</td>\n",
       "      <td>2485.60</td>\n",
       "      <td>2436.98</td>\n",
       "      <td>2529.15</td>\n",
       "      <td>2258.46</td>\n",
       "      <td>2258.82</td>\n",
       "      <td>2344.88</td>\n",
       "      <td>2323.11</td>\n",
       "      <td>2304.88</td>\n",
       "      <td>...</td>\n",
       "      <td>1844.60</td>\n",
       "      <td>1756.93</td>\n",
       "      <td>1826.49</td>\n",
       "      <td>1995.60</td>\n",
       "      <td>1863.87</td>\n",
       "      <td>1811.94</td>\n",
       "      <td>1744.79</td>\n",
       "      <td>1830.61</td>\n",
       "      <td>1828.91</td>\n",
       "      <td>1815.72</td>\n",
       "    </tr>\n",
       "    <tr>\n",
       "      <th>3</th>\n",
       "      <td>00:15:00</td>\n",
       "      <td>2467.38</td>\n",
       "      <td>2460.68</td>\n",
       "      <td>2421.81</td>\n",
       "      <td>2523.26</td>\n",
       "      <td>2259.57</td>\n",
       "      <td>2255.95</td>\n",
       "      <td>2342.85</td>\n",
       "      <td>2316.47</td>\n",
       "      <td>2298.62</td>\n",
       "      <td>...</td>\n",
       "      <td>1872.64</td>\n",
       "      <td>1769.04</td>\n",
       "      <td>1808.62</td>\n",
       "      <td>1983.07</td>\n",
       "      <td>1851.78</td>\n",
       "      <td>1752.79</td>\n",
       "      <td>1731.72</td>\n",
       "      <td>1820.61</td>\n",
       "      <td>1841.75</td>\n",
       "      <td>1804.82</td>\n",
       "    </tr>\n",
       "    <tr>\n",
       "      <th>4</th>\n",
       "      <td>00:20:00</td>\n",
       "      <td>2460.86</td>\n",
       "      <td>2449.49</td>\n",
       "      <td>2423.02</td>\n",
       "      <td>2509.79</td>\n",
       "      <td>2238.66</td>\n",
       "      <td>2243.72</td>\n",
       "      <td>2315.55</td>\n",
       "      <td>2309.83</td>\n",
       "      <td>2296.95</td>\n",
       "      <td>...</td>\n",
       "      <td>1820.45</td>\n",
       "      <td>1768.90</td>\n",
       "      <td>1795.87</td>\n",
       "      <td>1967.24</td>\n",
       "      <td>1829.15</td>\n",
       "      <td>1750.78</td>\n",
       "      <td>1712.27</td>\n",
       "      <td>1819.67</td>\n",
       "      <td>1817.94</td>\n",
       "      <td>1795.77</td>\n",
       "    </tr>\n",
       "  </tbody>\n",
       "</table>\n",
       "<p>5 rows × 31 columns</p>\n",
       "</div>"
      ],
      "text/plain": [
       "       time        0        1        2        3        4        5        6  \\\n",
       "0  00:00:00  2520.40  2491.14  2487.83  2567.64  2286.14  2313.41  2354.25   \n",
       "1  00:05:00  2476.88  2491.30  2457.67  2540.15  2272.77  2285.99  2329.92   \n",
       "2  00:10:00  2479.99  2485.60  2436.98  2529.15  2258.46  2258.82  2344.88   \n",
       "3  00:15:00  2467.38  2460.68  2421.81  2523.26  2259.57  2255.95  2342.85   \n",
       "4  00:20:00  2460.86  2449.49  2423.02  2509.79  2238.66  2243.72  2315.55   \n",
       "\n",
       "         7        8   ...          20       21       22       23       24  \\\n",
       "0  2368.88  2335.87   ...     1905.57  1794.49  1837.89  2016.32  1899.06   \n",
       "1  2344.27  2325.04   ...     1886.34  1795.78  1845.33  1987.13  1881.36   \n",
       "2  2323.11  2304.88   ...     1844.60  1756.93  1826.49  1995.60  1863.87   \n",
       "3  2316.47  2298.62   ...     1872.64  1769.04  1808.62  1983.07  1851.78   \n",
       "4  2309.83  2296.95   ...     1820.45  1768.90  1795.87  1967.24  1829.15   \n",
       "\n",
       "        25       26       27       28       29  \n",
       "0  1807.17  1763.10  1864.32  1869.17  1861.12  \n",
       "1  1830.02  1749.68  1856.01  1863.78  1813.69  \n",
       "2  1811.94  1744.79  1830.61  1828.91  1815.72  \n",
       "3  1752.79  1731.72  1820.61  1841.75  1804.82  \n",
       "4  1750.78  1712.27  1819.67  1817.94  1795.77  \n",
       "\n",
       "[5 rows x 31 columns]"
      ]
     },
     "execution_count": 271,
     "metadata": {},
     "output_type": "execute_result"
    }
   ],
   "source": [
    "df.head()"
   ]
  },
  {
   "cell_type": "code",
   "execution_count": 272,
   "metadata": {
    "ExecuteTime": {
     "end_time": "2018-11-24T10:20:33.153515Z",
     "start_time": "2018-11-24T10:20:33.149363Z"
    }
   },
   "outputs": [],
   "source": [
    "df.index = df['time']\n",
    "df = df.drop('time', 1)"
   ]
  },
  {
   "cell_type": "code",
   "execution_count": 273,
   "metadata": {
    "ExecuteTime": {
     "end_time": "2018-11-24T10:20:33.185814Z",
     "start_time": "2018-11-24T10:20:33.155835Z"
    }
   },
   "outputs": [
    {
     "data": {
      "text/html": [
       "<div>\n",
       "<style scoped>\n",
       "    .dataframe tbody tr th:only-of-type {\n",
       "        vertical-align: middle;\n",
       "    }\n",
       "\n",
       "    .dataframe tbody tr th {\n",
       "        vertical-align: top;\n",
       "    }\n",
       "\n",
       "    .dataframe thead th {\n",
       "        text-align: right;\n",
       "    }\n",
       "</style>\n",
       "<table border=\"1\" class=\"dataframe\">\n",
       "  <thead>\n",
       "    <tr style=\"text-align: right;\">\n",
       "      <th></th>\n",
       "      <th>0</th>\n",
       "      <th>1</th>\n",
       "      <th>2</th>\n",
       "      <th>3</th>\n",
       "      <th>4</th>\n",
       "      <th>5</th>\n",
       "      <th>6</th>\n",
       "      <th>7</th>\n",
       "      <th>8</th>\n",
       "      <th>9</th>\n",
       "      <th>...</th>\n",
       "      <th>20</th>\n",
       "      <th>21</th>\n",
       "      <th>22</th>\n",
       "      <th>23</th>\n",
       "      <th>24</th>\n",
       "      <th>25</th>\n",
       "      <th>26</th>\n",
       "      <th>27</th>\n",
       "      <th>28</th>\n",
       "      <th>29</th>\n",
       "    </tr>\n",
       "    <tr>\n",
       "      <th>time</th>\n",
       "      <th></th>\n",
       "      <th></th>\n",
       "      <th></th>\n",
       "      <th></th>\n",
       "      <th></th>\n",
       "      <th></th>\n",
       "      <th></th>\n",
       "      <th></th>\n",
       "      <th></th>\n",
       "      <th></th>\n",
       "      <th></th>\n",
       "      <th></th>\n",
       "      <th></th>\n",
       "      <th></th>\n",
       "      <th></th>\n",
       "      <th></th>\n",
       "      <th></th>\n",
       "      <th></th>\n",
       "      <th></th>\n",
       "      <th></th>\n",
       "      <th></th>\n",
       "    </tr>\n",
       "  </thead>\n",
       "  <tbody>\n",
       "    <tr>\n",
       "      <th>00:00:00</th>\n",
       "      <td>2520.40</td>\n",
       "      <td>2491.14</td>\n",
       "      <td>2487.83</td>\n",
       "      <td>2567.64</td>\n",
       "      <td>2286.14</td>\n",
       "      <td>2313.41</td>\n",
       "      <td>2354.25</td>\n",
       "      <td>2368.88</td>\n",
       "      <td>2335.87</td>\n",
       "      <td>2319.43</td>\n",
       "      <td>...</td>\n",
       "      <td>1905.57</td>\n",
       "      <td>1794.49</td>\n",
       "      <td>1837.89</td>\n",
       "      <td>2016.32</td>\n",
       "      <td>1899.06</td>\n",
       "      <td>1807.17</td>\n",
       "      <td>1763.10</td>\n",
       "      <td>1864.32</td>\n",
       "      <td>1869.17</td>\n",
       "      <td>1861.12</td>\n",
       "    </tr>\n",
       "    <tr>\n",
       "      <th>00:05:00</th>\n",
       "      <td>2476.88</td>\n",
       "      <td>2491.30</td>\n",
       "      <td>2457.67</td>\n",
       "      <td>2540.15</td>\n",
       "      <td>2272.77</td>\n",
       "      <td>2285.99</td>\n",
       "      <td>2329.92</td>\n",
       "      <td>2344.27</td>\n",
       "      <td>2325.04</td>\n",
       "      <td>2300.97</td>\n",
       "      <td>...</td>\n",
       "      <td>1886.34</td>\n",
       "      <td>1795.78</td>\n",
       "      <td>1845.33</td>\n",
       "      <td>1987.13</td>\n",
       "      <td>1881.36</td>\n",
       "      <td>1830.02</td>\n",
       "      <td>1749.68</td>\n",
       "      <td>1856.01</td>\n",
       "      <td>1863.78</td>\n",
       "      <td>1813.69</td>\n",
       "    </tr>\n",
       "    <tr>\n",
       "      <th>00:10:00</th>\n",
       "      <td>2479.99</td>\n",
       "      <td>2485.60</td>\n",
       "      <td>2436.98</td>\n",
       "      <td>2529.15</td>\n",
       "      <td>2258.46</td>\n",
       "      <td>2258.82</td>\n",
       "      <td>2344.88</td>\n",
       "      <td>2323.11</td>\n",
       "      <td>2304.88</td>\n",
       "      <td>2298.15</td>\n",
       "      <td>...</td>\n",
       "      <td>1844.60</td>\n",
       "      <td>1756.93</td>\n",
       "      <td>1826.49</td>\n",
       "      <td>1995.60</td>\n",
       "      <td>1863.87</td>\n",
       "      <td>1811.94</td>\n",
       "      <td>1744.79</td>\n",
       "      <td>1830.61</td>\n",
       "      <td>1828.91</td>\n",
       "      <td>1815.72</td>\n",
       "    </tr>\n",
       "    <tr>\n",
       "      <th>00:15:00</th>\n",
       "      <td>2467.38</td>\n",
       "      <td>2460.68</td>\n",
       "      <td>2421.81</td>\n",
       "      <td>2523.26</td>\n",
       "      <td>2259.57</td>\n",
       "      <td>2255.95</td>\n",
       "      <td>2342.85</td>\n",
       "      <td>2316.47</td>\n",
       "      <td>2298.62</td>\n",
       "      <td>2267.14</td>\n",
       "      <td>...</td>\n",
       "      <td>1872.64</td>\n",
       "      <td>1769.04</td>\n",
       "      <td>1808.62</td>\n",
       "      <td>1983.07</td>\n",
       "      <td>1851.78</td>\n",
       "      <td>1752.79</td>\n",
       "      <td>1731.72</td>\n",
       "      <td>1820.61</td>\n",
       "      <td>1841.75</td>\n",
       "      <td>1804.82</td>\n",
       "    </tr>\n",
       "    <tr>\n",
       "      <th>00:20:00</th>\n",
       "      <td>2460.86</td>\n",
       "      <td>2449.49</td>\n",
       "      <td>2423.02</td>\n",
       "      <td>2509.79</td>\n",
       "      <td>2238.66</td>\n",
       "      <td>2243.72</td>\n",
       "      <td>2315.55</td>\n",
       "      <td>2309.83</td>\n",
       "      <td>2296.95</td>\n",
       "      <td>2257.94</td>\n",
       "      <td>...</td>\n",
       "      <td>1820.45</td>\n",
       "      <td>1768.90</td>\n",
       "      <td>1795.87</td>\n",
       "      <td>1967.24</td>\n",
       "      <td>1829.15</td>\n",
       "      <td>1750.78</td>\n",
       "      <td>1712.27</td>\n",
       "      <td>1819.67</td>\n",
       "      <td>1817.94</td>\n",
       "      <td>1795.77</td>\n",
       "    </tr>\n",
       "  </tbody>\n",
       "</table>\n",
       "<p>5 rows × 30 columns</p>\n",
       "</div>"
      ],
      "text/plain": [
       "                0        1        2        3        4        5        6  \\\n",
       "time                                                                      \n",
       "00:00:00  2520.40  2491.14  2487.83  2567.64  2286.14  2313.41  2354.25   \n",
       "00:05:00  2476.88  2491.30  2457.67  2540.15  2272.77  2285.99  2329.92   \n",
       "00:10:00  2479.99  2485.60  2436.98  2529.15  2258.46  2258.82  2344.88   \n",
       "00:15:00  2467.38  2460.68  2421.81  2523.26  2259.57  2255.95  2342.85   \n",
       "00:20:00  2460.86  2449.49  2423.02  2509.79  2238.66  2243.72  2315.55   \n",
       "\n",
       "                7        8        9   ...          20       21       22  \\\n",
       "time                                  ...                                 \n",
       "00:00:00  2368.88  2335.87  2319.43   ...     1905.57  1794.49  1837.89   \n",
       "00:05:00  2344.27  2325.04  2300.97   ...     1886.34  1795.78  1845.33   \n",
       "00:10:00  2323.11  2304.88  2298.15   ...     1844.60  1756.93  1826.49   \n",
       "00:15:00  2316.47  2298.62  2267.14   ...     1872.64  1769.04  1808.62   \n",
       "00:20:00  2309.83  2296.95  2257.94   ...     1820.45  1768.90  1795.87   \n",
       "\n",
       "               23       24       25       26       27       28       29  \n",
       "time                                                                     \n",
       "00:00:00  2016.32  1899.06  1807.17  1763.10  1864.32  1869.17  1861.12  \n",
       "00:05:00  1987.13  1881.36  1830.02  1749.68  1856.01  1863.78  1813.69  \n",
       "00:10:00  1995.60  1863.87  1811.94  1744.79  1830.61  1828.91  1815.72  \n",
       "00:15:00  1983.07  1851.78  1752.79  1731.72  1820.61  1841.75  1804.82  \n",
       "00:20:00  1967.24  1829.15  1750.78  1712.27  1819.67  1817.94  1795.77  \n",
       "\n",
       "[5 rows x 30 columns]"
      ]
     },
     "execution_count": 273,
     "metadata": {},
     "output_type": "execute_result"
    }
   ],
   "source": [
    "df.head()"
   ]
  },
  {
   "cell_type": "code",
   "execution_count": 274,
   "metadata": {
    "ExecuteTime": {
     "end_time": "2018-11-24T10:20:34.694587Z",
     "start_time": "2018-11-24T10:20:34.684580Z"
    }
   },
   "outputs": [
    {
     "data": {
      "text/plain": [
       "0     2520.40\n",
       "1     2491.14\n",
       "2     2487.83\n",
       "3     2567.64\n",
       "4     2286.14\n",
       "5     2313.41\n",
       "6     2354.25\n",
       "7     2368.88\n",
       "8     2335.87\n",
       "9     2319.43\n",
       "10    2380.31\n",
       "11    2283.87\n",
       "12    2165.11\n",
       "13    2140.82\n",
       "14    2016.19\n",
       "15    1880.24\n",
       "16    1673.24\n",
       "17    1781.98\n",
       "18    1770.85\n",
       "19    1838.00\n",
       "20    1905.57\n",
       "21    1794.49\n",
       "22    1837.89\n",
       "23    2016.32\n",
       "24    1899.06\n",
       "25    1807.17\n",
       "26    1763.10\n",
       "27    1864.32\n",
       "28    1869.17\n",
       "29    1861.12\n",
       "Name: 00:00:00, dtype: float64"
      ]
     },
     "execution_count": 274,
     "metadata": {},
     "output_type": "execute_result"
    }
   ],
   "source": [
    "df.loc['00:00:00']"
   ]
  },
  {
   "cell_type": "code",
   "execution_count": 275,
   "metadata": {
    "ExecuteTime": {
     "end_time": "2018-11-24T10:20:36.327387Z",
     "start_time": "2018-11-24T10:20:34.917557Z"
    }
   },
   "outputs": [
    {
     "data": {
      "image/png": "[encoded data removed]",
      "text/plain": [
       "<Figure size 1080x432 with 4 Axes>"
      ]
     },
     "metadata": {
      "needs_background": "light"
     },
     "output_type": "display_data"
    }
   ],
   "source": [
    "plt.rcParams['figure.figsize'] = (15, 6)\n",
    "decompfreq = 1 #daily freq\n",
    "\n",
    "result = seasonal_decompose(df.loc['00:00:00'], freq=decompfreq, model='aditive')\n",
    "\n",
    "result.plot()\n",
    "plt.show()"
   ]
  },
  {
   "cell_type": "markdown",
   "metadata": {},
   "source": [
    "Only trend is present not seasonality"
   ]
  },
  {
   "cell_type": "code",
   "execution_count": 276,
   "metadata": {
    "ExecuteTime": {
     "end_time": "2018-11-24T10:20:41.748832Z",
     "start_time": "2018-11-24T10:20:41.742839Z"
    }
   },
   "outputs": [],
   "source": [
    "dt_df = df.diff(1, axis=1)"
   ]
  },
  {
   "cell_type": "code",
   "execution_count": 277,
   "metadata": {
    "ExecuteTime": {
     "end_time": "2018-11-24T10:20:49.400052Z",
     "start_time": "2018-11-24T10:20:49.347924Z"
    }
   },
   "outputs": [
    {
     "data": {
      "text/html": [
       "<div>\n",
       "<style scoped>\n",
       "    .dataframe tbody tr th:only-of-type {\n",
       "        vertical-align: middle;\n",
       "    }\n",
       "\n",
       "    .dataframe tbody tr th {\n",
       "        vertical-align: top;\n",
       "    }\n",
       "\n",
       "    .dataframe thead th {\n",
       "        text-align: right;\n",
       "    }\n",
       "</style>\n",
       "<table border=\"1\" class=\"dataframe\">\n",
       "  <thead>\n",
       "    <tr style=\"text-align: right;\">\n",
       "      <th></th>\n",
       "      <th>0</th>\n",
       "      <th>1</th>\n",
       "      <th>2</th>\n",
       "      <th>3</th>\n",
       "      <th>4</th>\n",
       "      <th>5</th>\n",
       "      <th>6</th>\n",
       "      <th>7</th>\n",
       "      <th>8</th>\n",
       "      <th>9</th>\n",
       "      <th>...</th>\n",
       "      <th>20</th>\n",
       "      <th>21</th>\n",
       "      <th>22</th>\n",
       "      <th>23</th>\n",
       "      <th>24</th>\n",
       "      <th>25</th>\n",
       "      <th>26</th>\n",
       "      <th>27</th>\n",
       "      <th>28</th>\n",
       "      <th>29</th>\n",
       "    </tr>\n",
       "    <tr>\n",
       "      <th>time</th>\n",
       "      <th></th>\n",
       "      <th></th>\n",
       "      <th></th>\n",
       "      <th></th>\n",
       "      <th></th>\n",
       "      <th></th>\n",
       "      <th></th>\n",
       "      <th></th>\n",
       "      <th></th>\n",
       "      <th></th>\n",
       "      <th></th>\n",
       "      <th></th>\n",
       "      <th></th>\n",
       "      <th></th>\n",
       "      <th></th>\n",
       "      <th></th>\n",
       "      <th></th>\n",
       "      <th></th>\n",
       "      <th></th>\n",
       "      <th></th>\n",
       "      <th></th>\n",
       "    </tr>\n",
       "  </thead>\n",
       "  <tbody>\n",
       "    <tr>\n",
       "      <th>00:00:00</th>\n",
       "      <td>NaN</td>\n",
       "      <td>-29.26</td>\n",
       "      <td>-3.31</td>\n",
       "      <td>79.81</td>\n",
       "      <td>-281.50</td>\n",
       "      <td>27.27</td>\n",
       "      <td>40.84</td>\n",
       "      <td>14.63</td>\n",
       "      <td>-33.01</td>\n",
       "      <td>-16.44</td>\n",
       "      <td>...</td>\n",
       "      <td>67.57</td>\n",
       "      <td>-111.08</td>\n",
       "      <td>43.40</td>\n",
       "      <td>178.43</td>\n",
       "      <td>-117.26</td>\n",
       "      <td>-91.89</td>\n",
       "      <td>-44.07</td>\n",
       "      <td>101.22</td>\n",
       "      <td>4.85</td>\n",
       "      <td>-8.05</td>\n",
       "    </tr>\n",
       "    <tr>\n",
       "      <th>00:05:00</th>\n",
       "      <td>NaN</td>\n",
       "      <td>14.42</td>\n",
       "      <td>-33.63</td>\n",
       "      <td>82.48</td>\n",
       "      <td>-267.38</td>\n",
       "      <td>13.22</td>\n",
       "      <td>43.93</td>\n",
       "      <td>14.35</td>\n",
       "      <td>-19.23</td>\n",
       "      <td>-24.07</td>\n",
       "      <td>...</td>\n",
       "      <td>65.60</td>\n",
       "      <td>-90.56</td>\n",
       "      <td>49.55</td>\n",
       "      <td>141.80</td>\n",
       "      <td>-105.77</td>\n",
       "      <td>-51.34</td>\n",
       "      <td>-80.34</td>\n",
       "      <td>106.33</td>\n",
       "      <td>7.77</td>\n",
       "      <td>-50.09</td>\n",
       "    </tr>\n",
       "    <tr>\n",
       "      <th>00:10:00</th>\n",
       "      <td>NaN</td>\n",
       "      <td>5.61</td>\n",
       "      <td>-48.62</td>\n",
       "      <td>92.17</td>\n",
       "      <td>-270.69</td>\n",
       "      <td>0.36</td>\n",
       "      <td>86.06</td>\n",
       "      <td>-21.77</td>\n",
       "      <td>-18.23</td>\n",
       "      <td>-6.73</td>\n",
       "      <td>...</td>\n",
       "      <td>57.19</td>\n",
       "      <td>-87.67</td>\n",
       "      <td>69.56</td>\n",
       "      <td>169.11</td>\n",
       "      <td>-131.73</td>\n",
       "      <td>-51.93</td>\n",
       "      <td>-67.15</td>\n",
       "      <td>85.82</td>\n",
       "      <td>-1.70</td>\n",
       "      <td>-13.19</td>\n",
       "    </tr>\n",
       "    <tr>\n",
       "      <th>00:15:00</th>\n",
       "      <td>NaN</td>\n",
       "      <td>-6.70</td>\n",
       "      <td>-38.87</td>\n",
       "      <td>101.45</td>\n",
       "      <td>-263.69</td>\n",
       "      <td>-3.62</td>\n",
       "      <td>86.90</td>\n",
       "      <td>-26.38</td>\n",
       "      <td>-17.85</td>\n",
       "      <td>-31.48</td>\n",
       "      <td>...</td>\n",
       "      <td>74.49</td>\n",
       "      <td>-103.60</td>\n",
       "      <td>39.58</td>\n",
       "      <td>174.45</td>\n",
       "      <td>-131.29</td>\n",
       "      <td>-98.99</td>\n",
       "      <td>-21.07</td>\n",
       "      <td>88.89</td>\n",
       "      <td>21.14</td>\n",
       "      <td>-36.93</td>\n",
       "    </tr>\n",
       "    <tr>\n",
       "      <th>00:20:00</th>\n",
       "      <td>NaN</td>\n",
       "      <td>-11.37</td>\n",
       "      <td>-26.47</td>\n",
       "      <td>86.77</td>\n",
       "      <td>-271.13</td>\n",
       "      <td>5.06</td>\n",
       "      <td>71.83</td>\n",
       "      <td>-5.72</td>\n",
       "      <td>-12.88</td>\n",
       "      <td>-39.01</td>\n",
       "      <td>...</td>\n",
       "      <td>41.88</td>\n",
       "      <td>-51.55</td>\n",
       "      <td>26.97</td>\n",
       "      <td>171.37</td>\n",
       "      <td>-138.09</td>\n",
       "      <td>-78.37</td>\n",
       "      <td>-38.51</td>\n",
       "      <td>107.40</td>\n",
       "      <td>-1.73</td>\n",
       "      <td>-22.17</td>\n",
       "    </tr>\n",
       "  </tbody>\n",
       "</table>\n",
       "<p>5 rows × 30 columns</p>\n",
       "</div>"
      ],
      "text/plain": [
       "           0      1      2       3       4      5      6      7      8      9  \\\n",
       "time                                                                            \n",
       "00:00:00 NaN -29.26  -3.31   79.81 -281.50  27.27  40.84  14.63 -33.01 -16.44   \n",
       "00:05:00 NaN  14.42 -33.63   82.48 -267.38  13.22  43.93  14.35 -19.23 -24.07   \n",
       "00:10:00 NaN   5.61 -48.62   92.17 -270.69   0.36  86.06 -21.77 -18.23  -6.73   \n",
       "00:15:00 NaN  -6.70 -38.87  101.45 -263.69  -3.62  86.90 -26.38 -17.85 -31.48   \n",
       "00:20:00 NaN -11.37 -26.47   86.77 -271.13   5.06  71.83  -5.72 -12.88 -39.01   \n",
       "\n",
       "          ...       20      21     22      23      24     25     26      27  \\\n",
       "time      ...                                                                 \n",
       "00:00:00  ...    67.57 -111.08  43.40  178.43 -117.26 -91.89 -44.07  101.22   \n",
       "00:05:00  ...    65.60  -90.56  49.55  141.80 -105.77 -51.34 -80.34  106.33   \n",
       "00:10:00  ...    57.19  -87.67  69.56  169.11 -131.73 -51.93 -67.15   85.82   \n",
       "00:15:00  ...    74.49 -103.60  39.58  174.45 -131.29 -98.99 -21.07   88.89   \n",
       "00:20:00  ...    41.88  -51.55  26.97  171.37 -138.09 -78.37 -38.51  107.40   \n",
       "\n",
       "             28     29  \n",
       "time                    \n",
       "00:00:00   4.85  -8.05  \n",
       "00:05:00   7.77 -50.09  \n",
       "00:10:00  -1.70 -13.19  \n",
       "00:15:00  21.14 -36.93  \n",
       "00:20:00  -1.73 -22.17  \n",
       "\n",
       "[5 rows x 30 columns]"
      ]
     },
     "execution_count": 277,
     "metadata": {},
     "output_type": "execute_result"
    }
   ],
   "source": [
    "dt_df.head()"
   ]
  },
  {
   "cell_type": "code",
   "execution_count": 278,
   "metadata": {
    "ExecuteTime": {
     "end_time": "2018-11-24T10:20:58.171425Z",
     "start_time": "2018-11-24T10:20:57.045416Z"
    }
   },
   "outputs": [
    {
     "data": {
      "image/png": "[encoded data removed]",
      "text/plain": [
       "<Figure size 1080x432 with 4 Axes>"
      ]
     },
     "metadata": {
      "needs_background": "light"
     },
     "output_type": "display_data"
    }
   ],
   "source": [
    "plt.rcParams['figure.figsize'] = (15, 6)\n",
    "decompfreq = 1 #daily freq\n",
    "\n",
    "result = seasonal_decompose(dt_df.loc['00:00:00'].dropna(), freq=decompfreq, model='aditive')\n",
    "\n",
    "result.plot()\n",
    "plt.show()"
   ]
  },
  {
   "cell_type": "code",
   "execution_count": 279,
   "metadata": {
    "ExecuteTime": {
     "end_time": "2018-11-24T10:21:03.161824Z",
     "start_time": "2018-11-24T10:21:03.153526Z"
    }
   },
   "outputs": [],
   "source": [
    "dt_df = dt_df.dropna(axis=1)"
   ]
  },
  {
   "cell_type": "code",
   "execution_count": 280,
   "metadata": {
    "ExecuteTime": {
     "end_time": "2018-11-24T10:21:27.264345Z",
     "start_time": "2018-11-24T10:21:27.258433Z"
    }
   },
   "outputs": [],
   "source": [
    "scaler = MinMaxScaler(feature_range=(-1, 1))\n",
    "scaler = scaler.fit(dt_df.values.reshape(-1, 1))"
   ]
  },
  {
   "cell_type": "code",
   "execution_count": 281,
   "metadata": {
    "ExecuteTime": {
     "end_time": "2018-11-24T10:21:28.194524Z",
     "start_time": "2018-11-24T10:21:28.188521Z"
    }
   },
   "outputs": [],
   "source": [
    "dt_df = scaler.transform(dt_df)  # df is now a numpy array"
   ]
  },
  {
   "cell_type": "code",
   "execution_count": 282,
   "metadata": {
    "ExecuteTime": {
     "end_time": "2018-11-24T10:21:28.474926Z",
     "start_time": "2018-11-24T10:21:28.470274Z"
    }
   },
   "outputs": [],
   "source": [
    "split_idx = int(len(dt_df) * 0.8)\n",
    "train, val = dt_df[:split_idx, :], dt_df[split_idx:, :]"
   ]
  },
  {
   "cell_type": "code",
   "execution_count": 283,
   "metadata": {
    "ExecuteTime": {
     "end_time": "2018-11-24T10:21:29.364748Z",
     "start_time": "2018-11-24T10:21:29.358115Z"
    }
   },
   "outputs": [
    {
     "data": {
      "text/plain": [
       "((230, 29), (58, 29))"
      ]
     },
     "execution_count": 283,
     "metadata": {},
     "output_type": "execute_result"
    }
   ],
   "source": [
    "train.shape, val.shape"
   ]
  },
  {
   "cell_type": "code",
   "execution_count": 248,
   "metadata": {
    "ExecuteTime": {
     "end_time": "2018-11-24T10:07:10.838080Z",
     "start_time": "2018-11-24T10:07:10.830559Z"
    }
   },
   "outputs": [],
   "source": [
    "def prepare_data(data, nlags):\n",
    "    '''prepares data for LSTM model, x=last nlags values, y=(nlags+1)'th value'''\n",
    "    data_x, data_y = [], []\n",
    "    for i in range(data.shape[0]):\n",
    "        for j in range(0, data.shape[1]-nlags):\n",
    "            data_x.append(data[i, j:j+nlags])\n",
    "            data_y.append(data[i, j+nlags])\n",
    "    data_x = np.array(data_x)\n",
    "    data_y = np.array(data_y).reshape(-1, 1)\n",
    "    return data_x, data_y"
   ]
  },
  {
   "cell_type": "code",
   "execution_count": 249,
   "metadata": {
    "ExecuteTime": {
     "end_time": "2018-11-24T10:07:12.215762Z",
     "start_time": "2018-11-24T10:07:12.203092Z"
    }
   },
   "outputs": [],
   "source": [
    "nlags = 20 \n",
    "train_x, train_y = prepare_data(train, nlags)\n",
    "val_x, val_y = prepare_data(val, nlags)"
   ]
  },
  {
   "cell_type": "code",
   "execution_count": 250,
   "metadata": {
    "ExecuteTime": {
     "end_time": "2018-11-24T10:07:13.347230Z",
     "start_time": "2018-11-24T10:07:13.340551Z"
    }
   },
   "outputs": [
    {
     "data": {
      "text/plain": [
       "((2070, 20), (2070, 1), (522, 20), (522, 1))"
      ]
     },
     "execution_count": 250,
     "metadata": {},
     "output_type": "execute_result"
    }
   ],
   "source": [
    "train_x.shape, train_y.shape, val_x.shape, val_y.shape"
   ]
  },
  {
   "cell_type": "markdown",
   "metadata": {},
   "source": [
    "## Model training"
   ]
  },
  {
   "cell_type": "code",
   "execution_count": 256,
   "metadata": {
    "ExecuteTime": {
     "end_time": "2018-11-24T10:10:13.537777Z",
     "start_time": "2018-11-24T10:10:13.532621Z"
    }
   },
   "outputs": [],
   "source": [
    "train_x = train_x.reshape(train_x.shape[0], 1, nlags)\n",
    "val_x = val_x.reshape(val_x.shape[0], 1, nlags)"
   ]
  },
  {
   "cell_type": "code",
   "execution_count": 257,
   "metadata": {
    "ExecuteTime": {
     "end_time": "2018-11-24T10:10:15.219259Z",
     "start_time": "2018-11-24T10:10:14.644802Z"
    }
   },
   "outputs": [],
   "source": [
    "model = Sequential()\n",
    "model.add(LSTM(1, batch_input_shape=(1, train_x.shape[1], train_x.shape[2]), stateful=True))\n",
    "model.add(Dense(train_y.shape[1]))\n",
    "model.compile(loss='mean_squared_error', optimizer='adam')"
   ]
  },
  {
   "cell_type": "code",
   "execution_count": 258,
   "metadata": {
    "ExecuteTime": {
     "end_time": "2018-11-24T10:11:31.549878Z",
     "start_time": "2018-11-24T10:10:16.526348Z"
    }
   },
   "outputs": [
    {
     "name": "stdout",
     "output_type": "stream",
     "text": [
      "Train on 2070 samples, validate on 522 samples\n",
      "Epoch 1/1\n",
      "2070/2070 [==============================] - 8s 4ms/step - loss: 0.0251 - val_loss: 0.0080\n",
      "Train on 2070 samples, validate on 522 samples\n",
      "Epoch 1/1\n",
      "2070/2070 [==============================] - 7s 4ms/step - loss: 0.0144 - val_loss: 0.0096\n",
      "Train on 2070 samples, validate on 522 samples\n",
      "Epoch 1/1\n",
      "2070/2070 [==============================] - 7s 4ms/step - loss: 0.0109 - val_loss: 0.0136\n",
      "Train on 2070 samples, validate on 522 samples\n",
      "Epoch 1/1\n",
      "2070/2070 [==============================] - 7s 3ms/step - loss: 0.0088 - val_loss: 0.0117\n",
      "Train on 2070 samples, validate on 522 samples\n",
      "Epoch 1/1\n",
      "2070/2070 [==============================] - 7s 4ms/step - loss: 0.0073 - val_loss: 0.0101\n",
      "Train on 2070 samples, validate on 522 samples\n",
      "Epoch 1/1\n",
      "2070/2070 [==============================] - 7s 4ms/step - loss: 0.0065 - val_loss: 0.0090\n",
      "Train on 2070 samples, validate on 522 samples\n",
      "Epoch 1/1\n",
      "2070/2070 [==============================] - 7s 4ms/step - loss: 0.0061 - val_loss: 0.0078\n",
      "Train on 2070 samples, validate on 522 samples\n",
      "Epoch 1/1\n",
      "2070/2070 [==============================] - 7s 3ms/step - loss: 0.0058 - val_loss: 0.0073\n",
      "Train on 2070 samples, validate on 522 samples\n",
      "Epoch 1/1\n",
      "2070/2070 [==============================] - 7s 4ms/step - loss: 0.0056 - val_loss: 0.0071\n",
      "Train on 2070 samples, validate on 522 samples\n",
      "Epoch 1/1\n",
      "2070/2070 [==============================] - 8s 4ms/step - loss: 0.0055 - val_loss: 0.0072\n"
     ]
    }
   ],
   "source": [
    "# fit network\n",
    "for i in range(10):\n",
    "    model.fit(train_x, train_y, epochs=1, batch_size=1, verbose=1, validation_data=(val_x, val_y), shuffle=False)\n",
    "    model.reset_states()"
   ]
  },
  {
   "cell_type": "code",
   "execution_count": 262,
   "metadata": {
    "ExecuteTime": {
     "end_time": "2018-11-24T10:16:02.116500Z",
     "start_time": "2018-11-24T10:16:01.444832Z"
    }
   },
   "outputs": [],
   "source": [
    "val_y_pred = model.predict(val_x, batch_size=1)"
   ]
  },
  {
   "cell_type": "code",
   "execution_count": 299,
   "metadata": {
    "ExecuteTime": {
     "end_time": "2018-11-24T10:26:50.959416Z",
     "start_time": "2018-11-24T10:26:50.401447Z"
    }
   },
   "outputs": [
    {
     "data": {
      "text/plain": [
       "[<matplotlib.lines.Line2D at 0x7f155866b2b0>]"
      ]
     },
     "execution_count": 299,
     "metadata": {},
     "output_type": "execute_result"
    },
    {
     "data": {
      "image/png": "[encoded data removed]",
      "text/plain": [
       "<Figure size 1080x432 with 1 Axes>"
      ]
     },
     "metadata": {
      "needs_background": "light"
     },
     "output_type": "display_data"
    }
   ],
   "source": [
    "plt.plot(val_y[:100])\n",
    "plt.plot(val_y_pred[:100])"
   ]
  },
  {
   "cell_type": "code",
   "execution_count": 266,
   "metadata": {
    "ExecuteTime": {
     "end_time": "2018-11-24T10:17:01.569548Z",
     "start_time": "2018-11-24T10:17:01.563914Z"
    }
   },
   "outputs": [],
   "source": [
    "inverted_val_y = scaler.inverse_transform(val_y)\n",
    "inverted_val_y_pred = scaler.inverse_transform(val_y_pred)"
   ]
  },
  {
   "cell_type": "code",
   "execution_count": 300,
   "metadata": {
    "ExecuteTime": {
     "end_time": "2018-11-24T10:28:24.540539Z",
     "start_time": "2018-11-24T10:28:23.973965Z"
    }
   },
   "outputs": [
    {
     "data": {
      "text/plain": [
       "[<matplotlib.lines.Line2D at 0x7f155861e978>]"
      ]
     },
     "execution_count": 300,
     "metadata": {},
     "output_type": "execute_result"
    },
    {
     "data": {
      "image/png": "[encoded data removed]",
      "text/plain": [
       "<Figure size 1080x432 with 1 Axes>"
      ]
     },
     "metadata": {
      "needs_background": "light"
     },
     "output_type": "display_data"
    }
   ],
   "source": [
    "plt.plot(inverted_val_y[:100])\n",
    "plt.plot(inverted_val_y_pred[:100])"
   ]
  },
  {
   "cell_type": "markdown",
   "metadata": {},
   "source": [
    "the whole process of inverting to orignal scale is same for val_y and val_y_pred (value addition only), so values are going to be close if they are now\n"
   ]
  },
  {
   "cell_type": "code",
   "execution_count": 301,
   "metadata": {
    "ExecuteTime": {
     "end_time": "2018-11-24T10:31:02.518153Z",
     "start_time": "2018-11-24T10:31:02.504533Z"
    }
   },
   "outputs": [
    {
     "data": {
      "text/html": [
       "<div>\n",
       "<style scoped>\n",
       "    .dataframe tbody tr th:only-of-type {\n",
       "        vertical-align: middle;\n",
       "    }\n",
       "\n",
       "    .dataframe tbody tr th {\n",
       "        vertical-align: top;\n",
       "    }\n",
       "\n",
       "    .dataframe thead th {\n",
       "        text-align: right;\n",
       "    }\n",
       "</style>\n",
       "<table border=\"1\" class=\"dataframe\">\n",
       "  <thead>\n",
       "    <tr style=\"text-align: right;\">\n",
       "      <th></th>\n",
       "      <th>load</th>\n",
       "    </tr>\n",
       "    <tr>\n",
       "      <th>datetime</th>\n",
       "      <th></th>\n",
       "    </tr>\n",
       "  </thead>\n",
       "  <tbody>\n",
       "    <tr>\n",
       "      <th>2018-11-22 23:35:00</th>\n",
       "      <td>1977.59</td>\n",
       "    </tr>\n",
       "    <tr>\n",
       "      <th>2018-11-22 23:40:00</th>\n",
       "      <td>1943.56</td>\n",
       "    </tr>\n",
       "    <tr>\n",
       "      <th>2018-11-22 23:45:00</th>\n",
       "      <td>1938.66</td>\n",
       "    </tr>\n",
       "    <tr>\n",
       "      <th>2018-11-22 23:50:00</th>\n",
       "      <td>1908.56</td>\n",
       "    </tr>\n",
       "    <tr>\n",
       "      <th>2018-11-22 23:55:00</th>\n",
       "      <td>1859.43</td>\n",
       "    </tr>\n",
       "  </tbody>\n",
       "</table>\n",
       "</div>"
      ],
      "text/plain": [
       "                        load\n",
       "datetime                    \n",
       "2018-11-22 23:35:00  1977.59\n",
       "2018-11-22 23:40:00  1943.56\n",
       "2018-11-22 23:45:00  1938.66\n",
       "2018-11-22 23:50:00  1908.56\n",
       "2018-11-22 23:55:00  1859.43"
      ]
     },
     "execution_count": 301,
     "metadata": {},
     "output_type": "execute_result"
    }
   ],
   "source": [
    "data.tail() "
   ]
  },
  {
   "cell_type": "markdown",
   "metadata": {},
   "source": [
    "let's predict yesterday's load which is not present in monthdata.csv file as of now"
   ]
  },
  {
   "cell_type": "markdown",
   "metadata": {
    "ExecuteTime": {
     "end_time": "2018-11-24T10:32:15.240966Z",
     "start_time": "2018-11-24T10:32:15.237019Z"
    }
   },
   "source": [
    "we need 288, 1, 20 matrix with last 20 days load for each 288 time stamp\n"
   ]
  },
  {
   "cell_type": "code",
   "execution_count": 304,
   "metadata": {
    "ExecuteTime": {
     "end_time": "2018-11-24T10:32:34.192717Z",
     "start_time": "2018-11-24T10:32:34.142227Z"
    }
   },
   "outputs": [
    {
     "data": {
      "text/html": [
       "<div>\n",
       "<style scoped>\n",
       "    .dataframe tbody tr th:only-of-type {\n",
       "        vertical-align: middle;\n",
       "    }\n",
       "\n",
       "    .dataframe tbody tr th {\n",
       "        vertical-align: top;\n",
       "    }\n",
       "\n",
       "    .dataframe thead th {\n",
       "        text-align: right;\n",
       "    }\n",
       "</style>\n",
       "<table border=\"1\" class=\"dataframe\">\n",
       "  <thead>\n",
       "    <tr style=\"text-align: right;\">\n",
       "      <th></th>\n",
       "      <th>0</th>\n",
       "      <th>1</th>\n",
       "      <th>2</th>\n",
       "      <th>3</th>\n",
       "      <th>4</th>\n",
       "      <th>5</th>\n",
       "      <th>6</th>\n",
       "      <th>7</th>\n",
       "      <th>8</th>\n",
       "      <th>9</th>\n",
       "      <th>...</th>\n",
       "      <th>20</th>\n",
       "      <th>21</th>\n",
       "      <th>22</th>\n",
       "      <th>23</th>\n",
       "      <th>24</th>\n",
       "      <th>25</th>\n",
       "      <th>26</th>\n",
       "      <th>27</th>\n",
       "      <th>28</th>\n",
       "      <th>29</th>\n",
       "    </tr>\n",
       "    <tr>\n",
       "      <th>time</th>\n",
       "      <th></th>\n",
       "      <th></th>\n",
       "      <th></th>\n",
       "      <th></th>\n",
       "      <th></th>\n",
       "      <th></th>\n",
       "      <th></th>\n",
       "      <th></th>\n",
       "      <th></th>\n",
       "      <th></th>\n",
       "      <th></th>\n",
       "      <th></th>\n",
       "      <th></th>\n",
       "      <th></th>\n",
       "      <th></th>\n",
       "      <th></th>\n",
       "      <th></th>\n",
       "      <th></th>\n",
       "      <th></th>\n",
       "      <th></th>\n",
       "      <th></th>\n",
       "    </tr>\n",
       "  </thead>\n",
       "  <tbody>\n",
       "    <tr>\n",
       "      <th>00:00:00</th>\n",
       "      <td>2520.40</td>\n",
       "      <td>2491.14</td>\n",
       "      <td>2487.83</td>\n",
       "      <td>2567.64</td>\n",
       "      <td>2286.14</td>\n",
       "      <td>2313.41</td>\n",
       "      <td>2354.25</td>\n",
       "      <td>2368.88</td>\n",
       "      <td>2335.87</td>\n",
       "      <td>2319.43</td>\n",
       "      <td>...</td>\n",
       "      <td>1905.57</td>\n",
       "      <td>1794.49</td>\n",
       "      <td>1837.89</td>\n",
       "      <td>2016.32</td>\n",
       "      <td>1899.06</td>\n",
       "      <td>1807.17</td>\n",
       "      <td>1763.10</td>\n",
       "      <td>1864.32</td>\n",
       "      <td>1869.17</td>\n",
       "      <td>1861.12</td>\n",
       "    </tr>\n",
       "    <tr>\n",
       "      <th>00:05:00</th>\n",
       "      <td>2476.88</td>\n",
       "      <td>2491.30</td>\n",
       "      <td>2457.67</td>\n",
       "      <td>2540.15</td>\n",
       "      <td>2272.77</td>\n",
       "      <td>2285.99</td>\n",
       "      <td>2329.92</td>\n",
       "      <td>2344.27</td>\n",
       "      <td>2325.04</td>\n",
       "      <td>2300.97</td>\n",
       "      <td>...</td>\n",
       "      <td>1886.34</td>\n",
       "      <td>1795.78</td>\n",
       "      <td>1845.33</td>\n",
       "      <td>1987.13</td>\n",
       "      <td>1881.36</td>\n",
       "      <td>1830.02</td>\n",
       "      <td>1749.68</td>\n",
       "      <td>1856.01</td>\n",
       "      <td>1863.78</td>\n",
       "      <td>1813.69</td>\n",
       "    </tr>\n",
       "    <tr>\n",
       "      <th>00:10:00</th>\n",
       "      <td>2479.99</td>\n",
       "      <td>2485.60</td>\n",
       "      <td>2436.98</td>\n",
       "      <td>2529.15</td>\n",
       "      <td>2258.46</td>\n",
       "      <td>2258.82</td>\n",
       "      <td>2344.88</td>\n",
       "      <td>2323.11</td>\n",
       "      <td>2304.88</td>\n",
       "      <td>2298.15</td>\n",
       "      <td>...</td>\n",
       "      <td>1844.60</td>\n",
       "      <td>1756.93</td>\n",
       "      <td>1826.49</td>\n",
       "      <td>1995.60</td>\n",
       "      <td>1863.87</td>\n",
       "      <td>1811.94</td>\n",
       "      <td>1744.79</td>\n",
       "      <td>1830.61</td>\n",
       "      <td>1828.91</td>\n",
       "      <td>1815.72</td>\n",
       "    </tr>\n",
       "    <tr>\n",
       "      <th>00:15:00</th>\n",
       "      <td>2467.38</td>\n",
       "      <td>2460.68</td>\n",
       "      <td>2421.81</td>\n",
       "      <td>2523.26</td>\n",
       "      <td>2259.57</td>\n",
       "      <td>2255.95</td>\n",
       "      <td>2342.85</td>\n",
       "      <td>2316.47</td>\n",
       "      <td>2298.62</td>\n",
       "      <td>2267.14</td>\n",
       "      <td>...</td>\n",
       "      <td>1872.64</td>\n",
       "      <td>1769.04</td>\n",
       "      <td>1808.62</td>\n",
       "      <td>1983.07</td>\n",
       "      <td>1851.78</td>\n",
       "      <td>1752.79</td>\n",
       "      <td>1731.72</td>\n",
       "      <td>1820.61</td>\n",
       "      <td>1841.75</td>\n",
       "      <td>1804.82</td>\n",
       "    </tr>\n",
       "    <tr>\n",
       "      <th>00:20:00</th>\n",
       "      <td>2460.86</td>\n",
       "      <td>2449.49</td>\n",
       "      <td>2423.02</td>\n",
       "      <td>2509.79</td>\n",
       "      <td>2238.66</td>\n",
       "      <td>2243.72</td>\n",
       "      <td>2315.55</td>\n",
       "      <td>2309.83</td>\n",
       "      <td>2296.95</td>\n",
       "      <td>2257.94</td>\n",
       "      <td>...</td>\n",
       "      <td>1820.45</td>\n",
       "      <td>1768.90</td>\n",
       "      <td>1795.87</td>\n",
       "      <td>1967.24</td>\n",
       "      <td>1829.15</td>\n",
       "      <td>1750.78</td>\n",
       "      <td>1712.27</td>\n",
       "      <td>1819.67</td>\n",
       "      <td>1817.94</td>\n",
       "      <td>1795.77</td>\n",
       "    </tr>\n",
       "  </tbody>\n",
       "</table>\n",
       "<p>5 rows × 30 columns</p>\n",
       "</div>"
      ],
      "text/plain": [
       "                0        1        2        3        4        5        6  \\\n",
       "time                                                                      \n",
       "00:00:00  2520.40  2491.14  2487.83  2567.64  2286.14  2313.41  2354.25   \n",
       "00:05:00  2476.88  2491.30  2457.67  2540.15  2272.77  2285.99  2329.92   \n",
       "00:10:00  2479.99  2485.60  2436.98  2529.15  2258.46  2258.82  2344.88   \n",
       "00:15:00  2467.38  2460.68  2421.81  2523.26  2259.57  2255.95  2342.85   \n",
       "00:20:00  2460.86  2449.49  2423.02  2509.79  2238.66  2243.72  2315.55   \n",
       "\n",
       "                7        8        9   ...          20       21       22  \\\n",
       "time                                  ...                                 \n",
       "00:00:00  2368.88  2335.87  2319.43   ...     1905.57  1794.49  1837.89   \n",
       "00:05:00  2344.27  2325.04  2300.97   ...     1886.34  1795.78  1845.33   \n",
       "00:10:00  2323.11  2304.88  2298.15   ...     1844.60  1756.93  1826.49   \n",
       "00:15:00  2316.47  2298.62  2267.14   ...     1872.64  1769.04  1808.62   \n",
       "00:20:00  2309.83  2296.95  2257.94   ...     1820.45  1768.90  1795.87   \n",
       "\n",
       "               23       24       25       26       27       28       29  \n",
       "time                                                                     \n",
       "00:00:00  2016.32  1899.06  1807.17  1763.10  1864.32  1869.17  1861.12  \n",
       "00:05:00  1987.13  1881.36  1830.02  1749.68  1856.01  1863.78  1813.69  \n",
       "00:10:00  1995.60  1863.87  1811.94  1744.79  1830.61  1828.91  1815.72  \n",
       "00:15:00  1983.07  1851.78  1752.79  1731.72  1820.61  1841.75  1804.82  \n",
       "00:20:00  1967.24  1829.15  1750.78  1712.27  1819.67  1817.94  1795.77  \n",
       "\n",
       "[5 rows x 30 columns]"
      ]
     },
     "execution_count": 304,
     "metadata": {},
     "output_type": "execute_result"
    }
   ],
   "source": [
    "df.head()"
   ]
  },
  {
   "cell_type": "code",
   "execution_count": 317,
   "metadata": {
    "ExecuteTime": {
     "end_time": "2018-11-24T10:36:05.150501Z",
     "start_time": "2018-11-24T10:36:05.145351Z"
    }
   },
   "outputs": [],
   "source": [
    "df_last_21 = df.loc[:, '9':]"
   ]
  },
  {
   "cell_type": "code",
   "execution_count": 368,
   "metadata": {
    "ExecuteTime": {
     "end_time": "2018-11-24T10:51:03.238724Z",
     "start_time": "2018-11-24T10:51:03.183525Z"
    }
   },
   "outputs": [
    {
     "data": {
      "text/html": [
       "<div>\n",
       "<style scoped>\n",
       "    .dataframe tbody tr th:only-of-type {\n",
       "        vertical-align: middle;\n",
       "    }\n",
       "\n",
       "    .dataframe tbody tr th {\n",
       "        vertical-align: top;\n",
       "    }\n",
       "\n",
       "    .dataframe thead th {\n",
       "        text-align: right;\n",
       "    }\n",
       "</style>\n",
       "<table border=\"1\" class=\"dataframe\">\n",
       "  <thead>\n",
       "    <tr style=\"text-align: right;\">\n",
       "      <th></th>\n",
       "      <th>9</th>\n",
       "      <th>10</th>\n",
       "      <th>11</th>\n",
       "      <th>12</th>\n",
       "      <th>13</th>\n",
       "      <th>14</th>\n",
       "      <th>15</th>\n",
       "      <th>16</th>\n",
       "      <th>17</th>\n",
       "      <th>18</th>\n",
       "      <th>...</th>\n",
       "      <th>20</th>\n",
       "      <th>21</th>\n",
       "      <th>22</th>\n",
       "      <th>23</th>\n",
       "      <th>24</th>\n",
       "      <th>25</th>\n",
       "      <th>26</th>\n",
       "      <th>27</th>\n",
       "      <th>28</th>\n",
       "      <th>29</th>\n",
       "    </tr>\n",
       "    <tr>\n",
       "      <th>time</th>\n",
       "      <th></th>\n",
       "      <th></th>\n",
       "      <th></th>\n",
       "      <th></th>\n",
       "      <th></th>\n",
       "      <th></th>\n",
       "      <th></th>\n",
       "      <th></th>\n",
       "      <th></th>\n",
       "      <th></th>\n",
       "      <th></th>\n",
       "      <th></th>\n",
       "      <th></th>\n",
       "      <th></th>\n",
       "      <th></th>\n",
       "      <th></th>\n",
       "      <th></th>\n",
       "      <th></th>\n",
       "      <th></th>\n",
       "      <th></th>\n",
       "      <th></th>\n",
       "    </tr>\n",
       "  </thead>\n",
       "  <tbody>\n",
       "    <tr>\n",
       "      <th>00:00:00</th>\n",
       "      <td>2319.43</td>\n",
       "      <td>2380.31</td>\n",
       "      <td>2283.87</td>\n",
       "      <td>2165.11</td>\n",
       "      <td>2140.82</td>\n",
       "      <td>2016.19</td>\n",
       "      <td>1880.24</td>\n",
       "      <td>1673.24</td>\n",
       "      <td>1781.98</td>\n",
       "      <td>1770.85</td>\n",
       "      <td>...</td>\n",
       "      <td>1905.57</td>\n",
       "      <td>1794.49</td>\n",
       "      <td>1837.89</td>\n",
       "      <td>2016.32</td>\n",
       "      <td>1899.06</td>\n",
       "      <td>1807.17</td>\n",
       "      <td>1763.10</td>\n",
       "      <td>1864.32</td>\n",
       "      <td>1869.17</td>\n",
       "      <td>1861.12</td>\n",
       "    </tr>\n",
       "    <tr>\n",
       "      <th>00:05:00</th>\n",
       "      <td>2300.97</td>\n",
       "      <td>2367.30</td>\n",
       "      <td>2220.99</td>\n",
       "      <td>2125.92</td>\n",
       "      <td>2113.14</td>\n",
       "      <td>1998.45</td>\n",
       "      <td>1878.65</td>\n",
       "      <td>1671.83</td>\n",
       "      <td>1759.52</td>\n",
       "      <td>1740.50</td>\n",
       "      <td>...</td>\n",
       "      <td>1886.34</td>\n",
       "      <td>1795.78</td>\n",
       "      <td>1845.33</td>\n",
       "      <td>1987.13</td>\n",
       "      <td>1881.36</td>\n",
       "      <td>1830.02</td>\n",
       "      <td>1749.68</td>\n",
       "      <td>1856.01</td>\n",
       "      <td>1863.78</td>\n",
       "      <td>1813.69</td>\n",
       "    </tr>\n",
       "    <tr>\n",
       "      <th>00:10:00</th>\n",
       "      <td>2298.15</td>\n",
       "      <td>2342.32</td>\n",
       "      <td>2194.09</td>\n",
       "      <td>2113.58</td>\n",
       "      <td>2083.93</td>\n",
       "      <td>1983.69</td>\n",
       "      <td>1866.09</td>\n",
       "      <td>1647.21</td>\n",
       "      <td>1758.92</td>\n",
       "      <td>1734.35</td>\n",
       "      <td>...</td>\n",
       "      <td>1844.60</td>\n",
       "      <td>1756.93</td>\n",
       "      <td>1826.49</td>\n",
       "      <td>1995.60</td>\n",
       "      <td>1863.87</td>\n",
       "      <td>1811.94</td>\n",
       "      <td>1744.79</td>\n",
       "      <td>1830.61</td>\n",
       "      <td>1828.91</td>\n",
       "      <td>1815.72</td>\n",
       "    </tr>\n",
       "    <tr>\n",
       "      <th>00:15:00</th>\n",
       "      <td>2267.14</td>\n",
       "      <td>2318.59</td>\n",
       "      <td>2198.71</td>\n",
       "      <td>2115.86</td>\n",
       "      <td>2081.58</td>\n",
       "      <td>1948.07</td>\n",
       "      <td>1847.40</td>\n",
       "      <td>1620.10</td>\n",
       "      <td>1736.61</td>\n",
       "      <td>1723.62</td>\n",
       "      <td>...</td>\n",
       "      <td>1872.64</td>\n",
       "      <td>1769.04</td>\n",
       "      <td>1808.62</td>\n",
       "      <td>1983.07</td>\n",
       "      <td>1851.78</td>\n",
       "      <td>1752.79</td>\n",
       "      <td>1731.72</td>\n",
       "      <td>1820.61</td>\n",
       "      <td>1841.75</td>\n",
       "      <td>1804.82</td>\n",
       "    </tr>\n",
       "    <tr>\n",
       "      <th>00:20:00</th>\n",
       "      <td>2257.94</td>\n",
       "      <td>2312.49</td>\n",
       "      <td>2202.56</td>\n",
       "      <td>2099.84</td>\n",
       "      <td>2078.93</td>\n",
       "      <td>1939.29</td>\n",
       "      <td>1822.96</td>\n",
       "      <td>1605.38</td>\n",
       "      <td>1725.09</td>\n",
       "      <td>1707.29</td>\n",
       "      <td>...</td>\n",
       "      <td>1820.45</td>\n",
       "      <td>1768.90</td>\n",
       "      <td>1795.87</td>\n",
       "      <td>1967.24</td>\n",
       "      <td>1829.15</td>\n",
       "      <td>1750.78</td>\n",
       "      <td>1712.27</td>\n",
       "      <td>1819.67</td>\n",
       "      <td>1817.94</td>\n",
       "      <td>1795.77</td>\n",
       "    </tr>\n",
       "  </tbody>\n",
       "</table>\n",
       "<p>5 rows × 21 columns</p>\n",
       "</div>"
      ],
      "text/plain": [
       "                9       10       11       12       13       14       15  \\\n",
       "time                                                                      \n",
       "00:00:00  2319.43  2380.31  2283.87  2165.11  2140.82  2016.19  1880.24   \n",
       "00:05:00  2300.97  2367.30  2220.99  2125.92  2113.14  1998.45  1878.65   \n",
       "00:10:00  2298.15  2342.32  2194.09  2113.58  2083.93  1983.69  1866.09   \n",
       "00:15:00  2267.14  2318.59  2198.71  2115.86  2081.58  1948.07  1847.40   \n",
       "00:20:00  2257.94  2312.49  2202.56  2099.84  2078.93  1939.29  1822.96   \n",
       "\n",
       "               16       17       18   ...          20       21       22  \\\n",
       "time                                  ...                                 \n",
       "00:00:00  1673.24  1781.98  1770.85   ...     1905.57  1794.49  1837.89   \n",
       "00:05:00  1671.83  1759.52  1740.50   ...     1886.34  1795.78  1845.33   \n",
       "00:10:00  1647.21  1758.92  1734.35   ...     1844.60  1756.93  1826.49   \n",
       "00:15:00  1620.10  1736.61  1723.62   ...     1872.64  1769.04  1808.62   \n",
       "00:20:00  1605.38  1725.09  1707.29   ...     1820.45  1768.90  1795.87   \n",
       "\n",
       "               23       24       25       26       27       28       29  \n",
       "time                                                                     \n",
       "00:00:00  2016.32  1899.06  1807.17  1763.10  1864.32  1869.17  1861.12  \n",
       "00:05:00  1987.13  1881.36  1830.02  1749.68  1856.01  1863.78  1813.69  \n",
       "00:10:00  1995.60  1863.87  1811.94  1744.79  1830.61  1828.91  1815.72  \n",
       "00:15:00  1983.07  1851.78  1752.79  1731.72  1820.61  1841.75  1804.82  \n",
       "00:20:00  1967.24  1829.15  1750.78  1712.27  1819.67  1817.94  1795.77  \n",
       "\n",
       "[5 rows x 21 columns]"
      ]
     },
     "execution_count": 368,
     "metadata": {},
     "output_type": "execute_result"
    }
   ],
   "source": [
    "df_last_21.head()"
   ]
  },
  {
   "cell_type": "code",
   "execution_count": 324,
   "metadata": {
    "ExecuteTime": {
     "end_time": "2018-11-24T10:37:09.835680Z",
     "start_time": "2018-11-24T10:37:09.827169Z"
    }
   },
   "outputs": [],
   "source": [
    "dt_df_last_20 = df_last_21.diff(1, axis=1).dropna(axis=1)  #taking last 21 days, differencing and dropping the nan value"
   ]
  },
  {
   "cell_type": "code",
   "execution_count": 325,
   "metadata": {
    "ExecuteTime": {
     "end_time": "2018-11-24T10:37:10.686794Z",
     "start_time": "2018-11-24T10:37:10.638311Z"
    }
   },
   "outputs": [
    {
     "data": {
      "text/html": [
       "<div>\n",
       "<style scoped>\n",
       "    .dataframe tbody tr th:only-of-type {\n",
       "        vertical-align: middle;\n",
       "    }\n",
       "\n",
       "    .dataframe tbody tr th {\n",
       "        vertical-align: top;\n",
       "    }\n",
       "\n",
       "    .dataframe thead th {\n",
       "        text-align: right;\n",
       "    }\n",
       "</style>\n",
       "<table border=\"1\" class=\"dataframe\">\n",
       "  <thead>\n",
       "    <tr style=\"text-align: right;\">\n",
       "      <th></th>\n",
       "      <th>10</th>\n",
       "      <th>11</th>\n",
       "      <th>12</th>\n",
       "      <th>13</th>\n",
       "      <th>14</th>\n",
       "      <th>15</th>\n",
       "      <th>16</th>\n",
       "      <th>17</th>\n",
       "      <th>18</th>\n",
       "      <th>19</th>\n",
       "      <th>20</th>\n",
       "      <th>21</th>\n",
       "      <th>22</th>\n",
       "      <th>23</th>\n",
       "      <th>24</th>\n",
       "      <th>25</th>\n",
       "      <th>26</th>\n",
       "      <th>27</th>\n",
       "      <th>28</th>\n",
       "      <th>29</th>\n",
       "    </tr>\n",
       "    <tr>\n",
       "      <th>time</th>\n",
       "      <th></th>\n",
       "      <th></th>\n",
       "      <th></th>\n",
       "      <th></th>\n",
       "      <th></th>\n",
       "      <th></th>\n",
       "      <th></th>\n",
       "      <th></th>\n",
       "      <th></th>\n",
       "      <th></th>\n",
       "      <th></th>\n",
       "      <th></th>\n",
       "      <th></th>\n",
       "      <th></th>\n",
       "      <th></th>\n",
       "      <th></th>\n",
       "      <th></th>\n",
       "      <th></th>\n",
       "      <th></th>\n",
       "      <th></th>\n",
       "    </tr>\n",
       "  </thead>\n",
       "  <tbody>\n",
       "    <tr>\n",
       "      <th>00:00:00</th>\n",
       "      <td>60.88</td>\n",
       "      <td>-96.44</td>\n",
       "      <td>-118.76</td>\n",
       "      <td>-24.29</td>\n",
       "      <td>-124.63</td>\n",
       "      <td>-135.95</td>\n",
       "      <td>-207.00</td>\n",
       "      <td>108.74</td>\n",
       "      <td>-11.13</td>\n",
       "      <td>67.15</td>\n",
       "      <td>67.57</td>\n",
       "      <td>-111.08</td>\n",
       "      <td>43.40</td>\n",
       "      <td>178.43</td>\n",
       "      <td>-117.26</td>\n",
       "      <td>-91.89</td>\n",
       "      <td>-44.07</td>\n",
       "      <td>101.22</td>\n",
       "      <td>4.85</td>\n",
       "      <td>-8.05</td>\n",
       "    </tr>\n",
       "    <tr>\n",
       "      <th>00:05:00</th>\n",
       "      <td>66.33</td>\n",
       "      <td>-146.31</td>\n",
       "      <td>-95.07</td>\n",
       "      <td>-12.78</td>\n",
       "      <td>-114.69</td>\n",
       "      <td>-119.80</td>\n",
       "      <td>-206.82</td>\n",
       "      <td>87.69</td>\n",
       "      <td>-19.02</td>\n",
       "      <td>80.24</td>\n",
       "      <td>65.60</td>\n",
       "      <td>-90.56</td>\n",
       "      <td>49.55</td>\n",
       "      <td>141.80</td>\n",
       "      <td>-105.77</td>\n",
       "      <td>-51.34</td>\n",
       "      <td>-80.34</td>\n",
       "      <td>106.33</td>\n",
       "      <td>7.77</td>\n",
       "      <td>-50.09</td>\n",
       "    </tr>\n",
       "    <tr>\n",
       "      <th>00:10:00</th>\n",
       "      <td>44.17</td>\n",
       "      <td>-148.23</td>\n",
       "      <td>-80.51</td>\n",
       "      <td>-29.65</td>\n",
       "      <td>-100.24</td>\n",
       "      <td>-117.60</td>\n",
       "      <td>-218.88</td>\n",
       "      <td>111.71</td>\n",
       "      <td>-24.57</td>\n",
       "      <td>53.06</td>\n",
       "      <td>57.19</td>\n",
       "      <td>-87.67</td>\n",
       "      <td>69.56</td>\n",
       "      <td>169.11</td>\n",
       "      <td>-131.73</td>\n",
       "      <td>-51.93</td>\n",
       "      <td>-67.15</td>\n",
       "      <td>85.82</td>\n",
       "      <td>-1.70</td>\n",
       "      <td>-13.19</td>\n",
       "    </tr>\n",
       "    <tr>\n",
       "      <th>00:15:00</th>\n",
       "      <td>51.45</td>\n",
       "      <td>-119.88</td>\n",
       "      <td>-82.85</td>\n",
       "      <td>-34.28</td>\n",
       "      <td>-133.51</td>\n",
       "      <td>-100.67</td>\n",
       "      <td>-227.30</td>\n",
       "      <td>116.51</td>\n",
       "      <td>-12.99</td>\n",
       "      <td>74.53</td>\n",
       "      <td>74.49</td>\n",
       "      <td>-103.60</td>\n",
       "      <td>39.58</td>\n",
       "      <td>174.45</td>\n",
       "      <td>-131.29</td>\n",
       "      <td>-98.99</td>\n",
       "      <td>-21.07</td>\n",
       "      <td>88.89</td>\n",
       "      <td>21.14</td>\n",
       "      <td>-36.93</td>\n",
       "    </tr>\n",
       "    <tr>\n",
       "      <th>00:20:00</th>\n",
       "      <td>54.55</td>\n",
       "      <td>-109.93</td>\n",
       "      <td>-102.72</td>\n",
       "      <td>-20.91</td>\n",
       "      <td>-139.64</td>\n",
       "      <td>-116.33</td>\n",
       "      <td>-217.58</td>\n",
       "      <td>119.71</td>\n",
       "      <td>-17.80</td>\n",
       "      <td>71.28</td>\n",
       "      <td>41.88</td>\n",
       "      <td>-51.55</td>\n",
       "      <td>26.97</td>\n",
       "      <td>171.37</td>\n",
       "      <td>-138.09</td>\n",
       "      <td>-78.37</td>\n",
       "      <td>-38.51</td>\n",
       "      <td>107.40</td>\n",
       "      <td>-1.73</td>\n",
       "      <td>-22.17</td>\n",
       "    </tr>\n",
       "  </tbody>\n",
       "</table>\n",
       "</div>"
      ],
      "text/plain": [
       "             10      11      12     13      14      15      16      17     18  \\\n",
       "time                                                                            \n",
       "00:00:00  60.88  -96.44 -118.76 -24.29 -124.63 -135.95 -207.00  108.74 -11.13   \n",
       "00:05:00  66.33 -146.31  -95.07 -12.78 -114.69 -119.80 -206.82   87.69 -19.02   \n",
       "00:10:00  44.17 -148.23  -80.51 -29.65 -100.24 -117.60 -218.88  111.71 -24.57   \n",
       "00:15:00  51.45 -119.88  -82.85 -34.28 -133.51 -100.67 -227.30  116.51 -12.99   \n",
       "00:20:00  54.55 -109.93 -102.72 -20.91 -139.64 -116.33 -217.58  119.71 -17.80   \n",
       "\n",
       "             19     20      21     22      23      24     25     26      27  \\\n",
       "time                                                                          \n",
       "00:00:00  67.15  67.57 -111.08  43.40  178.43 -117.26 -91.89 -44.07  101.22   \n",
       "00:05:00  80.24  65.60  -90.56  49.55  141.80 -105.77 -51.34 -80.34  106.33   \n",
       "00:10:00  53.06  57.19  -87.67  69.56  169.11 -131.73 -51.93 -67.15   85.82   \n",
       "00:15:00  74.53  74.49 -103.60  39.58  174.45 -131.29 -98.99 -21.07   88.89   \n",
       "00:20:00  71.28  41.88  -51.55  26.97  171.37 -138.09 -78.37 -38.51  107.40   \n",
       "\n",
       "             28     29  \n",
       "time                    \n",
       "00:00:00   4.85  -8.05  \n",
       "00:05:00   7.77 -50.09  \n",
       "00:10:00  -1.70 -13.19  \n",
       "00:15:00  21.14 -36.93  \n",
       "00:20:00  -1.73 -22.17  "
      ]
     },
     "execution_count": 325,
     "metadata": {},
     "output_type": "execute_result"
    }
   ],
   "source": [
    "dt_df_last_20.head()"
   ]
  },
  {
   "cell_type": "code",
   "execution_count": 326,
   "metadata": {
    "ExecuteTime": {
     "end_time": "2018-11-24T10:37:39.961768Z",
     "start_time": "2018-11-24T10:37:39.955937Z"
    }
   },
   "outputs": [],
   "source": [
    "dt_df_last_20 = scaler.transform(dt_df_last_20)  # df is now a numpy array"
   ]
  },
  {
   "cell_type": "code",
   "execution_count": 328,
   "metadata": {
    "ExecuteTime": {
     "end_time": "2018-11-24T10:37:58.761714Z",
     "start_time": "2018-11-24T10:37:58.757159Z"
    }
   },
   "outputs": [],
   "source": [
    "X = dt_df_last_20.reshape(dt_df_last_20.shape[0], 1, nlags)  # nlags=20"
   ]
  },
  {
   "cell_type": "code",
   "execution_count": 332,
   "metadata": {
    "ExecuteTime": {
     "end_time": "2018-11-24T10:38:29.261005Z",
     "start_time": "2018-11-24T10:38:28.967508Z"
    }
   },
   "outputs": [],
   "source": [
    "Y = model.predict(X, batch_size=1)  # predict for today's values"
   ]
  },
  {
   "cell_type": "code",
   "execution_count": 334,
   "metadata": {
    "ExecuteTime": {
     "end_time": "2018-11-24T10:38:49.121075Z",
     "start_time": "2018-11-24T10:38:49.116506Z"
    }
   },
   "outputs": [],
   "source": [
    "inv_Y = scaler.inverse_transform(Y)  # invert to detrended values' scale"
   ]
  },
  {
   "cell_type": "code",
   "execution_count": 370,
   "metadata": {
    "ExecuteTime": {
     "end_time": "2018-11-24T10:53:55.033394Z",
     "start_time": "2018-11-24T10:53:55.027335Z"
    }
   },
   "outputs": [
    {
     "data": {
      "text/plain": [
       "(288, 1)"
      ]
     },
     "execution_count": 370,
     "metadata": {},
     "output_type": "execute_result"
    }
   ],
   "source": [
    "inv_Y.shape"
   ]
  },
  {
   "cell_type": "code",
   "execution_count": 379,
   "metadata": {
    "ExecuteTime": {
     "end_time": "2018-11-24T10:56:18.226617Z",
     "start_time": "2018-11-24T10:56:18.219057Z"
    }
   },
   "outputs": [],
   "source": [
    "rescaled_Y = [x+y for x, y in zip(inv_Y[:, 0], df.iloc[:, -1])]  # last day's values added to inv_Y to get it to original scale"
   ]
  },
  {
   "cell_type": "code",
   "execution_count": 382,
   "metadata": {
    "ExecuteTime": {
     "end_time": "2018-11-24T10:58:12.808053Z",
     "start_time": "2018-11-24T10:58:12.801847Z"
    }
   },
   "outputs": [],
   "source": [
    "## get today's load\n",
    "\n",
    "def get_load_data(date):\n",
    "    load=[]\n",
    "    url = 'http://www.delhisldc.org/Loaddata.aspx?mode='\n",
    "    print('Scraping ' + date, end=' ')\n",
    "    resp = requests.get(url + date) # send a get request to the url, get response\n",
    "    soup = BeautifulSoup(resp.text, 'lxml') # Yummy HTML soup\n",
    "    table = soup.find('table', {'id':'ContentPlaceHolder3_DGGridAv'}) # get the table from html\n",
    "    trs = table.findAll('tr') # extract all rows of the table\n",
    "    if len(trs[1:])==288: # no need to create csv file, if there's no data\n",
    "        with open('monthdata.csv', 'a') as f:  #'a' makes sure the values are appended at the end of the already existing file\n",
    "            \n",
    "            for tr in trs[1:]:\n",
    "                time, delhi = tr.findChildren('font')[:2]\n",
    "                load.append(delhi.text)\n",
    "    if len(trs[1:]) != 288:\n",
    "        print('Some of the load values are missing..')\n",
    "    else:\n",
    "        print('Done')\n",
    "    return load\n",
    "\n",
    "yesterday = datetime.today() - timedelta(1)\n",
    "yesterday = yesterday.strftime('%d/%m/%Y')\n",
    "load = get_load_data(yesterday)"
   ]
  },
  {
   "cell_type": "code",
   "execution_count": 366,
   "metadata": {
    "ExecuteTime": {
     "end_time": "2018-11-24T10:49:48.691988Z",
     "start_time": "2018-11-24T10:49:48.686811Z"
    }
   },
   "outputs": [],
   "source": [
    "load = [float(x) for x in load]"
   ]
  },
  {
   "cell_type": "code",
   "execution_count": 381,
   "metadata": {
    "ExecuteTime": {
     "end_time": "2018-11-24T10:56:37.385421Z",
     "start_time": "2018-11-24T10:56:36.761328Z"
    }
   },
   "outputs": [
    {
     "data": {
      "text/plain": [
       "[<matplotlib.lines.Line2D at 0x7f151c232710>]"
      ]
     },
     "execution_count": 381,
     "metadata": {},
     "output_type": "execute_result"
    },
    {
     "data": {
      "image/png": "[encoded data removed]",
      "text/plain": [
       "<Figure size 1080x432 with 1 Axes>"
      ]
     },
     "metadata": {
      "needs_background": "light"
     },
     "output_type": "display_data"
    }
   ],
   "source": [
    "plt.plot(load)\n",
    "plt.plot(rescaled_Y)"
   ]
  },
  {
   "cell_type": "markdown",
   "metadata": {},
   "source": [
    "#### References:\n",
    "\n",
    "https://machinelearningmastery.com/time-series-forecasting-long-short-term-memory-network-python/\n",
    "https://machinelearningmastery.com/multi-step-time-series-forecasting-long-short-term-memory-networks-python/"
   ]
  },
  {
   "cell_type": "code",
   "execution_count": null,
   "metadata": {},
   "outputs": [],
   "source": []
  },
  {
   "cell_type": "code",
   "execution_count": null,
   "metadata": {},
   "outputs": [],
   "source": []
  },
  {
   "cell_type": "code",
   "execution_count": null,
   "metadata": {},
   "outputs": [],
   "source": []
  },
  {
   "cell_type": "code",
   "execution_count": null,
   "metadata": {},
   "outputs": [],
   "source": []
  },
  {
   "cell_type": "code",
   "execution_count": null,
   "metadata": {},
   "outputs": [],
   "source": []
  },
  {
   "cell_type": "code",
   "execution_count": null,
   "metadata": {},
   "outputs": [],
   "source": []
  },
  {
   "cell_type": "code",
   "execution_count": null,
   "metadata": {},
   "outputs": [],
   "source": []
  },
  {
   "cell_type": "code",
   "execution_count": null,
   "metadata": {},
   "outputs": [],
   "source": [
    "!jupyter nbconvert --to script delhi.ipynb"
   ]
  },
  {
   "cell_type": "code",
   "execution_count": null,
   "metadata": {},
   "outputs": [],
   "source": []
  },
  {
   "cell_type": "code",
   "execution_count": null,
   "metadata": {},
   "outputs": [],
   "source": []
  },
  {
   "cell_type": "code",
   "execution_count": null,
   "metadata": {},
   "outputs": [],
   "source": []
  },
  {
   "cell_type": "code",
   "execution_count": null,
   "metadata": {},
   "outputs": [],
   "source": []
  }
 ],
 "metadata": {
  "kernelspec": {
   "display_name": "TF",
   "language": "python",
   "name": "tf"
  },
  "language_info": {
   "codemirror_mode": {
    "name": "ipython",
    "version": 3
   },
   "file_extension": ".py",
   "mimetype": "text/x-python",
   "name": "python",
   "nbconvert_exporter": "python",
   "pygments_lexer": "ipython3",
   "version": "3.5.6"
  }
 },
 "nbformat": 4,
 "nbformat_minor": 2
}
